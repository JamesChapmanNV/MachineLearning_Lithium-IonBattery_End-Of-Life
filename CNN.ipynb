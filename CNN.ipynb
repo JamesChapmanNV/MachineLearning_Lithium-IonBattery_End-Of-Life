{
 "cells": [
  {
   "cell_type": "code",
   "execution_count": 1,
   "id": "aa65c7c3",
   "metadata": {
    "scrolled": true
   },
   "outputs": [
    {
     "data": {
      "text/plain": [
       "<torch._C.Generator at 0x1396999e9f0>"
      ]
     },
     "execution_count": 1,
     "metadata": {},
     "output_type": "execute_result"
    }
   ],
   "source": [
    "import matplotlib.pyplot as plt\n",
    "import numpy as np\n",
    "import pandas as pd\n",
    "\n",
    "from sklearn import preprocessing\n",
    "from sklearn.metrics import mean_squared_error,mean_absolute_error\n",
    "from sklearn.model_selection import GridSearchCV\n",
    "\n",
    "import torch\n",
    "import torch.nn as nn\n",
    "import torch.optim as optim\n",
    "from torch.utils.data import DataLoader,Dataset\n",
    "from torch.autograd import Variable\n",
    "\n",
    "torch.manual_seed(0)"
   ]
  },
  {
   "cell_type": "code",
   "execution_count": 2,
   "id": "9678d3f0",
   "metadata": {},
   "outputs": [],
   "source": [
    "#Load tabular data\n",
    "Dataset=pd.read_csv(r'data/TabularSummaryBatteryData.csv')\n",
    "\n",
    "#Scale Cell life target Values\n",
    "Dataset['cell_life']=np.log10(Dataset['cell_life'])\n",
    "\n",
    "numBat1=41\n",
    "numBat2=43\n",
    "numBat3=40\n",
    "numBat=124\n",
    "test_ind = np.hstack((np.arange(0,(numBat1+numBat2),2),83))\n",
    "test_edited_ind = np.delete(test_ind, 21) # Remove battery \n",
    "train_ind = np.arange(1,(numBat1+numBat2-1),2)\n",
    "secondary_test_ind = np.arange(numBat-numBat3,numBat)\n",
    "\n",
    "Training_Data=Dataset.iloc[train_ind]\n",
    "Testing_Data=Dataset.iloc[test_edited_ind]\n",
    "Secondary_Data=Dataset.iloc[secondary_test_ind]\n",
    "\n",
    "#choosing model features According to table 1\n",
    "target_features=['cell_life']\n",
    "\n",
    "varmod_features=['variance_dQ_100_10']\n",
    "\n",
    "dismod_features=['minimum_dQ_100_10',\n",
    "                 'variance_dQ_100_10',\n",
    "                 'skewness_dQ_100_10',\n",
    "                 'kurtosis_dQ_100_10',\n",
    "                 'Discharge_Cap_2',\n",
    "                 'Diff_MaxCap_DC2']\n",
    "    \n",
    "full_features=['minimum_dQ_100_10',\n",
    "               'variance_dQ_100_10',\n",
    "               'Slope_Cap_Fade_2_100',\n",
    "               'Intercept_Cap_Fade_2_100',\n",
    "               'Diff_MaxCap_DC2',\n",
    "               'Discharge_Cap_2',\n",
    "               'Avg_charge_time',\n",
    "               'Temp_Integ_2_100',\n",
    "               'Min_IR',\n",
    "               'Diff_IR_2_100']"
   ]
  },
  {
   "cell_type": "code",
   "execution_count": 3,
   "id": "a7debfc2",
   "metadata": {},
   "outputs": [],
   "source": [
    "#Use only the discharge model Tabular features\n",
    "features = dismod_features #full_features\n",
    "X_train=Training_Data[features].to_numpy()\n",
    "X_test=Testing_Data[features].to_numpy()\n",
    "X_sec=Secondary_Data[features].to_numpy()\n",
    "\n",
    "#Scale\n",
    "scaler = preprocessing.StandardScaler().fit(X_train)\n",
    "Tabular_Train = scaler.transform(X_train)\n",
    "Tabular_test = scaler.transform(X_test)\n",
    "Tabular_sec = scaler.transform(X_sec)"
   ]
  },
  {
   "cell_type": "code",
   "execution_count": 4,
   "id": "c725d1cb",
   "metadata": {},
   "outputs": [
    {
     "name": "stdout",
     "output_type": "stream",
     "text": [
      "tensor(1.0000, dtype=torch.float64) tensor(-0.6982, dtype=torch.float64)\n",
      "tensor(0.8786, dtype=torch.float64) tensor(-0.6188, dtype=torch.float64)\n",
      "tensor(0.4862, dtype=torch.float64) tensor(-0.3183, dtype=torch.float64)\n",
      "torch.Size([41, 100, 99])\n",
      "torch.Size([42, 100, 99])\n",
      "torch.Size([40, 100, 99])\n"
     ]
    }
   ],
   "source": [
    "#Load discharge capacity data\n",
    "train_Qdlin=torch.load(r'data/DischargeCapacity-InterpolatedData_Train.pt')\n",
    "test_Qdlin=torch.load(r'data/DischargeCapacity-InterpolatedData_Test.pt')\n",
    "secondary_test_Qdlin=torch.load(r'data/DischargeCapacity-InterpolatedData_Secondary_Test.pt')\n",
    "\n",
    "print(train_Qdlin.std(),train_Qdlin.mean())\n",
    "print(test_Qdlin.std(),test_Qdlin.mean())\n",
    "print(secondary_test_Qdlin.std(),secondary_test_Qdlin.mean())\n",
    "\n",
    "print(train_Qdlin.shape)\n",
    "print(test_Qdlin.shape)\n",
    "print(secondary_test_Qdlin.shape)"
   ]
  },
  {
   "cell_type": "code",
   "execution_count": 5,
   "id": "05dd7ec5",
   "metadata": {},
   "outputs": [],
   "source": [
    "y_train=Training_Data[target_features].to_numpy()\n",
    "y_test=Testing_Data[target_features].to_numpy()\n",
    "y_sec=Secondary_Data[target_features].to_numpy()\n",
    "\n",
    "y_train = torch.tensor(y_train)\n",
    "y_test = torch.tensor(y_test)\n",
    "y_sec = torch.tensor(y_sec)\n",
    "\n",
    "y_train_mean = torch.mean(y_train)\n",
    "y_train = y_train - y_train_mean\n",
    "y_test = y_test - y_train_mean\n",
    "y_sec = y_sec - y_train_mean\n",
    "#Be sure to add y_train_mean and 10** All results"
   ]
  },
  {
   "cell_type": "code",
   "execution_count": 6,
   "id": "df622a5f",
   "metadata": {},
   "outputs": [],
   "source": [
    "from torch.utils.data import Dataset\n",
    "class CustomDataset(Dataset):\n",
    "    def __init__(self, features, targets, tabular):\n",
    "        self.features = features\n",
    "        self.targets = targets\n",
    "        self.tabular = tabular #Merge tabular data set\n",
    "    \n",
    "    def __getitem__(self, idx):\n",
    "        return self.features[idx], self.targets[idx], self.tabular[idx]\n",
    "  \n",
    "    def __len__(self):\n",
    "        return len(self.features)"
   ]
  },
  {
   "cell_type": "code",
   "execution_count": 7,
   "id": "641f8489",
   "metadata": {},
   "outputs": [],
   "source": [
    "class CNN(nn.Module):\n",
    "\n",
    "    def __init__(self,inputSize):\n",
    "        \n",
    "        super(CNN, self).__init__()\n",
    "        self.firstEpochFlag=True\n",
    "        # Calculates size of first linear layer \n",
    "        # This allows the Module to be used with different number of cycles\n",
    "        self.linearSize=((((inputSize-2)//2)-2)//2)*23*16+6\n",
    "        \n",
    "        self.convolutional_layer = nn.Sequential(            \n",
    "            nn.Conv2d(in_channels=1, out_channels=6, kernel_size=(3,3)),\n",
    "            nn.ReLU(), \n",
    "            nn.MaxPool2d(kernel_size=2, stride=2),\n",
    "            #nn.BatchNorm2d(3),\n",
    "            nn.Conv2d(in_channels=6, out_channels=16, kernel_size=(3,3)),\n",
    "            nn.ReLU(),\n",
    "            nn.MaxPool2d(kernel_size=2, stride=2, padding=0),\n",
    "        )\n",
    "        self.linear_layer = nn.Sequential(\n",
    "            nn.Linear(self.linearSize,120),\n",
    "            #nn.Dropout(.1)\n",
    "            nn.ReLU(),\n",
    "            nn.Linear(120,84),  \n",
    "            nn.ReLU(),\n",
    "            nn.Linear(84,1),\n",
    "        )\n",
    "\n",
    "    def forward(self, x,tabular):\n",
    "        #Print the shapes of the data on the first Epoch\n",
    "        if(self.firstEpochFlag):print(x.shape)\n",
    "        \n",
    "        x = x.view(-1, 1,x.shape[1],99)\n",
    "        if(self.firstEpochFlag):print(x.shape)\n",
    "        \n",
    "        clout = self.convolutional_layer(x)\n",
    "        if(self.firstEpochFlag):print(clout.shape)\n",
    "        \n",
    "        flat = torch.flatten(clout, 1)\n",
    "        if(self.firstEpochFlag):print(flat.shape)\n",
    "            \n",
    "        #Concatenate tabular features!\n",
    "        flat=torch.cat((flat, tabular), -1)\n",
    "        if(self.firstEpochFlag):\n",
    "            print(tabular.shape)\n",
    "            print(flat.shape)\n",
    "            self.firstEpochFlag=False\n",
    "           \n",
    "        output = self.linear_layer(flat)\n",
    "        return output"
   ]
  },
  {
   "cell_type": "code",
   "execution_count": 8,
   "id": "2609a9f8",
   "metadata": {},
   "outputs": [],
   "source": [
    "def train(model,train_loader,criterion,optimizer,epochs,device):\n",
    "    for epoch in range(epochs):\n",
    "        model.train()\n",
    "        for inputs, targets, tabular in train_loader:\n",
    "            optimizer.zero_grad()\n",
    "            inputs = inputs.to(device)\n",
    "            targets = targets.to(device)\n",
    "            tabular = tabular.to(device)\n",
    "            \n",
    "            outputs = model(inputs,tabular)\n",
    "            outputs.to(device)\n",
    "            loss = criterion(outputs, targets)\n",
    "            loss.backward()\n",
    "            optimizer.step()\n",
    "        model.eval()\n",
    "        if(epoch%100 == 0):\n",
    "            print('--',epoch,'-epoch--RMSE-- ',\n",
    "                  np.sqrt(mean_squared_error(10**(targets.cpu().detach().numpy()+y_train_mean.numpy()), \n",
    "                                          10**(outputs.cpu().detach().numpy()+y_train_mean.numpy()))))\n",
    "    return model"
   ]
  },
  {
   "cell_type": "code",
   "execution_count": 9,
   "id": "120180ca",
   "metadata": {},
   "outputs": [],
   "source": [
    "def testALL(model):\n",
    "    dataloaders = [['---RMSE---Train',train_Qdlin_loader],\n",
    "                   ['---RMSE---Test',test_Qdlin_loader],\n",
    "                   ['---RMSE---Test Secondary',secondary_test_Qdlin_loader]]\n",
    "    for dataloader in dataloaders:\n",
    "        for inputs, targets,tabular in dataloader[1]:\n",
    "            inputs = inputs.to(device)\n",
    "            targets = targets.to(device)\n",
    "            tabular = tabular.to(device)\n",
    "            \n",
    "            outputs = model(inputs,tabular)\n",
    "            outputs.to(device)\n",
    "            loss = criterion(outputs, targets)\n",
    "            print(np.sqrt(mean_squared_error(10**(targets.cpu().detach().numpy()+y_train_mean.numpy()), \n",
    "                                             10**(outputs.cpu().detach().numpy()+y_train_mean.numpy()))),dataloader[0])"
   ]
  },
  {
   "cell_type": "code",
   "execution_count": 10,
   "id": "937e5c15",
   "metadata": {},
   "outputs": [],
   "source": [
    "torch.set_default_dtype(torch.float64)"
   ]
  },
  {
   "cell_type": "code",
   "execution_count": 11,
   "id": "b7fc6ebf",
   "metadata": {},
   "outputs": [],
   "source": [
    "train_Dataset = CustomDataset(train_Qdlin,y_train,Tabular_Train)\n",
    "test_Dataset = CustomDataset(test_Qdlin,y_test,Tabular_test)\n",
    "secondary_test_Dataset = CustomDataset(secondary_test_Qdlin,y_sec,Tabular_sec)\n",
    "\n",
    "train_Qdlin_loader = DataLoader(train_Dataset, batch_size=41, shuffle=True)\n",
    "test_Qdlin_loader = DataLoader(test_Dataset, batch_size=42, shuffle=True)\n",
    "secondary_test_Qdlin_loader = DataLoader(secondary_test_Dataset, batch_size=40, shuffle=True)"
   ]
  },
  {
   "cell_type": "markdown",
   "id": "2cce8271",
   "metadata": {},
   "source": [
    "# Hyper-parameters"
   ]
  },
  {
   "cell_type": "code",
   "execution_count": 12,
   "id": "39cd5aaa",
   "metadata": {},
   "outputs": [],
   "source": [
    "epochs = 5000\n",
    "learning_rate =.0001\n",
    "weight_decay = .001"
   ]
  },
  {
   "cell_type": "markdown",
   "id": "d7b9ed4a",
   "metadata": {},
   "source": [
    "# Train & Test"
   ]
  },
  {
   "cell_type": "code",
   "execution_count": 13,
   "id": "cd5a69eb",
   "metadata": {},
   "outputs": [
    {
     "name": "stdout",
     "output_type": "stream",
     "text": [
      "cuda:0\n"
     ]
    }
   ],
   "source": [
    "device = torch.device(\"cuda:0\" if torch.cuda.is_available() else \"cpu\")\n",
    "#device = torch.device(\"cpu\")\n",
    "print(device)"
   ]
  },
  {
   "cell_type": "code",
   "execution_count": 14,
   "id": "47967e7c",
   "metadata": {},
   "outputs": [
    {
     "name": "stdout",
     "output_type": "stream",
     "text": [
      "torch.Size([41, 100, 99])\n",
      "torch.Size([41, 1, 100, 99])\n",
      "torch.Size([41, 16, 23, 23])\n",
      "torch.Size([41, 8464])\n",
      "torch.Size([41, 6])\n",
      "torch.Size([41, 8470])\n",
      "-- 0 -epoch--RMSE--  345.414516519224\n",
      "-- 100 -epoch--RMSE--  34.13337887501485\n",
      "-- 200 -epoch--RMSE--  25.695042624259575\n",
      "-- 300 -epoch--RMSE--  23.167757796279336\n",
      "-- 400 -epoch--RMSE--  32.34280226863435\n",
      "-- 500 -epoch--RMSE--  19.3650298996491\n",
      "-- 600 -epoch--RMSE--  19.241104852701252\n",
      "-- 700 -epoch--RMSE--  18.24891895584896\n",
      "-- 800 -epoch--RMSE--  18.97845488928674\n",
      "-- 900 -epoch--RMSE--  18.212282028423814\n",
      "-- 1000 -epoch--RMSE--  20.371895770432502\n",
      "-- 1100 -epoch--RMSE--  18.437621348892183\n",
      "-- 1200 -epoch--RMSE--  21.823830696895477\n",
      "-- 1300 -epoch--RMSE--  16.72272654299441\n",
      "-- 1400 -epoch--RMSE--  18.48046684360875\n",
      "-- 1500 -epoch--RMSE--  19.08817968773417\n",
      "-- 1600 -epoch--RMSE--  15.608485506375395\n",
      "-- 1700 -epoch--RMSE--  15.598586563395463\n",
      "-- 1800 -epoch--RMSE--  19.402162351481934\n",
      "-- 1900 -epoch--RMSE--  21.855829018810823\n",
      "-- 2000 -epoch--RMSE--  16.605164063271094\n",
      "-- 2100 -epoch--RMSE--  16.20054879317179\n",
      "-- 2200 -epoch--RMSE--  16.151388071294427\n",
      "-- 2300 -epoch--RMSE--  18.425847842416065\n",
      "-- 2400 -epoch--RMSE--  16.612728765912713\n",
      "-- 2500 -epoch--RMSE--  15.431457170976545\n",
      "-- 2600 -epoch--RMSE--  15.417626143845991\n",
      "-- 2700 -epoch--RMSE--  14.555330932048173\n",
      "-- 2800 -epoch--RMSE--  21.011328150518548\n",
      "-- 2900 -epoch--RMSE--  14.439608989908526\n",
      "-- 3000 -epoch--RMSE--  14.74209881994978\n",
      "-- 3100 -epoch--RMSE--  14.240656365231544\n",
      "-- 3200 -epoch--RMSE--  14.561169274262438\n",
      "-- 3300 -epoch--RMSE--  18.046148741764092\n",
      "-- 3400 -epoch--RMSE--  16.26772236873165\n",
      "-- 3500 -epoch--RMSE--  14.165637683771145\n",
      "-- 3600 -epoch--RMSE--  14.093580534801609\n",
      "-- 3700 -epoch--RMSE--  14.679484617131472\n",
      "-- 3800 -epoch--RMSE--  14.522475874516275\n",
      "-- 3900 -epoch--RMSE--  18.568268842418163\n",
      "-- 4000 -epoch--RMSE--  14.331133420768875\n",
      "-- 4100 -epoch--RMSE--  15.229049430474204\n",
      "-- 4200 -epoch--RMSE--  14.033493317550654\n",
      "-- 4300 -epoch--RMSE--  14.615755680391253\n",
      "-- 4400 -epoch--RMSE--  14.122753795015077\n",
      "-- 4500 -epoch--RMSE--  18.402406763095232\n",
      "-- 4600 -epoch--RMSE--  17.77540889378944\n",
      "-- 4700 -epoch--RMSE--  14.209038039532661\n",
      "-- 4800 -epoch--RMSE--  17.137640922846018\n",
      "-- 4900 -epoch--RMSE--  13.75997764667782\n"
     ]
    }
   ],
   "source": [
    "criterion=nn.MSELoss()\n",
    "model=CNN(100) #Using only the First 100 cycles\n",
    "optimizer=optim.Adam(model.parameters(),weight_decay=weight_decay, lr=learning_rate)\n",
    "model = model.to(device)\n",
    "model = train(model,train_Qdlin_loader,criterion,optimizer,epochs,device)"
   ]
  },
  {
   "cell_type": "code",
   "execution_count": 15,
   "id": "b178bc43",
   "metadata": {},
   "outputs": [
    {
     "name": "stdout",
     "output_type": "stream",
     "text": [
      "17.72019831441169 ---RMSE---Train\n",
      "84.78603419011303 ---RMSE---Test\n",
      "140.3386225637014 ---RMSE---Test Secondary\n"
     ]
    }
   ],
   "source": [
    "testALL(model)"
   ]
  },
  {
   "cell_type": "markdown",
   "id": "2dbe39ed",
   "metadata": {},
   "source": [
    "################################################################################\n",
    "\n",
    "# Repeat using only the first 60 cycles\n",
    "\n",
    "################################################################################"
   ]
  },
  {
   "cell_type": "code",
   "execution_count": 16,
   "id": "0d55d1e9",
   "metadata": {},
   "outputs": [],
   "source": [
    "#Load tabular data\n",
    "Dataset=pd.read_csv(r'data/TabularSummaryBatteryData-60Cycles.csv')\n",
    "\n",
    "# Scale target Battery life By log 10\n",
    "Dataset['cell_life']=np.log10(Dataset['cell_life'])\n",
    "\n",
    "Training_Data=Dataset.iloc[train_ind]\n",
    "Testing_Data=Dataset.iloc[test_edited_ind]\n",
    "Secondary_Data=Dataset.iloc[secondary_test_ind]\n",
    "\n",
    "#choosing model features According to table 1\n",
    "target_features=['cell_life']\n",
    "\n",
    "varmod_features=['variance_dQ_60_10']\n",
    "\n",
    "dismod_features=['minimum_dQ_60_10',\n",
    "                 'variance_dQ_60_10',\n",
    "                 'skewness_dQ_60_10',\n",
    "                 'kurtosis_dQ_60_10',\n",
    "                 'Discharge_Cap_2',\n",
    "                 'Diff_MaxCap_DC2']\n",
    "    \n",
    "full_features=['minimum_dQ_60_10',\n",
    "               'variance_dQ_60_10',\n",
    "               'Slope_Cap_Fade_2_60',\n",
    "               'Intercept_Cap_Fade_2_60',\n",
    "               'Diff_MaxCap_DC2',\n",
    "               'Discharge_Cap_2',\n",
    "               'Avg_charge_time',\n",
    "               'Temp_Integ_2_60',\n",
    "               'Min_IR',\n",
    "               'Diff_IR_2_60']"
   ]
  },
  {
   "cell_type": "code",
   "execution_count": 17,
   "id": "bb060a2d",
   "metadata": {},
   "outputs": [],
   "source": [
    "#Use only the discharge model Tabular features\n",
    "features = dismod_features #full_features\n",
    "X_train=Training_Data[features].to_numpy()\n",
    "X_test=Testing_Data[features].to_numpy()\n",
    "X_sec=Secondary_Data[features].to_numpy()\n",
    "\n",
    "#Scale\n",
    "scaler = preprocessing.StandardScaler().fit(X_train)\n",
    "Tabular_Train = scaler.transform(X_train)\n",
    "Tabular_test = scaler.transform(X_test)\n",
    "Tabular_sec = scaler.transform(X_sec)"
   ]
  },
  {
   "cell_type": "code",
   "execution_count": 18,
   "id": "d73181a8",
   "metadata": {},
   "outputs": [
    {
     "name": "stdout",
     "output_type": "stream",
     "text": [
      "tensor(1.1621) tensor(-0.8226)\n",
      "tensor(1.0245) tensor(-0.7291)\n",
      "tensor(0.5661) tensor(-0.3582)\n",
      "torch.Size([41, 60, 99])\n",
      "torch.Size([42, 60, 99])\n",
      "torch.Size([40, 60, 99])\n"
     ]
    }
   ],
   "source": [
    "#Load discharge capacity data\n",
    "train_Qdlin=torch.load(r'data/DischargeCapacity-InterpolatedData_Train.pt')\n",
    "test_Qdlin=torch.load(r'data/DischargeCapacity-InterpolatedData_Test.pt')\n",
    "secondary_test_Qdlin=torch.load(r'data/DischargeCapacity-InterpolatedData_Secondary_Test.pt')\n",
    "\n",
    "train_Qdlin = train_Qdlin[:,:60,:]\n",
    "test_Qdlin = test_Qdlin[:,:60,:]\n",
    "secondary_test_Qdlin = secondary_test_Qdlin[:,:60,:]\n",
    "\n",
    "print(train_Qdlin.std(),train_Qdlin.mean())\n",
    "print(test_Qdlin.std(),test_Qdlin.mean())\n",
    "print(secondary_test_Qdlin.std(),secondary_test_Qdlin.mean())\n",
    "\n",
    "print(train_Qdlin.shape)\n",
    "print(test_Qdlin.shape)\n",
    "print(secondary_test_Qdlin.shape)"
   ]
  },
  {
   "cell_type": "code",
   "execution_count": 19,
   "id": "bef83663",
   "metadata": {},
   "outputs": [],
   "source": [
    "y_train=Training_Data[target_features].to_numpy()\n",
    "y_test=Testing_Data[target_features].to_numpy()\n",
    "y_sec=Secondary_Data[target_features].to_numpy()\n",
    "\n",
    "y_train = torch.tensor(y_train)\n",
    "y_test = torch.tensor(y_test)\n",
    "y_sec = torch.tensor(y_sec)\n",
    "\n",
    "y_train_mean = torch.mean(y_train)\n",
    "y_train = y_train - y_train_mean\n",
    "y_test = y_test - y_train_mean\n",
    "y_sec = y_sec - y_train_mean\n",
    "#Be sure to add y_train_mean and 10** All results"
   ]
  },
  {
   "cell_type": "code",
   "execution_count": 20,
   "id": "0fc003bf",
   "metadata": {},
   "outputs": [],
   "source": [
    "torch.set_default_dtype(torch.float64)"
   ]
  },
  {
   "cell_type": "code",
   "execution_count": 21,
   "id": "783c9b5d",
   "metadata": {},
   "outputs": [],
   "source": [
    "train_Dataset = CustomDataset(train_Qdlin,y_train,Tabular_Train)\n",
    "test_Dataset = CustomDataset(test_Qdlin,y_test,Tabular_test)\n",
    "secondary_test_Dataset = CustomDataset(secondary_test_Qdlin,y_sec,Tabular_sec)\n",
    "\n",
    "train_Qdlin_loader = DataLoader(train_Dataset, batch_size=41, shuffle=True)\n",
    "test_Qdlin_loader = DataLoader(test_Dataset, batch_size=42, shuffle=True)\n",
    "secondary_test_Qdlin_loader = DataLoader(secondary_test_Dataset, batch_size=40, shuffle=True)"
   ]
  },
  {
   "cell_type": "markdown",
   "id": "d6f3def0",
   "metadata": {},
   "source": [
    "# Hyper-parameters"
   ]
  },
  {
   "cell_type": "code",
   "execution_count": 22,
   "id": "a3b94adb",
   "metadata": {},
   "outputs": [],
   "source": [
    "epochs = 5000\n",
    "learning_rate =.0001\n",
    "weight_decay = .001"
   ]
  },
  {
   "cell_type": "markdown",
   "id": "9d122b41",
   "metadata": {},
   "source": [
    "# Train & Test"
   ]
  },
  {
   "cell_type": "code",
   "execution_count": 23,
   "id": "40e06a5f",
   "metadata": {},
   "outputs": [
    {
     "name": "stdout",
     "output_type": "stream",
     "text": [
      "cuda:0\n"
     ]
    }
   ],
   "source": [
    "#device = torch.device(\"cuda:0\" if torch.cuda.is_available() else \"cpu\")\n",
    "#device = torch.device(\"cpu\")\n",
    "print(device)"
   ]
  },
  {
   "cell_type": "code",
   "execution_count": 24,
   "id": "d4726a44",
   "metadata": {},
   "outputs": [
    {
     "name": "stdout",
     "output_type": "stream",
     "text": [
      "torch.Size([41, 60, 99])\n",
      "torch.Size([41, 1, 60, 99])\n",
      "torch.Size([41, 16, 13, 23])\n",
      "torch.Size([41, 4784])\n",
      "torch.Size([41, 6])\n",
      "torch.Size([41, 4790])\n",
      "-- 0 -epoch--RMSE--  358.7024882815354\n",
      "-- 100 -epoch--RMSE--  33.84716902476151\n",
      "-- 200 -epoch--RMSE--  21.016322487152966\n",
      "-- 300 -epoch--RMSE--  17.570335444134496\n",
      "-- 400 -epoch--RMSE--  16.321661223534\n",
      "-- 500 -epoch--RMSE--  15.074609051534695\n",
      "-- 600 -epoch--RMSE--  14.648473203924512\n",
      "-- 700 -epoch--RMSE--  15.540556370706835\n",
      "-- 800 -epoch--RMSE--  15.664397299470712\n",
      "-- 900 -epoch--RMSE--  15.874757885856885\n",
      "-- 1000 -epoch--RMSE--  13.951474059021557\n",
      "-- 1100 -epoch--RMSE--  16.797091882787115\n",
      "-- 1200 -epoch--RMSE--  12.962542382074052\n",
      "-- 1300 -epoch--RMSE--  13.32044551114461\n",
      "-- 1400 -epoch--RMSE--  12.476502874442502\n",
      "-- 1500 -epoch--RMSE--  15.686969210534638\n",
      "-- 1600 -epoch--RMSE--  12.160583605939491\n",
      "-- 1700 -epoch--RMSE--  13.119884434830269\n",
      "-- 1800 -epoch--RMSE--  16.007748786818826\n",
      "-- 1900 -epoch--RMSE--  13.65720471782863\n",
      "-- 2000 -epoch--RMSE--  15.396659868645994\n",
      "-- 2100 -epoch--RMSE--  12.451577273964018\n",
      "-- 2200 -epoch--RMSE--  14.366449261160556\n",
      "-- 2300 -epoch--RMSE--  12.365199942498991\n",
      "-- 2400 -epoch--RMSE--  13.501080092653444\n",
      "-- 2500 -epoch--RMSE--  11.574320083548683\n",
      "-- 2600 -epoch--RMSE--  11.606963085880786\n",
      "-- 2700 -epoch--RMSE--  12.264824845029239\n",
      "-- 2800 -epoch--RMSE--  11.654661162645585\n",
      "-- 2900 -epoch--RMSE--  11.719344682183076\n",
      "-- 3000 -epoch--RMSE--  12.015939586961549\n",
      "-- 3100 -epoch--RMSE--  12.532236790189108\n",
      "-- 3200 -epoch--RMSE--  11.489661153683272\n",
      "-- 3300 -epoch--RMSE--  11.454322839028267\n",
      "-- 3400 -epoch--RMSE--  13.957082453646972\n",
      "-- 3500 -epoch--RMSE--  11.141305211305463\n",
      "-- 3600 -epoch--RMSE--  16.176339376272264\n",
      "-- 3700 -epoch--RMSE--  11.741343835899178\n",
      "-- 3800 -epoch--RMSE--  13.06789130518857\n",
      "-- 3900 -epoch--RMSE--  11.758441770575903\n",
      "-- 4000 -epoch--RMSE--  13.297580058519642\n",
      "-- 4100 -epoch--RMSE--  12.87519537940702\n",
      "-- 4200 -epoch--RMSE--  12.301507701366177\n",
      "-- 4300 -epoch--RMSE--  10.78814973162264\n",
      "-- 4400 -epoch--RMSE--  12.882687868569795\n",
      "-- 4500 -epoch--RMSE--  12.485100463599998\n",
      "-- 4600 -epoch--RMSE--  15.544325766375076\n",
      "-- 4700 -epoch--RMSE--  13.031994164637522\n",
      "-- 4800 -epoch--RMSE--  12.499396313741808\n",
      "-- 4900 -epoch--RMSE--  11.290784251710578\n"
     ]
    }
   ],
   "source": [
    "criterion=nn.MSELoss()\n",
    "model=CNN(60) #Using only the First 60 cycles\n",
    "optimizer=optim.Adam(model.parameters(),weight_decay=weight_decay, lr=learning_rate)\n",
    "model = model.to(device)\n",
    "model = train(model,train_Qdlin_loader,criterion,optimizer,epochs,device)"
   ]
  },
  {
   "cell_type": "code",
   "execution_count": 25,
   "id": "9c6cd6b7",
   "metadata": {},
   "outputs": [
    {
     "name": "stdout",
     "output_type": "stream",
     "text": [
      "10.892542135474853 ---RMSE---Train\n",
      "186.01557094265897 ---RMSE---Test\n",
      "204.6068075190482 ---RMSE---Test Secondary\n"
     ]
    }
   ],
   "source": [
    "testALL(model)"
   ]
  },
  {
   "cell_type": "markdown",
   "id": "61fc8086",
   "metadata": {},
   "source": [
    "################################################################################\n",
    "\n",
    "# Repeat using only the first 40 cycles\n",
    "\n",
    "################################################################################"
   ]
  },
  {
   "cell_type": "code",
   "execution_count": 26,
   "id": "b1fd0694",
   "metadata": {},
   "outputs": [],
   "source": [
    "#Load tabular data\n",
    "Dataset=pd.read_csv(r'data/TabularSummaryBatteryData-40Cycles.csv')\n",
    "\n",
    "# Scale target Battery life By log 10\n",
    "Dataset['cell_life']=np.log10(Dataset['cell_life'])\n",
    "\n",
    "Training_Data=Dataset.iloc[train_ind]\n",
    "Testing_Data=Dataset.iloc[test_edited_ind]\n",
    "Secondary_Data=Dataset.iloc[secondary_test_ind]\n",
    "\n",
    "#choosing model features According to table 1\n",
    "target_features=['cell_life']\n",
    "\n",
    "varmod_features=['variance_dQ_40_10']\n",
    "\n",
    "dismod_features=['minimum_dQ_40_10',\n",
    "                 'variance_dQ_40_10',\n",
    "                 'skewness_dQ_40_10',\n",
    "                 'kurtosis_dQ_40_10',\n",
    "                 'Discharge_Cap_2',\n",
    "                 'Diff_MaxCap_DC2']\n",
    "    \n",
    "full_features=['minimum_dQ_40_10',\n",
    "               'variance_dQ_40_10',\n",
    "               'Slope_Cap_Fade_2_40',\n",
    "               'Intercept_Cap_Fade_2_40',\n",
    "               'Diff_MaxCap_DC2',\n",
    "               'Discharge_Cap_2',\n",
    "               'Avg_charge_time',\n",
    "               'Temp_Integ_2_40',\n",
    "               'Min_IR',\n",
    "               'Diff_IR_2_40']"
   ]
  },
  {
   "cell_type": "code",
   "execution_count": 27,
   "id": "90404b64",
   "metadata": {},
   "outputs": [],
   "source": [
    "#Use only the discharge model Tabular features\n",
    "features = dismod_features #full_features\n",
    "X_train=Training_Data[features].to_numpy()\n",
    "X_test=Testing_Data[features].to_numpy()\n",
    "X_sec=Secondary_Data[features].to_numpy()\n",
    "\n",
    "#Scale\n",
    "scaler = preprocessing.StandardScaler().fit(X_train)\n",
    "Tabular_Train = scaler.transform(X_train)\n",
    "Tabular_test = scaler.transform(X_test)\n",
    "Tabular_sec = scaler.transform(X_sec)"
   ]
  },
  {
   "cell_type": "code",
   "execution_count": 28,
   "id": "5f3f2981",
   "metadata": {},
   "outputs": [
    {
     "name": "stdout",
     "output_type": "stream",
     "text": [
      "tensor(1.1242) tensor(-0.6322)\n",
      "tensor(0.9673) tensor(-0.5410)\n",
      "tensor(0.5148) tensor(-0.2270)\n",
      "torch.Size([41, 40, 99])\n",
      "torch.Size([42, 40, 99])\n",
      "torch.Size([40, 40, 99])\n"
     ]
    }
   ],
   "source": [
    "#Load discharge capacity data\n",
    "train_Qdlin=torch.load(r'data/DischargeCapacity-InterpolatedData_Train.pt')\n",
    "test_Qdlin=torch.load(r'data/DischargeCapacity-InterpolatedData_Test.pt')\n",
    "secondary_test_Qdlin=torch.load(r'data/DischargeCapacity-InterpolatedData_Secondary_Test.pt')\n",
    "\n",
    "train_Qdlin = train_Qdlin[:,:40,:]\n",
    "test_Qdlin = test_Qdlin[:,:40,:]\n",
    "secondary_test_Qdlin = secondary_test_Qdlin[:,:40,:]\n",
    "\n",
    "print(train_Qdlin.std(),train_Qdlin.mean())\n",
    "print(test_Qdlin.std(),test_Qdlin.mean())\n",
    "print(secondary_test_Qdlin.std(),secondary_test_Qdlin.mean())\n",
    "\n",
    "print(train_Qdlin.shape)\n",
    "print(test_Qdlin.shape)\n",
    "print(secondary_test_Qdlin.shape)"
   ]
  },
  {
   "cell_type": "code",
   "execution_count": 29,
   "id": "40a5b935",
   "metadata": {},
   "outputs": [],
   "source": [
    "y_train=Training_Data[target_features].to_numpy()\n",
    "y_test=Testing_Data[target_features].to_numpy()\n",
    "y_sec=Secondary_Data[target_features].to_numpy()\n",
    "\n",
    "y_train = torch.tensor(y_train)\n",
    "y_test = torch.tensor(y_test)\n",
    "y_sec = torch.tensor(y_sec)\n",
    "\n",
    "y_train_mean = torch.mean(y_train)\n",
    "y_train = y_train - y_train_mean\n",
    "y_test = y_test - y_train_mean\n",
    "y_sec = y_sec - y_train_mean\n",
    "#Be sure to add y_train_mean and 10** All results"
   ]
  },
  {
   "cell_type": "code",
   "execution_count": 30,
   "id": "1cf467c4",
   "metadata": {},
   "outputs": [],
   "source": [
    "torch.set_default_dtype(torch.float64)"
   ]
  },
  {
   "cell_type": "code",
   "execution_count": 31,
   "id": "4b5b0e6b",
   "metadata": {},
   "outputs": [],
   "source": [
    "train_Dataset = CustomDataset(train_Qdlin,y_train,Tabular_Train)\n",
    "test_Dataset = CustomDataset(test_Qdlin,y_test,Tabular_test)\n",
    "secondary_test_Dataset = CustomDataset(secondary_test_Qdlin,y_sec,Tabular_sec)\n",
    "\n",
    "train_Qdlin_loader = DataLoader(train_Dataset, batch_size=41, shuffle=True)\n",
    "test_Qdlin_loader = DataLoader(test_Dataset, batch_size=42, shuffle=True)\n",
    "secondary_test_Qdlin_loader = DataLoader(secondary_test_Dataset, batch_size=40, shuffle=True)"
   ]
  },
  {
   "cell_type": "markdown",
   "id": "78279d25",
   "metadata": {},
   "source": [
    "# Hyper-parameters"
   ]
  },
  {
   "cell_type": "code",
   "execution_count": 32,
   "id": "c40293e9",
   "metadata": {},
   "outputs": [],
   "source": [
    "epochs = 5000\n",
    "learning_rate =.0001\n",
    "weight_decay = .001"
   ]
  },
  {
   "cell_type": "markdown",
   "id": "1d7b5ce9",
   "metadata": {},
   "source": [
    "# Train & Test"
   ]
  },
  {
   "cell_type": "code",
   "execution_count": 33,
   "id": "526e55ae",
   "metadata": {},
   "outputs": [
    {
     "name": "stdout",
     "output_type": "stream",
     "text": [
      "cuda:0\n"
     ]
    }
   ],
   "source": [
    "#device = torch.device(\"cuda:0\" if torch.cuda.is_available() else \"cpu\")\n",
    "#device = torch.device(\"cpu\")\n",
    "print(device)"
   ]
  },
  {
   "cell_type": "code",
   "execution_count": 34,
   "id": "a9fbd917",
   "metadata": {},
   "outputs": [
    {
     "name": "stdout",
     "output_type": "stream",
     "text": [
      "torch.Size([41, 40, 99])\n",
      "torch.Size([41, 1, 40, 99])\n",
      "torch.Size([41, 16, 8, 23])\n",
      "torch.Size([41, 2944])\n",
      "torch.Size([41, 6])\n",
      "torch.Size([41, 2950])\n",
      "-- 0 -epoch--RMSE--  322.69592932697816\n",
      "-- 100 -epoch--RMSE--  32.676021531634\n",
      "-- 200 -epoch--RMSE--  21.33708917613326\n",
      "-- 300 -epoch--RMSE--  18.61748503857831\n",
      "-- 400 -epoch--RMSE--  16.43956947779598\n",
      "-- 500 -epoch--RMSE--  15.493346628698244\n",
      "-- 600 -epoch--RMSE--  15.112906719074376\n",
      "-- 700 -epoch--RMSE--  14.765728519447414\n",
      "-- 800 -epoch--RMSE--  14.17486305411211\n",
      "-- 900 -epoch--RMSE--  16.44384473631824\n",
      "-- 1000 -epoch--RMSE--  14.172456444951306\n",
      "-- 1100 -epoch--RMSE--  14.368121031933258\n",
      "-- 1200 -epoch--RMSE--  15.894879986102781\n",
      "-- 1300 -epoch--RMSE--  13.89962063230022\n",
      "-- 1400 -epoch--RMSE--  14.09343433161668\n",
      "-- 1500 -epoch--RMSE--  13.995340013794094\n",
      "-- 1600 -epoch--RMSE--  14.295060959402969\n",
      "-- 1700 -epoch--RMSE--  13.464002779023536\n",
      "-- 1800 -epoch--RMSE--  15.984058725865875\n",
      "-- 1900 -epoch--RMSE--  13.527561173832757\n",
      "-- 2000 -epoch--RMSE--  13.169002858370064\n",
      "-- 2100 -epoch--RMSE--  12.536077140794713\n",
      "-- 2200 -epoch--RMSE--  12.722397495750721\n",
      "-- 2300 -epoch--RMSE--  12.531009623034882\n",
      "-- 2400 -epoch--RMSE--  12.523654780015532\n",
      "-- 2500 -epoch--RMSE--  13.499929187377655\n",
      "-- 2600 -epoch--RMSE--  12.740461282366791\n",
      "-- 2700 -epoch--RMSE--  12.101913185818855\n",
      "-- 2800 -epoch--RMSE--  13.089547418678936\n",
      "-- 2900 -epoch--RMSE--  11.94960414095321\n",
      "-- 3000 -epoch--RMSE--  11.879805782568003\n",
      "-- 3100 -epoch--RMSE--  12.38481878301614\n",
      "-- 3200 -epoch--RMSE--  13.397016276178173\n",
      "-- 3300 -epoch--RMSE--  15.94857938516367\n",
      "-- 3400 -epoch--RMSE--  11.955962183820978\n",
      "-- 3500 -epoch--RMSE--  11.907136401450796\n",
      "-- 3600 -epoch--RMSE--  13.164396884087381\n",
      "-- 3700 -epoch--RMSE--  13.204590104888915\n",
      "-- 3800 -epoch--RMSE--  13.139806592417576\n",
      "-- 3900 -epoch--RMSE--  11.439510138278855\n",
      "-- 4000 -epoch--RMSE--  11.573510110049959\n",
      "-- 4100 -epoch--RMSE--  12.010533077767274\n",
      "-- 4200 -epoch--RMSE--  11.48879607680018\n",
      "-- 4300 -epoch--RMSE--  12.248425017770552\n",
      "-- 4400 -epoch--RMSE--  11.471781026993114\n",
      "-- 4500 -epoch--RMSE--  11.439535445122642\n",
      "-- 4600 -epoch--RMSE--  12.57204909620557\n",
      "-- 4700 -epoch--RMSE--  11.481810167294123\n",
      "-- 4800 -epoch--RMSE--  13.93124571468403\n",
      "-- 4900 -epoch--RMSE--  11.721486491731577\n"
     ]
    }
   ],
   "source": [
    "criterion=nn.MSELoss()\n",
    "model=CNN(40) #Using only the First 40 cycles\n",
    "optimizer=optim.Adam(model.parameters(),weight_decay=weight_decay, lr=learning_rate)\n",
    "model = model.to(device)\n",
    "model = train(model,train_Qdlin_loader,criterion,optimizer,epochs,device)"
   ]
  },
  {
   "cell_type": "code",
   "execution_count": 35,
   "id": "9ccf1725",
   "metadata": {},
   "outputs": [
    {
     "name": "stdout",
     "output_type": "stream",
     "text": [
      "11.6569302628326 ---RMSE---Train\n",
      "80.17404802694 ---RMSE---Test\n",
      "206.35704327120192 ---RMSE---Test Secondary\n"
     ]
    }
   ],
   "source": [
    "testALL(model)"
   ]
  },
  {
   "cell_type": "markdown",
   "id": "238135b1",
   "metadata": {},
   "source": [
    "################################################################################\n",
    "\n",
    "# Repeat using only the first 20 cycles\n",
    "\n",
    "################################################################################"
   ]
  },
  {
   "cell_type": "code",
   "execution_count": 36,
   "id": "90303992",
   "metadata": {},
   "outputs": [],
   "source": [
    "#Load tabular data\n",
    "Dataset=pd.read_csv(r'data/TabularSummaryBatteryData-20Cycles.csv')\n",
    "\n",
    "# Scale target Battery life By log 10\n",
    "Dataset['cell_life']=np.log10(Dataset['cell_life'])\n",
    "\n",
    "Training_Data=Dataset.iloc[train_ind]\n",
    "Testing_Data=Dataset.iloc[test_edited_ind]\n",
    "Secondary_Data=Dataset.iloc[secondary_test_ind]\n",
    "\n",
    "#choosing model features According to table 1\n",
    "target_features=['cell_life']\n",
    "\n",
    "varmod_features=['variance_dQ_20_10']\n",
    "\n",
    "dismod_features=['minimum_dQ_20_10',\n",
    "                 'variance_dQ_20_10',\n",
    "                 'skewness_dQ_20_10',\n",
    "                 'kurtosis_dQ_20_10',\n",
    "                 'Discharge_Cap_2',\n",
    "                 'Diff_MaxCap_DC2']\n",
    "    \n",
    "full_features=['minimum_dQ_20_10',\n",
    "               'variance_dQ_20_10',\n",
    "               'Slope_Cap_Fade_2_20',\n",
    "               'Intercept_Cap_Fade_2_20',\n",
    "               'Diff_MaxCap_DC2',\n",
    "               'Discharge_Cap_2',\n",
    "               'Avg_charge_time',\n",
    "               'Temp_Integ_2_20',\n",
    "               'Min_IR',\n",
    "               'Diff_IR_2_20']"
   ]
  },
  {
   "cell_type": "code",
   "execution_count": 37,
   "id": "71813cf3",
   "metadata": {},
   "outputs": [],
   "source": [
    "#Use only the discharge model Tabular features\n",
    "features = dismod_features #full_features\n",
    "X_train=Training_Data[features].to_numpy()\n",
    "X_test=Testing_Data[features].to_numpy()\n",
    "X_sec=Secondary_Data[features].to_numpy()\n",
    "\n",
    "#Scale\n",
    "scaler = preprocessing.StandardScaler().fit(X_train)\n",
    "Tabular_Train = scaler.transform(X_train)\n",
    "Tabular_test = scaler.transform(X_test)\n",
    "Tabular_sec = scaler.transform(X_sec)"
   ]
  },
  {
   "cell_type": "code",
   "execution_count": 38,
   "id": "90002a55",
   "metadata": {},
   "outputs": [
    {
     "name": "stdout",
     "output_type": "stream",
     "text": [
      "tensor(0.0264) tensor(-0.0102)\n",
      "tensor(0.0276) tensor(-0.0079)\n",
      "tensor(0.0151) tensor(0.0023)\n",
      "torch.Size([41, 20, 99])\n",
      "torch.Size([42, 20, 99])\n",
      "torch.Size([40, 20, 99])\n"
     ]
    }
   ],
   "source": [
    "#Load discharge capacity data\n",
    "train_Qdlin=torch.load(r'data/DischargeCapacity-InterpolatedData_Train.pt')\n",
    "test_Qdlin=torch.load(r'data/DischargeCapacity-InterpolatedData_Test.pt')\n",
    "secondary_test_Qdlin=torch.load(r'data/DischargeCapacity-InterpolatedData_Secondary_Test.pt')\n",
    "\n",
    "train_Qdlin = train_Qdlin[:,:20,:]\n",
    "test_Qdlin = test_Qdlin[:,:20,:]\n",
    "secondary_test_Qdlin = secondary_test_Qdlin[:,:20,:]\n",
    "\n",
    "print(train_Qdlin.std(),train_Qdlin.mean())\n",
    "print(test_Qdlin.std(),test_Qdlin.mean())\n",
    "print(secondary_test_Qdlin.std(),secondary_test_Qdlin.mean())\n",
    "\n",
    "print(train_Qdlin.shape)\n",
    "print(test_Qdlin.shape)\n",
    "print(secondary_test_Qdlin.shape)"
   ]
  },
  {
   "cell_type": "code",
   "execution_count": 39,
   "id": "bc1d42f5",
   "metadata": {},
   "outputs": [],
   "source": [
    "y_train=Training_Data[target_features].to_numpy()\n",
    "y_test=Testing_Data[target_features].to_numpy()\n",
    "y_sec=Secondary_Data[target_features].to_numpy()\n",
    "\n",
    "y_train = torch.tensor(y_train)\n",
    "y_test = torch.tensor(y_test)\n",
    "y_sec = torch.tensor(y_sec)\n",
    "\n",
    "y_train_mean = torch.mean(y_train)\n",
    "y_train = y_train - y_train_mean\n",
    "y_test = y_test - y_train_mean\n",
    "y_sec = y_sec - y_train_mean\n",
    "#Be sure to add y_train_mean and 10** All results"
   ]
  },
  {
   "cell_type": "code",
   "execution_count": 40,
   "id": "8342c07b",
   "metadata": {},
   "outputs": [],
   "source": [
    "torch.set_default_dtype(torch.float64)"
   ]
  },
  {
   "cell_type": "code",
   "execution_count": 41,
   "id": "85dad3d4",
   "metadata": {},
   "outputs": [],
   "source": [
    "train_Dataset = CustomDataset(train_Qdlin,y_train,Tabular_Train)\n",
    "test_Dataset = CustomDataset(test_Qdlin,y_test,Tabular_test)\n",
    "secondary_test_Dataset = CustomDataset(secondary_test_Qdlin,y_sec,Tabular_sec)\n",
    "\n",
    "train_Qdlin_loader = DataLoader(train_Dataset, batch_size=41, shuffle=True)\n",
    "test_Qdlin_loader = DataLoader(test_Dataset, batch_size=42, shuffle=True)\n",
    "secondary_test_Qdlin_loader = DataLoader(secondary_test_Dataset, batch_size=40, shuffle=True)"
   ]
  },
  {
   "cell_type": "markdown",
   "id": "76a5f487",
   "metadata": {},
   "source": [
    "# Hyper-parameters"
   ]
  },
  {
   "cell_type": "code",
   "execution_count": 42,
   "id": "68ef5604",
   "metadata": {},
   "outputs": [],
   "source": [
    "epochs = 5000\n",
    "learning_rate =.0001\n",
    "weight_decay = .001"
   ]
  },
  {
   "cell_type": "markdown",
   "id": "a20f1373",
   "metadata": {},
   "source": [
    "# Train & Test"
   ]
  },
  {
   "cell_type": "code",
   "execution_count": 43,
   "id": "69bf381c",
   "metadata": {},
   "outputs": [
    {
     "name": "stdout",
     "output_type": "stream",
     "text": [
      "cuda:0\n"
     ]
    }
   ],
   "source": [
    "#device = torch.device(\"cuda:0\" if torch.cuda.is_available() else \"cpu\")\n",
    "#device = torch.device(\"cpu\")\n",
    "print(device)"
   ]
  },
  {
   "cell_type": "code",
   "execution_count": 44,
   "id": "722c4423",
   "metadata": {},
   "outputs": [
    {
     "name": "stdout",
     "output_type": "stream",
     "text": [
      "torch.Size([41, 20, 99])\n",
      "torch.Size([41, 1, 20, 99])\n",
      "torch.Size([41, 16, 3, 23])\n",
      "torch.Size([41, 1104])\n",
      "torch.Size([41, 6])\n",
      "torch.Size([41, 1110])\n",
      "-- 0 -epoch--RMSE--  345.7903297511116\n",
      "-- 100 -epoch--RMSE--  299.68268093471016\n",
      "-- 200 -epoch--RMSE--  279.4296688161121\n",
      "-- 300 -epoch--RMSE--  243.81762816284848\n",
      "-- 400 -epoch--RMSE--  188.27451597441012\n",
      "-- 500 -epoch--RMSE--  135.26752072924145\n",
      "-- 600 -epoch--RMSE--  100.85923598314204\n",
      "-- 700 -epoch--RMSE--  80.11912053496586\n",
      "-- 800 -epoch--RMSE--  67.24196814347617\n",
      "-- 900 -epoch--RMSE--  62.66331151193836\n",
      "-- 1000 -epoch--RMSE--  53.98655641412116\n",
      "-- 1100 -epoch--RMSE--  48.65311971930468\n",
      "-- 1200 -epoch--RMSE--  48.19663796322568\n",
      "-- 1300 -epoch--RMSE--  45.361887845290376\n",
      "-- 1400 -epoch--RMSE--  42.9542251433481\n",
      "-- 1500 -epoch--RMSE--  38.714728462482356\n",
      "-- 1600 -epoch--RMSE--  36.41350797466946\n",
      "-- 1700 -epoch--RMSE--  37.64560403611453\n",
      "-- 1800 -epoch--RMSE--  34.10960957335794\n",
      "-- 1900 -epoch--RMSE--  34.027829982570836\n",
      "-- 2000 -epoch--RMSE--  34.59820486185365\n",
      "-- 2100 -epoch--RMSE--  31.534989427257997\n",
      "-- 2200 -epoch--RMSE--  32.68836558392389\n",
      "-- 2300 -epoch--RMSE--  32.895205938969426\n",
      "-- 2400 -epoch--RMSE--  30.055727283751537\n",
      "-- 2500 -epoch--RMSE--  29.76090047692927\n",
      "-- 2600 -epoch--RMSE--  30.93686276828728\n",
      "-- 2700 -epoch--RMSE--  32.21105543561739\n",
      "-- 2800 -epoch--RMSE--  30.44068364436847\n",
      "-- 2900 -epoch--RMSE--  30.7288366166361\n",
      "-- 3000 -epoch--RMSE--  30.679901174857417\n",
      "-- 3100 -epoch--RMSE--  27.71845047167225\n",
      "-- 3200 -epoch--RMSE--  30.017107499016042\n",
      "-- 3300 -epoch--RMSE--  28.071981929080007\n",
      "-- 3400 -epoch--RMSE--  26.866244005794815\n",
      "-- 3500 -epoch--RMSE--  27.156375549852648\n",
      "-- 3600 -epoch--RMSE--  26.297119368638914\n",
      "-- 3700 -epoch--RMSE--  26.13669066695816\n",
      "-- 3800 -epoch--RMSE--  26.151880496835574\n",
      "-- 3900 -epoch--RMSE--  27.53062432667997\n",
      "-- 4000 -epoch--RMSE--  26.469505237583782\n",
      "-- 4100 -epoch--RMSE--  27.916190007552718\n",
      "-- 4200 -epoch--RMSE--  25.785724557261812\n",
      "-- 4300 -epoch--RMSE--  27.97604669630955\n",
      "-- 4400 -epoch--RMSE--  26.806635439330236\n",
      "-- 4500 -epoch--RMSE--  27.761631363527616\n",
      "-- 4600 -epoch--RMSE--  25.2827827016662\n",
      "-- 4700 -epoch--RMSE--  25.19248954934392\n",
      "-- 4800 -epoch--RMSE--  26.25368567567005\n",
      "-- 4900 -epoch--RMSE--  25.44273883992161\n"
     ]
    }
   ],
   "source": [
    "criterion=nn.MSELoss()\n",
    "model=CNN(20) #Using only the First 20 cycles\n",
    "optimizer=optim.Adam(model.parameters(),weight_decay=weight_decay, lr=learning_rate)\n",
    "model = model.to(device)\n",
    "model = train(model,train_Qdlin_loader,criterion,optimizer,epochs,device)"
   ]
  },
  {
   "cell_type": "code",
   "execution_count": 45,
   "id": "9b631b4b",
   "metadata": {},
   "outputs": [
    {
     "name": "stdout",
     "output_type": "stream",
     "text": [
      "25.23467447452422 ---RMSE---Train\n",
      "212.3843265967045 ---RMSE---Test\n",
      "459.460953170998 ---RMSE---Test Secondary\n"
     ]
    }
   ],
   "source": [
    "testALL(model)"
   ]
  },
  {
   "cell_type": "code",
   "execution_count": null,
   "id": "c2d276b2",
   "metadata": {},
   "outputs": [],
   "source": []
  },
  {
   "cell_type": "code",
   "execution_count": null,
   "id": "af764ac8",
   "metadata": {},
   "outputs": [],
   "source": []
  }
 ],
 "metadata": {
  "kernelspec": {
   "display_name": "Python 3 (ipykernel)",
   "language": "python",
   "name": "python3"
  },
  "language_info": {
   "codemirror_mode": {
    "name": "ipython",
    "version": 3
   },
   "file_extension": ".py",
   "mimetype": "text/x-python",
   "name": "python",
   "nbconvert_exporter": "python",
   "pygments_lexer": "ipython3",
   "version": "3.9.7"
  }
 },
 "nbformat": 4,
 "nbformat_minor": 5
}
