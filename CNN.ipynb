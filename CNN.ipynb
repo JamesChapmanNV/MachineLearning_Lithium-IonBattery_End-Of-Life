{
 "cells": [
  {
   "cell_type": "code",
   "execution_count": 1,
   "id": "aa65c7c3",
   "metadata": {
    "scrolled": true
   },
   "outputs": [
    {
     "data": {
      "text/plain": [
       "<torch._C.Generator at 0x1c9b60119f0>"
      ]
     },
     "execution_count": 1,
     "metadata": {},
     "output_type": "execute_result"
    }
   ],
   "source": [
    "import matplotlib.pyplot as plt\n",
    "import numpy as np\n",
    "import pandas as pd\n",
    "\n",
    "from sklearn import preprocessing\n",
    "from sklearn.metrics import mean_squared_error,mean_absolute_error\n",
    "from sklearn.model_selection import GridSearchCV\n",
    "\n",
    "import torch\n",
    "import torch.nn as nn\n",
    "import torch.optim as optim\n",
    "from torch.utils.data import DataLoader,Dataset\n",
    "from torch.autograd import Variable\n",
    "\n",
    "torch.manual_seed(0)"
   ]
  },
  {
   "cell_type": "code",
   "execution_count": 2,
   "id": "2abc9176",
   "metadata": {},
   "outputs": [],
   "source": [
    "# Keep results\n",
    "RMSE=list()\n",
    "MPE=list()"
   ]
  },
  {
   "cell_type": "code",
   "execution_count": 3,
   "id": "9678d3f0",
   "metadata": {},
   "outputs": [],
   "source": [
    "#Load tabular data\n",
    "Dataset=pd.read_csv(r'data/TabularSummaryBatteryData.csv')\n",
    "\n",
    "#Scale Cell life target Values\n",
    "Dataset['cell_life']=np.log10(Dataset['cell_life'])\n",
    "\n",
    "numBat1=41\n",
    "numBat2=43\n",
    "numBat3=40\n",
    "numBat=124\n",
    "test_ind = np.hstack((np.arange(0,(numBat1+numBat2),2),83))\n",
    "test_edited_ind = np.delete(test_ind, 21) # Remove battery \n",
    "train_ind = np.arange(1,(numBat1+numBat2-1),2)\n",
    "secondary_test_ind = np.arange(numBat-numBat3,numBat)\n",
    "\n",
    "Training_Data=Dataset.iloc[train_ind]\n",
    "Testing_Data=Dataset.iloc[test_edited_ind]\n",
    "Secondary_Data=Dataset.iloc[secondary_test_ind]\n",
    "\n",
    "#choosing model features According to table 1\n",
    "target_features=['cell_life']\n",
    "\n",
    "varmod_features=['variance_dQ_100_10']\n",
    "\n",
    "dismod_features=['minimum_dQ_100_10',\n",
    "                 'variance_dQ_100_10',\n",
    "                 'skewness_dQ_100_10',\n",
    "                 'kurtosis_dQ_100_10',\n",
    "                 'Discharge_Cap_2',\n",
    "                 'Diff_MaxCap_DC2']\n",
    "    \n",
    "full_features=['minimum_dQ_100_10',\n",
    "               'variance_dQ_100_10',\n",
    "               'Slope_Cap_Fade_2_100',\n",
    "               'Intercept_Cap_Fade_2_100',\n",
    "               'Diff_MaxCap_DC2',\n",
    "               'Discharge_Cap_2',\n",
    "               'Avg_charge_time',\n",
    "               'Temp_Integ_2_100',\n",
    "               'Min_IR',\n",
    "               'Diff_IR_2_100']"
   ]
  },
  {
   "cell_type": "code",
   "execution_count": 4,
   "id": "a7debfc2",
   "metadata": {},
   "outputs": [],
   "source": [
    "#Use only the discharge model Tabular features\n",
    "features = dismod_features #full_features\n",
    "X_train=Training_Data[features].to_numpy()\n",
    "X_test=Testing_Data[features].to_numpy()\n",
    "X_sec=Secondary_Data[features].to_numpy()\n",
    "\n",
    "#Scale\n",
    "scaler = preprocessing.StandardScaler().fit(X_train)\n",
    "Tabular_Train = scaler.transform(X_train)\n",
    "Tabular_test = scaler.transform(X_test)\n",
    "Tabular_sec = scaler.transform(X_sec)"
   ]
  },
  {
   "cell_type": "code",
   "execution_count": 5,
   "id": "c725d1cb",
   "metadata": {},
   "outputs": [
    {
     "name": "stdout",
     "output_type": "stream",
     "text": [
      "tensor(1.0000, dtype=torch.float64) tensor(-0.6982, dtype=torch.float64)\n",
      "tensor(0.8786, dtype=torch.float64) tensor(-0.6188, dtype=torch.float64)\n",
      "tensor(0.4862, dtype=torch.float64) tensor(-0.3183, dtype=torch.float64)\n",
      "torch.Size([41, 100, 99])\n",
      "torch.Size([42, 100, 99])\n",
      "torch.Size([40, 100, 99])\n"
     ]
    }
   ],
   "source": [
    "#Load discharge capacity data\n",
    "train_Qdlin=torch.load(r'data/DischargeCapacity-InterpolatedData_Train.pt')\n",
    "test_Qdlin=torch.load(r'data/DischargeCapacity-InterpolatedData_Test.pt')\n",
    "secondary_test_Qdlin=torch.load(r'data/DischargeCapacity-InterpolatedData_Secondary_Test.pt')\n",
    "\n",
    "print(train_Qdlin.std(),train_Qdlin.mean())\n",
    "print(test_Qdlin.std(),test_Qdlin.mean())\n",
    "print(secondary_test_Qdlin.std(),secondary_test_Qdlin.mean())\n",
    "\n",
    "print(train_Qdlin.shape)\n",
    "print(test_Qdlin.shape)\n",
    "print(secondary_test_Qdlin.shape)"
   ]
  },
  {
   "cell_type": "code",
   "execution_count": 6,
   "id": "05dd7ec5",
   "metadata": {},
   "outputs": [],
   "source": [
    "y_train=Training_Data[target_features].to_numpy()\n",
    "y_test=Testing_Data[target_features].to_numpy()\n",
    "y_sec=Secondary_Data[target_features].to_numpy()\n",
    "\n",
    "y_train = torch.tensor(y_train)\n",
    "y_test = torch.tensor(y_test)\n",
    "y_sec = torch.tensor(y_sec)\n",
    "\n",
    "y_train_mean = torch.mean(y_train)\n",
    "y_train = y_train - y_train_mean\n",
    "y_test = y_test - y_train_mean\n",
    "y_sec = y_sec - y_train_mean\n",
    "#Be sure to add y_train_mean and 10** All results"
   ]
  },
  {
   "cell_type": "code",
   "execution_count": 7,
   "id": "df622a5f",
   "metadata": {},
   "outputs": [],
   "source": [
    "from torch.utils.data import Dataset\n",
    "class CustomDataset(Dataset):\n",
    "    def __init__(self, features, targets, tabular):\n",
    "        self.features = features\n",
    "        self.targets = targets\n",
    "        self.tabular = tabular #Merge tabular data set\n",
    "    \n",
    "    def __getitem__(self, idx):\n",
    "        return self.features[idx], self.targets[idx], self.tabular[idx]\n",
    "  \n",
    "    def __len__(self):\n",
    "        return len(self.features)"
   ]
  },
  {
   "cell_type": "code",
   "execution_count": 8,
   "id": "641f8489",
   "metadata": {},
   "outputs": [],
   "source": [
    "class CNN(nn.Module):\n",
    "\n",
    "    def __init__(self,inputSize):\n",
    "        \n",
    "        super(CNN, self).__init__()\n",
    "        self.firstEpochFlag=True\n",
    "        # Calculates size of first linear layer \n",
    "        # This allows the Module to be used with different number of cycles\n",
    "        self.linearSize=((((inputSize-2)//2)-2)//2)*23*16+6\n",
    "        \n",
    "        # Convolutional architecture from Attia et al.\n",
    "        self.convolutional_layer = nn.Sequential(            \n",
    "            nn.Conv2d(in_channels=1, out_channels=6, kernel_size=(3,3)),\n",
    "            nn.ReLU(), \n",
    "            nn.MaxPool2d(kernel_size=2, stride=2),\n",
    "            #nn.BatchNorm2d(3),\n",
    "            nn.Conv2d(in_channels=6, out_channels=16, kernel_size=(3,3)),\n",
    "            nn.ReLU(),\n",
    "            nn.MaxPool2d(kernel_size=2, stride=2, padding=0),\n",
    "        )\n",
    "        self.linear_layer = nn.Sequential(\n",
    "            nn.Linear(self.linearSize,120),\n",
    "            #nn.Dropout(.1)\n",
    "            nn.ReLU(),\n",
    "            nn.Linear(120,84),  \n",
    "            nn.ReLU(),\n",
    "            nn.Linear(84,1),\n",
    "        )\n",
    "\n",
    "    def forward(self, x,tabular):\n",
    "        #Print the shapes of the data on the first Epoch\n",
    "        if(self.firstEpochFlag):print(x.shape)\n",
    "        \n",
    "        x = x.view(-1, 1,x.shape[1],99)\n",
    "        if(self.firstEpochFlag):print(x.shape)\n",
    "        \n",
    "        clout = self.convolutional_layer(x)\n",
    "        if(self.firstEpochFlag):print(clout.shape)\n",
    "        \n",
    "        flat = torch.flatten(clout, 1)\n",
    "        if(self.firstEpochFlag):print(flat.shape)\n",
    "            \n",
    "        #Concatenate tabular features!\n",
    "        flat=torch.cat((flat, tabular), -1)\n",
    "        if(self.firstEpochFlag):\n",
    "            print(tabular.shape)\n",
    "            print(flat.shape)\n",
    "            self.firstEpochFlag=False\n",
    "           \n",
    "        output = self.linear_layer(flat)\n",
    "        return output"
   ]
  },
  {
   "cell_type": "code",
   "execution_count": 9,
   "id": "2609a9f8",
   "metadata": {},
   "outputs": [],
   "source": [
    "def train(model,train_loader,criterion,optimizer,epochs,device):\n",
    "    for epoch in range(epochs):\n",
    "        model.train()\n",
    "        for inputs, targets, tabular in train_loader:\n",
    "            optimizer.zero_grad()\n",
    "            inputs = inputs.to(device)\n",
    "            targets = targets.to(device)\n",
    "            tabular = tabular.to(device)\n",
    "            \n",
    "            outputs = model(inputs,tabular)\n",
    "            outputs.to(device)\n",
    "            loss = criterion(outputs, targets)\n",
    "            loss.backward()\n",
    "            optimizer.step()\n",
    "        model.eval()\n",
    "        if(epoch%100 == 0):\n",
    "            print('--',epoch,'-epoch--RMSE-- ',\n",
    "                  np.sqrt(mean_squared_error(10**(targets.cpu().detach().numpy()+y_train_mean.numpy()), \n",
    "                                          10**(outputs.cpu().detach().numpy()+y_train_mean.numpy()))))\n",
    "    return model"
   ]
  },
  {
   "cell_type": "code",
   "execution_count": 10,
   "id": "120180ca",
   "metadata": {},
   "outputs": [],
   "source": [
    "def testALL(model):\n",
    "    dataloaders = [[train_Qdlin_loader,'---RMSE---Train','---MPE---Train',[],[]],\n",
    "                   [test_Qdlin_loader,'---RMSE---Test','---MPE---Test',[],[]],\n",
    "                   [secondary_test_Qdlin_loader,'---RMSE---Test Secondary','---MPE---Test Secondary',[],[]]]\n",
    "    \n",
    "    for dataloader in dataloaders:\n",
    "        for inputs, targets,tabular in dataloader[0]:\n",
    "            inputs = inputs.to(device)\n",
    "            targets = targets.to(device)\n",
    "            tabular = tabular.to(device)\n",
    "            \n",
    "            outputs = model(inputs,tabular)\n",
    "            outputs.to(device)\n",
    "            loss = criterion(outputs, targets)\n",
    "            \n",
    "            dataloader[3] = 10**(targets.cpu().detach().numpy()+y_train_mean.numpy()) # y Target Values\n",
    "            dataloader[4] = 10**(outputs.cpu().detach().numpy()+y_train_mean.numpy()) # y Predicted Values\n",
    "            \n",
    "            RMSE_last_epoch = np.sqrt(mean_squared_error(dataloader[3],dataloader[4]))\n",
    "            MPE_last_epoch = float(np.mean(np.abs( (dataloader[3]-dataloader[4]) / dataloader[3]* 100 )))\n",
    "            \n",
    "            print(RMSE_last_epoch,dataloader[1])\n",
    "            print(MPE_last_epoch,dataloader[2])\n",
    "            \n",
    "            RMSE.append(int(RMSE_last_epoch))\n",
    "            MPE.append(int(MPE_last_epoch))\n",
    "    \n",
    "    plt.figure(figsize=(5,5)) \n",
    "    plt.xlabel('Observed Cycle Life')\n",
    "    plt.ylabel('Predicted Cycle Life')\n",
    "    plt.scatter(x=dataloaders[0][3],y=dataloaders[0][4],marker='o',c='blue',s=100)\n",
    "    plt.scatter(x=dataloaders[1][3],y=dataloaders[1][4],marker='s',c='red',s=100)\n",
    "    plt.scatter(x=dataloaders[2][3],y=dataloaders[2][4],marker='^',c='orange',s=100)\n",
    "    plt.xlim(0,2500)\n",
    "    plt.ylim(0,2500)\n",
    "    plt.plot(range(2500),c='black')\n",
    "    plt.show()"
   ]
  },
  {
   "cell_type": "code",
   "execution_count": 11,
   "id": "937e5c15",
   "metadata": {},
   "outputs": [],
   "source": [
    "torch.set_default_dtype(torch.float64)"
   ]
  },
  {
   "cell_type": "code",
   "execution_count": 12,
   "id": "b7fc6ebf",
   "metadata": {},
   "outputs": [],
   "source": [
    "train_Dataset = CustomDataset(train_Qdlin,y_train,Tabular_Train)\n",
    "test_Dataset = CustomDataset(test_Qdlin,y_test,Tabular_test)\n",
    "secondary_test_Dataset = CustomDataset(secondary_test_Qdlin,y_sec,Tabular_sec)\n",
    "\n",
    "train_Qdlin_loader = DataLoader(train_Dataset, batch_size=41, shuffle=True)\n",
    "test_Qdlin_loader = DataLoader(test_Dataset, batch_size=42, shuffle=True)\n",
    "secondary_test_Qdlin_loader = DataLoader(secondary_test_Dataset, batch_size=40, shuffle=True)"
   ]
  },
  {
   "cell_type": "markdown",
   "id": "2cce8271",
   "metadata": {},
   "source": [
    "# Hyper-parameters"
   ]
  },
  {
   "cell_type": "code",
   "execution_count": 13,
   "id": "39cd5aaa",
   "metadata": {},
   "outputs": [],
   "source": [
    "epochs = 5000\n",
    "learning_rate =.0001\n",
    "weight_decay = .001"
   ]
  },
  {
   "cell_type": "markdown",
   "id": "d7b9ed4a",
   "metadata": {},
   "source": [
    "# Train & Test"
   ]
  },
  {
   "cell_type": "code",
   "execution_count": 14,
   "id": "cd5a69eb",
   "metadata": {},
   "outputs": [
    {
     "name": "stdout",
     "output_type": "stream",
     "text": [
      "cuda:0\n"
     ]
    }
   ],
   "source": [
    "device = torch.device(\"cuda:0\" if torch.cuda.is_available() else \"cpu\")\n",
    "#device = torch.device(\"cpu\")\n",
    "print(device)"
   ]
  },
  {
   "cell_type": "code",
   "execution_count": 15,
   "id": "47967e7c",
   "metadata": {},
   "outputs": [
    {
     "name": "stdout",
     "output_type": "stream",
     "text": [
      "torch.Size([41, 100, 99])\n",
      "torch.Size([41, 1, 100, 99])\n",
      "torch.Size([41, 16, 23, 23])\n",
      "torch.Size([41, 8464])\n",
      "torch.Size([41, 6])\n",
      "torch.Size([41, 8470])\n",
      "-- 0 -epoch--RMSE--  345.414516519224\n",
      "-- 100 -epoch--RMSE--  34.13337887501736\n",
      "-- 200 -epoch--RMSE--  25.695042624339788\n",
      "-- 300 -epoch--RMSE--  23.167757794769134\n",
      "-- 400 -epoch--RMSE--  32.34280228506629\n",
      "-- 500 -epoch--RMSE--  19.365029873511347\n",
      "-- 600 -epoch--RMSE--  19.241105317108296\n",
      "-- 700 -epoch--RMSE--  18.248919071457262\n",
      "-- 800 -epoch--RMSE--  19.642967615302485\n",
      "-- 900 -epoch--RMSE--  17.397655511320412\n",
      "-- 1000 -epoch--RMSE--  19.624572631370654\n",
      "-- 1100 -epoch--RMSE--  18.616815326768673\n",
      "-- 1200 -epoch--RMSE--  21.802892298457934\n",
      "-- 1300 -epoch--RMSE--  21.245155139355212\n",
      "-- 1400 -epoch--RMSE--  16.218000309133107\n",
      "-- 1500 -epoch--RMSE--  16.124562181816515\n",
      "-- 1600 -epoch--RMSE--  18.718844878061454\n",
      "-- 1700 -epoch--RMSE--  16.110571027236176\n",
      "-- 1800 -epoch--RMSE--  16.566146968767274\n",
      "-- 1900 -epoch--RMSE--  15.251842953200605\n",
      "-- 2000 -epoch--RMSE--  18.699966312562434\n",
      "-- 2100 -epoch--RMSE--  16.37654178279264\n",
      "-- 2200 -epoch--RMSE--  19.13422985770642\n",
      "-- 2300 -epoch--RMSE--  15.709995756434132\n",
      "-- 2400 -epoch--RMSE--  15.789945849019142\n",
      "-- 2500 -epoch--RMSE--  15.22399001735111\n",
      "-- 2600 -epoch--RMSE--  15.436213974092839\n",
      "-- 2700 -epoch--RMSE--  14.713207239414077\n",
      "-- 2800 -epoch--RMSE--  18.995365745105694\n",
      "-- 2900 -epoch--RMSE--  14.45770889437487\n",
      "-- 3000 -epoch--RMSE--  14.351042555134125\n",
      "-- 3100 -epoch--RMSE--  15.488477133355742\n",
      "-- 3200 -epoch--RMSE--  18.19076722434129\n",
      "-- 3300 -epoch--RMSE--  14.193796687180061\n",
      "-- 3400 -epoch--RMSE--  15.627963442949634\n",
      "-- 3500 -epoch--RMSE--  15.097946724692667\n",
      "-- 3600 -epoch--RMSE--  16.81534106233743\n",
      "-- 3700 -epoch--RMSE--  13.85829388874487\n",
      "-- 3800 -epoch--RMSE--  14.411630279913208\n",
      "-- 3900 -epoch--RMSE--  14.476623633711682\n",
      "-- 4000 -epoch--RMSE--  14.419055098078928\n",
      "-- 4100 -epoch--RMSE--  14.172673585549795\n",
      "-- 4200 -epoch--RMSE--  14.82402127596971\n",
      "-- 4300 -epoch--RMSE--  14.667081641987046\n",
      "-- 4400 -epoch--RMSE--  17.03820310735919\n",
      "-- 4500 -epoch--RMSE--  14.554585160277766\n",
      "-- 4600 -epoch--RMSE--  14.150299755331671\n",
      "-- 4700 -epoch--RMSE--  13.396564113333774\n",
      "-- 4800 -epoch--RMSE--  16.735226174520218\n",
      "-- 4900 -epoch--RMSE--  13.911882698472622\n"
     ]
    }
   ],
   "source": [
    "criterion=nn.MSELoss()\n",
    "model=CNN(100) #Using only the First 100 cycles\n",
    "optimizer=optim.Adam(model.parameters(),weight_decay=weight_decay, lr=learning_rate)\n",
    "model = model.to(device)\n",
    "model = train(model,train_Qdlin_loader,criterion,optimizer,epochs,device)"
   ]
  },
  {
   "cell_type": "code",
   "execution_count": 16,
   "id": "b178bc43",
   "metadata": {},
   "outputs": [
    {
     "name": "stdout",
     "output_type": "stream",
     "text": [
      "16.34008136468229 ---RMSE---Train\n",
      "1.4733654408619696 ---MPE---Train\n",
      "83.81107514855637 ---RMSE---Test\n",
      "6.578749907197632 ---MPE---Test\n",
      "141.55806030962736 ---RMSE---Test Secondary\n",
      "8.60109558685156 ---MPE---Test Secondary\n"
     ]
    },
    {
     "data": {
      "image/png": "[encoded data removed]",
      "text/plain": [
       "<Figure size 500x500 with 1 Axes>"
      ]
     },
     "metadata": {},
     "output_type": "display_data"
    }
   ],
   "source": [
    "testALL(model)"
   ]
  },
  {
   "cell_type": "markdown",
   "id": "2dbe39ed",
   "metadata": {},
   "source": [
    "################################################################################\n",
    "\n",
    "# Repeat using only the first 60 cycles\n",
    "\n",
    "################################################################################"
   ]
  },
  {
   "cell_type": "code",
   "execution_count": 17,
   "id": "0d55d1e9",
   "metadata": {},
   "outputs": [],
   "source": [
    "#Load tabular data\n",
    "Dataset=pd.read_csv(r'data/TabularSummaryBatteryData-60Cycles.csv')\n",
    "\n",
    "# Scale target Battery life By log 10\n",
    "Dataset['cell_life']=np.log10(Dataset['cell_life'])\n",
    "\n",
    "Training_Data=Dataset.iloc[train_ind]\n",
    "Testing_Data=Dataset.iloc[test_edited_ind]\n",
    "Secondary_Data=Dataset.iloc[secondary_test_ind]\n",
    "\n",
    "#choosing model features According to table 1\n",
    "target_features=['cell_life']\n",
    "\n",
    "varmod_features=['variance_dQ_60_10']\n",
    "\n",
    "dismod_features=['minimum_dQ_60_10',\n",
    "                 'variance_dQ_60_10',\n",
    "                 'skewness_dQ_60_10',\n",
    "                 'kurtosis_dQ_60_10',\n",
    "                 'Discharge_Cap_2',\n",
    "                 'Diff_MaxCap_DC2']\n",
    "    \n",
    "full_features=['minimum_dQ_60_10',\n",
    "               'variance_dQ_60_10',\n",
    "               'Slope_Cap_Fade_2_60',\n",
    "               'Intercept_Cap_Fade_2_60',\n",
    "               'Diff_MaxCap_DC2',\n",
    "               'Discharge_Cap_2',\n",
    "               'Avg_charge_time',\n",
    "               'Temp_Integ_2_60',\n",
    "               'Min_IR',\n",
    "               'Diff_IR_2_60']"
   ]
  },
  {
   "cell_type": "code",
   "execution_count": 18,
   "id": "bb060a2d",
   "metadata": {},
   "outputs": [],
   "source": [
    "#Use only the discharge model Tabular features\n",
    "features = dismod_features #full_features\n",
    "X_train=Training_Data[features].to_numpy()\n",
    "X_test=Testing_Data[features].to_numpy()\n",
    "X_sec=Secondary_Data[features].to_numpy()\n",
    "\n",
    "#Scale\n",
    "scaler = preprocessing.StandardScaler().fit(X_train)\n",
    "Tabular_Train = scaler.transform(X_train)\n",
    "Tabular_test = scaler.transform(X_test)\n",
    "Tabular_sec = scaler.transform(X_sec)"
   ]
  },
  {
   "cell_type": "code",
   "execution_count": 19,
   "id": "d73181a8",
   "metadata": {},
   "outputs": [
    {
     "name": "stdout",
     "output_type": "stream",
     "text": [
      "tensor(1.1621) tensor(-0.8226)\n",
      "tensor(1.0245) tensor(-0.7291)\n",
      "tensor(0.5661) tensor(-0.3582)\n",
      "torch.Size([41, 60, 99])\n",
      "torch.Size([42, 60, 99])\n",
      "torch.Size([40, 60, 99])\n"
     ]
    }
   ],
   "source": [
    "#Load discharge capacity data\n",
    "train_Qdlin=torch.load(r'data/DischargeCapacity-InterpolatedData_Train.pt')\n",
    "test_Qdlin=torch.load(r'data/DischargeCapacity-InterpolatedData_Test.pt')\n",
    "secondary_test_Qdlin=torch.load(r'data/DischargeCapacity-InterpolatedData_Secondary_Test.pt')\n",
    "\n",
    "train_Qdlin = train_Qdlin[:,:60,:]\n",
    "test_Qdlin = test_Qdlin[:,:60,:]\n",
    "secondary_test_Qdlin = secondary_test_Qdlin[:,:60,:]\n",
    "\n",
    "print(train_Qdlin.std(),train_Qdlin.mean())\n",
    "print(test_Qdlin.std(),test_Qdlin.mean())\n",
    "print(secondary_test_Qdlin.std(),secondary_test_Qdlin.mean())\n",
    "\n",
    "print(train_Qdlin.shape)\n",
    "print(test_Qdlin.shape)\n",
    "print(secondary_test_Qdlin.shape)"
   ]
  },
  {
   "cell_type": "code",
   "execution_count": 20,
   "id": "bef83663",
   "metadata": {},
   "outputs": [],
   "source": [
    "y_train=Training_Data[target_features].to_numpy()\n",
    "y_test=Testing_Data[target_features].to_numpy()\n",
    "y_sec=Secondary_Data[target_features].to_numpy()\n",
    "\n",
    "y_train = torch.tensor(y_train)\n",
    "y_test = torch.tensor(y_test)\n",
    "y_sec = torch.tensor(y_sec)\n",
    "\n",
    "y_train_mean = torch.mean(y_train)\n",
    "y_train = y_train - y_train_mean\n",
    "y_test = y_test - y_train_mean\n",
    "y_sec = y_sec - y_train_mean\n",
    "#Be sure to add y_train_mean and 10** All results"
   ]
  },
  {
   "cell_type": "code",
   "execution_count": 21,
   "id": "0fc003bf",
   "metadata": {},
   "outputs": [],
   "source": [
    "torch.set_default_dtype(torch.float64)"
   ]
  },
  {
   "cell_type": "code",
   "execution_count": 22,
   "id": "783c9b5d",
   "metadata": {},
   "outputs": [],
   "source": [
    "train_Dataset = CustomDataset(train_Qdlin,y_train,Tabular_Train)\n",
    "test_Dataset = CustomDataset(test_Qdlin,y_test,Tabular_test)\n",
    "secondary_test_Dataset = CustomDataset(secondary_test_Qdlin,y_sec,Tabular_sec)\n",
    "\n",
    "train_Qdlin_loader = DataLoader(train_Dataset, batch_size=41, shuffle=True)\n",
    "test_Qdlin_loader = DataLoader(test_Dataset, batch_size=42, shuffle=True)\n",
    "secondary_test_Qdlin_loader = DataLoader(secondary_test_Dataset, batch_size=40, shuffle=True)"
   ]
  },
  {
   "cell_type": "markdown",
   "id": "d6f3def0",
   "metadata": {},
   "source": [
    "# Hyper-parameters"
   ]
  },
  {
   "cell_type": "code",
   "execution_count": 23,
   "id": "a3b94adb",
   "metadata": {},
   "outputs": [],
   "source": [
    "epochs = 5000\n",
    "learning_rate =.0001\n",
    "weight_decay = .001"
   ]
  },
  {
   "cell_type": "markdown",
   "id": "9d122b41",
   "metadata": {},
   "source": [
    "# Train & Test"
   ]
  },
  {
   "cell_type": "code",
   "execution_count": 24,
   "id": "40e06a5f",
   "metadata": {},
   "outputs": [
    {
     "name": "stdout",
     "output_type": "stream",
     "text": [
      "cuda:0\n"
     ]
    }
   ],
   "source": [
    "#device = torch.device(\"cuda:0\" if torch.cuda.is_available() else \"cpu\")\n",
    "#device = torch.device(\"cpu\")\n",
    "print(device)"
   ]
  },
  {
   "cell_type": "code",
   "execution_count": 25,
   "id": "d4726a44",
   "metadata": {},
   "outputs": [
    {
     "name": "stdout",
     "output_type": "stream",
     "text": [
      "torch.Size([41, 60, 99])\n",
      "torch.Size([41, 1, 60, 99])\n",
      "torch.Size([41, 16, 13, 23])\n",
      "torch.Size([41, 4784])\n",
      "torch.Size([41, 6])\n",
      "torch.Size([41, 4790])\n",
      "-- 0 -epoch--RMSE--  358.7024882815354\n",
      "-- 100 -epoch--RMSE--  33.84716902476151\n",
      "-- 200 -epoch--RMSE--  21.016322487154092\n",
      "-- 300 -epoch--RMSE--  17.570335442420927\n",
      "-- 400 -epoch--RMSE--  16.321661288273557\n",
      "-- 500 -epoch--RMSE--  15.074609119930825\n",
      "-- 600 -epoch--RMSE--  14.648473211970567\n",
      "-- 700 -epoch--RMSE--  15.540542264822234\n",
      "-- 800 -epoch--RMSE--  15.663811411615796\n",
      "-- 900 -epoch--RMSE--  15.108099852262015\n",
      "-- 1000 -epoch--RMSE--  15.6494469023827\n",
      "-- 1100 -epoch--RMSE--  13.505339165273048\n",
      "-- 1200 -epoch--RMSE--  15.874691156773986\n",
      "-- 1300 -epoch--RMSE--  15.002226285236862\n",
      "-- 1400 -epoch--RMSE--  13.055968597747182\n",
      "-- 1500 -epoch--RMSE--  12.370011715341466\n",
      "-- 1600 -epoch--RMSE--  13.017584030407875\n",
      "-- 1700 -epoch--RMSE--  12.710539375711788\n",
      "-- 1800 -epoch--RMSE--  12.295410479267991\n",
      "-- 1900 -epoch--RMSE--  14.902315665857312\n",
      "-- 2000 -epoch--RMSE--  13.173960861683586\n",
      "-- 2100 -epoch--RMSE--  12.314232251356406\n",
      "-- 2200 -epoch--RMSE--  12.001112917955785\n",
      "-- 2300 -epoch--RMSE--  12.562176321442667\n",
      "-- 2400 -epoch--RMSE--  11.783694890712214\n",
      "-- 2500 -epoch--RMSE--  11.83299440626227\n",
      "-- 2600 -epoch--RMSE--  12.315250107635284\n",
      "-- 2700 -epoch--RMSE--  14.096751285679092\n",
      "-- 2800 -epoch--RMSE--  13.062761752454595\n",
      "-- 2900 -epoch--RMSE--  12.37133215389851\n",
      "-- 3000 -epoch--RMSE--  12.680428634387852\n",
      "-- 3100 -epoch--RMSE--  11.236552531048085\n",
      "-- 3200 -epoch--RMSE--  11.329442933218587\n",
      "-- 3300 -epoch--RMSE--  11.973537716035812\n",
      "-- 3400 -epoch--RMSE--  15.124430221663031\n",
      "-- 3500 -epoch--RMSE--  11.919600541128455\n",
      "-- 3600 -epoch--RMSE--  11.56753866731643\n",
      "-- 3700 -epoch--RMSE--  11.466929043151469\n",
      "-- 3800 -epoch--RMSE--  12.041382949694766\n",
      "-- 3900 -epoch--RMSE--  11.107277673050206\n",
      "-- 4000 -epoch--RMSE--  13.579060114848511\n",
      "-- 4100 -epoch--RMSE--  14.926358420184991\n",
      "-- 4200 -epoch--RMSE--  11.190996078481204\n",
      "-- 4300 -epoch--RMSE--  16.08902590070666\n",
      "-- 4400 -epoch--RMSE--  11.391023876239682\n",
      "-- 4500 -epoch--RMSE--  14.82070577398241\n",
      "-- 4600 -epoch--RMSE--  12.222024358643779\n",
      "-- 4700 -epoch--RMSE--  12.904057588000484\n",
      "-- 4800 -epoch--RMSE--  11.842115303033411\n",
      "-- 4900 -epoch--RMSE--  12.436853598516588\n"
     ]
    }
   ],
   "source": [
    "criterion=nn.MSELoss()\n",
    "model=CNN(60) #Using only the First 60 cycles\n",
    "optimizer=optim.Adam(model.parameters(),weight_decay=weight_decay, lr=learning_rate)\n",
    "model = model.to(device)\n",
    "model = train(model,train_Qdlin_loader,criterion,optimizer,epochs,device)"
   ]
  },
  {
   "cell_type": "code",
   "execution_count": 26,
   "id": "9c6cd6b7",
   "metadata": {},
   "outputs": [
    {
     "name": "stdout",
     "output_type": "stream",
     "text": [
      "14.363278449628641 ---RMSE---Train\n",
      "1.4868797571170143 ---MPE---Train\n",
      "184.76794507207592 ---RMSE---Test\n",
      "8.078864794218159 ---MPE---Test\n",
      "203.7582439141912 ---RMSE---Test Secondary\n",
      "12.814563964017285 ---MPE---Test Secondary\n"
     ]
    },
    {
     "data": {
      "image/png": "[encoded data removed]",
      "text/plain": [
       "<Figure size 500x500 with 1 Axes>"
      ]
     },
     "metadata": {},
     "output_type": "display_data"
    }
   ],
   "source": [
    "testALL(model)"
   ]
  },
  {
   "cell_type": "markdown",
   "id": "61fc8086",
   "metadata": {},
   "source": [
    "################################################################################\n",
    "\n",
    "# Repeat using only the first 40 cycles\n",
    "\n",
    "################################################################################"
   ]
  },
  {
   "cell_type": "code",
   "execution_count": 27,
   "id": "b1fd0694",
   "metadata": {},
   "outputs": [],
   "source": [
    "#Load tabular data\n",
    "Dataset=pd.read_csv(r'data/TabularSummaryBatteryData-40Cycles.csv')\n",
    "\n",
    "# Scale target Battery life By log 10\n",
    "Dataset['cell_life']=np.log10(Dataset['cell_life'])\n",
    "\n",
    "Training_Data=Dataset.iloc[train_ind]\n",
    "Testing_Data=Dataset.iloc[test_edited_ind]\n",
    "Secondary_Data=Dataset.iloc[secondary_test_ind]\n",
    "\n",
    "#choosing model features According to table 1\n",
    "target_features=['cell_life']\n",
    "\n",
    "varmod_features=['variance_dQ_40_10']\n",
    "\n",
    "dismod_features=['minimum_dQ_40_10',\n",
    "                 'variance_dQ_40_10',\n",
    "                 'skewness_dQ_40_10',\n",
    "                 'kurtosis_dQ_40_10',\n",
    "                 'Discharge_Cap_2',\n",
    "                 'Diff_MaxCap_DC2']\n",
    "    \n",
    "full_features=['minimum_dQ_40_10',\n",
    "               'variance_dQ_40_10',\n",
    "               'Slope_Cap_Fade_2_40',\n",
    "               'Intercept_Cap_Fade_2_40',\n",
    "               'Diff_MaxCap_DC2',\n",
    "               'Discharge_Cap_2',\n",
    "               'Avg_charge_time',\n",
    "               'Temp_Integ_2_40',\n",
    "               'Min_IR',\n",
    "               'Diff_IR_2_40']"
   ]
  },
  {
   "cell_type": "code",
   "execution_count": 28,
   "id": "90404b64",
   "metadata": {},
   "outputs": [],
   "source": [
    "#Use only the discharge model Tabular features\n",
    "features = dismod_features #full_features\n",
    "X_train=Training_Data[features].to_numpy()\n",
    "X_test=Testing_Data[features].to_numpy()\n",
    "X_sec=Secondary_Data[features].to_numpy()\n",
    "\n",
    "#Scale\n",
    "scaler = preprocessing.StandardScaler().fit(X_train)\n",
    "Tabular_Train = scaler.transform(X_train)\n",
    "Tabular_test = scaler.transform(X_test)\n",
    "Tabular_sec = scaler.transform(X_sec)"
   ]
  },
  {
   "cell_type": "code",
   "execution_count": 29,
   "id": "5f3f2981",
   "metadata": {},
   "outputs": [
    {
     "name": "stdout",
     "output_type": "stream",
     "text": [
      "tensor(1.1242) tensor(-0.6322)\n",
      "tensor(0.9673) tensor(-0.5410)\n",
      "tensor(0.5148) tensor(-0.2270)\n",
      "torch.Size([41, 40, 99])\n",
      "torch.Size([42, 40, 99])\n",
      "torch.Size([40, 40, 99])\n"
     ]
    }
   ],
   "source": [
    "#Load discharge capacity data\n",
    "train_Qdlin=torch.load(r'data/DischargeCapacity-InterpolatedData_Train.pt')\n",
    "test_Qdlin=torch.load(r'data/DischargeCapacity-InterpolatedData_Test.pt')\n",
    "secondary_test_Qdlin=torch.load(r'data/DischargeCapacity-InterpolatedData_Secondary_Test.pt')\n",
    "\n",
    "train_Qdlin = train_Qdlin[:,:40,:]\n",
    "test_Qdlin = test_Qdlin[:,:40,:]\n",
    "secondary_test_Qdlin = secondary_test_Qdlin[:,:40,:]\n",
    "\n",
    "print(train_Qdlin.std(),train_Qdlin.mean())\n",
    "print(test_Qdlin.std(),test_Qdlin.mean())\n",
    "print(secondary_test_Qdlin.std(),secondary_test_Qdlin.mean())\n",
    "\n",
    "print(train_Qdlin.shape)\n",
    "print(test_Qdlin.shape)\n",
    "print(secondary_test_Qdlin.shape)"
   ]
  },
  {
   "cell_type": "code",
   "execution_count": 30,
   "id": "40a5b935",
   "metadata": {},
   "outputs": [],
   "source": [
    "y_train=Training_Data[target_features].to_numpy()\n",
    "y_test=Testing_Data[target_features].to_numpy()\n",
    "y_sec=Secondary_Data[target_features].to_numpy()\n",
    "\n",
    "y_train = torch.tensor(y_train)\n",
    "y_test = torch.tensor(y_test)\n",
    "y_sec = torch.tensor(y_sec)\n",
    "\n",
    "y_train_mean = torch.mean(y_train)\n",
    "y_train = y_train - y_train_mean\n",
    "y_test = y_test - y_train_mean\n",
    "y_sec = y_sec - y_train_mean\n",
    "#Be sure to add y_train_mean and 10** All results"
   ]
  },
  {
   "cell_type": "code",
   "execution_count": 31,
   "id": "1cf467c4",
   "metadata": {},
   "outputs": [],
   "source": [
    "torch.set_default_dtype(torch.float64)"
   ]
  },
  {
   "cell_type": "code",
   "execution_count": 32,
   "id": "4b5b0e6b",
   "metadata": {},
   "outputs": [],
   "source": [
    "train_Dataset = CustomDataset(train_Qdlin,y_train,Tabular_Train)\n",
    "test_Dataset = CustomDataset(test_Qdlin,y_test,Tabular_test)\n",
    "secondary_test_Dataset = CustomDataset(secondary_test_Qdlin,y_sec,Tabular_sec)\n",
    "\n",
    "train_Qdlin_loader = DataLoader(train_Dataset, batch_size=41, shuffle=True)\n",
    "test_Qdlin_loader = DataLoader(test_Dataset, batch_size=42, shuffle=True)\n",
    "secondary_test_Qdlin_loader = DataLoader(secondary_test_Dataset, batch_size=40, shuffle=True)"
   ]
  },
  {
   "cell_type": "markdown",
   "id": "78279d25",
   "metadata": {},
   "source": [
    "# Hyper-parameters"
   ]
  },
  {
   "cell_type": "code",
   "execution_count": 33,
   "id": "c40293e9",
   "metadata": {},
   "outputs": [],
   "source": [
    "epochs = 5000\n",
    "learning_rate =.0001\n",
    "weight_decay = .001"
   ]
  },
  {
   "cell_type": "markdown",
   "id": "1d7b5ce9",
   "metadata": {},
   "source": [
    "# Train & Test"
   ]
  },
  {
   "cell_type": "code",
   "execution_count": 34,
   "id": "526e55ae",
   "metadata": {},
   "outputs": [
    {
     "name": "stdout",
     "output_type": "stream",
     "text": [
      "cuda:0\n"
     ]
    }
   ],
   "source": [
    "#device = torch.device(\"cuda:0\" if torch.cuda.is_available() else \"cpu\")\n",
    "#device = torch.device(\"cpu\")\n",
    "print(device)"
   ]
  },
  {
   "cell_type": "code",
   "execution_count": 35,
   "id": "a9fbd917",
   "metadata": {},
   "outputs": [
    {
     "name": "stdout",
     "output_type": "stream",
     "text": [
      "torch.Size([41, 40, 99])\n",
      "torch.Size([41, 1, 40, 99])\n",
      "torch.Size([41, 16, 8, 23])\n",
      "torch.Size([41, 2944])\n",
      "torch.Size([41, 6])\n",
      "torch.Size([41, 2950])\n",
      "-- 0 -epoch--RMSE--  322.69592932697816\n",
      "-- 100 -epoch--RMSE--  32.67602153163395\n",
      "-- 200 -epoch--RMSE--  21.33708917613325\n",
      "-- 300 -epoch--RMSE--  18.617485038578387\n",
      "-- 400 -epoch--RMSE--  16.439569477794137\n",
      "-- 500 -epoch--RMSE--  15.493346628693716\n",
      "-- 600 -epoch--RMSE--  15.112906719041192\n",
      "-- 700 -epoch--RMSE--  14.765728519506675\n",
      "-- 800 -epoch--RMSE--  14.17486305413041\n",
      "-- 900 -epoch--RMSE--  16.443844736602138\n",
      "-- 1000 -epoch--RMSE--  14.172456444640083\n",
      "-- 1100 -epoch--RMSE--  14.368121029718981\n",
      "-- 1200 -epoch--RMSE--  15.894879744789009\n",
      "-- 1300 -epoch--RMSE--  13.899623149320199\n",
      "-- 1400 -epoch--RMSE--  14.751779905370034\n",
      "-- 1500 -epoch--RMSE--  13.962745432031442\n",
      "-- 1600 -epoch--RMSE--  13.269468301097366\n",
      "-- 1700 -epoch--RMSE--  13.16534093442144\n",
      "-- 1800 -epoch--RMSE--  13.011959276209891\n",
      "-- 1900 -epoch--RMSE--  12.97151793319778\n",
      "-- 2000 -epoch--RMSE--  12.594310679472386\n",
      "-- 2100 -epoch--RMSE--  14.307746517758378\n",
      "-- 2200 -epoch--RMSE--  14.149250570074836\n",
      "-- 2300 -epoch--RMSE--  13.241843748459084\n",
      "-- 2400 -epoch--RMSE--  12.328397449475961\n",
      "-- 2500 -epoch--RMSE--  13.362055236444194\n",
      "-- 2600 -epoch--RMSE--  12.997193848957123\n",
      "-- 2700 -epoch--RMSE--  12.105239353837637\n",
      "-- 2800 -epoch--RMSE--  13.705942826220227\n",
      "-- 2900 -epoch--RMSE--  12.093998319084124\n",
      "-- 3000 -epoch--RMSE--  14.4912109010891\n",
      "-- 3100 -epoch--RMSE--  11.991748970289981\n",
      "-- 3200 -epoch--RMSE--  12.685425460960078\n",
      "-- 3300 -epoch--RMSE--  11.74542463288503\n",
      "-- 3400 -epoch--RMSE--  13.875910614963763\n",
      "-- 3500 -epoch--RMSE--  11.600708477439587\n",
      "-- 3600 -epoch--RMSE--  11.45192326460892\n",
      "-- 3700 -epoch--RMSE--  12.42886464884673\n",
      "-- 3800 -epoch--RMSE--  11.538672659047624\n",
      "-- 3900 -epoch--RMSE--  11.767490055944835\n",
      "-- 4000 -epoch--RMSE--  14.311426073375815\n",
      "-- 4100 -epoch--RMSE--  13.41915978690009\n",
      "-- 4200 -epoch--RMSE--  11.82554540806995\n",
      "-- 4300 -epoch--RMSE--  11.47748553044124\n",
      "-- 4400 -epoch--RMSE--  12.332811416612726\n",
      "-- 4500 -epoch--RMSE--  11.37078516196492\n",
      "-- 4600 -epoch--RMSE--  11.726345829838039\n",
      "-- 4700 -epoch--RMSE--  13.243133753629253\n",
      "-- 4800 -epoch--RMSE--  11.504066852993768\n",
      "-- 4900 -epoch--RMSE--  15.386765212182569\n"
     ]
    }
   ],
   "source": [
    "criterion=nn.MSELoss()\n",
    "model=CNN(40) #Using only the First 40 cycles\n",
    "optimizer=optim.Adam(model.parameters(),weight_decay=weight_decay, lr=learning_rate)\n",
    "model = model.to(device)\n",
    "model = train(model,train_Qdlin_loader,criterion,optimizer,epochs,device)"
   ]
  },
  {
   "cell_type": "code",
   "execution_count": 36,
   "id": "9ccf1725",
   "metadata": {},
   "outputs": [
    {
     "name": "stdout",
     "output_type": "stream",
     "text": [
      "11.549362041686658 ---RMSE---Train\n",
      "1.3718180305934202 ---MPE---Train\n",
      "80.31188968070668 ---RMSE---Test\n",
      "6.1245848155615095 ---MPE---Test\n",
      "206.52126950490876 ---RMSE---Test Secondary\n",
      "11.934319511808848 ---MPE---Test Secondary\n"
     ]
    },
    {
     "data": {
      "image/png": "[encoded data removed]",
      "text/plain": [
       "<Figure size 500x500 with 1 Axes>"
      ]
     },
     "metadata": {},
     "output_type": "display_data"
    }
   ],
   "source": [
    "testALL(model)"
   ]
  },
  {
   "cell_type": "markdown",
   "id": "238135b1",
   "metadata": {},
   "source": [
    "################################################################################\n",
    "\n",
    "# Repeat using only the first 20 cycles\n",
    "\n",
    "################################################################################"
   ]
  },
  {
   "cell_type": "code",
   "execution_count": 37,
   "id": "90303992",
   "metadata": {},
   "outputs": [],
   "source": [
    "#Load tabular data\n",
    "Dataset=pd.read_csv(r'data/TabularSummaryBatteryData-20Cycles.csv')\n",
    "\n",
    "# Scale target Battery life By log 10\n",
    "Dataset['cell_life']=np.log10(Dataset['cell_life'])\n",
    "\n",
    "Training_Data=Dataset.iloc[train_ind]\n",
    "Testing_Data=Dataset.iloc[test_edited_ind]\n",
    "Secondary_Data=Dataset.iloc[secondary_test_ind]\n",
    "\n",
    "#choosing model features According to table 1\n",
    "target_features=['cell_life']\n",
    "\n",
    "varmod_features=['variance_dQ_20_10']\n",
    "\n",
    "dismod_features=['minimum_dQ_20_10',\n",
    "                 'variance_dQ_20_10',\n",
    "                 'skewness_dQ_20_10',\n",
    "                 'kurtosis_dQ_20_10',\n",
    "                 'Discharge_Cap_2',\n",
    "                 'Diff_MaxCap_DC2']\n",
    "    \n",
    "full_features=['minimum_dQ_20_10',\n",
    "               'variance_dQ_20_10',\n",
    "               'Slope_Cap_Fade_2_20',\n",
    "               'Intercept_Cap_Fade_2_20',\n",
    "               'Diff_MaxCap_DC2',\n",
    "               'Discharge_Cap_2',\n",
    "               'Avg_charge_time',\n",
    "               'Temp_Integ_2_20',\n",
    "               'Min_IR',\n",
    "               'Diff_IR_2_20']"
   ]
  },
  {
   "cell_type": "code",
   "execution_count": 38,
   "id": "71813cf3",
   "metadata": {},
   "outputs": [],
   "source": [
    "#Use only the discharge model Tabular features\n",
    "features = dismod_features #full_features\n",
    "X_train=Training_Data[features].to_numpy()\n",
    "X_test=Testing_Data[features].to_numpy()\n",
    "X_sec=Secondary_Data[features].to_numpy()\n",
    "\n",
    "#Scale\n",
    "scaler = preprocessing.StandardScaler().fit(X_train)\n",
    "Tabular_Train = scaler.transform(X_train)\n",
    "Tabular_test = scaler.transform(X_test)\n",
    "Tabular_sec = scaler.transform(X_sec)"
   ]
  },
  {
   "cell_type": "code",
   "execution_count": 39,
   "id": "90002a55",
   "metadata": {},
   "outputs": [
    {
     "name": "stdout",
     "output_type": "stream",
     "text": [
      "tensor(0.0264) tensor(-0.0102)\n",
      "tensor(0.0276) tensor(-0.0079)\n",
      "tensor(0.0151) tensor(0.0023)\n",
      "torch.Size([41, 20, 99])\n",
      "torch.Size([42, 20, 99])\n",
      "torch.Size([40, 20, 99])\n"
     ]
    }
   ],
   "source": [
    "#Load discharge capacity data\n",
    "train_Qdlin=torch.load(r'data/DischargeCapacity-InterpolatedData_Train.pt')\n",
    "test_Qdlin=torch.load(r'data/DischargeCapacity-InterpolatedData_Test.pt')\n",
    "secondary_test_Qdlin=torch.load(r'data/DischargeCapacity-InterpolatedData_Secondary_Test.pt')\n",
    "\n",
    "train_Qdlin = train_Qdlin[:,:20,:]\n",
    "test_Qdlin = test_Qdlin[:,:20,:]\n",
    "secondary_test_Qdlin = secondary_test_Qdlin[:,:20,:]\n",
    "\n",
    "print(train_Qdlin.std(),train_Qdlin.mean())\n",
    "print(test_Qdlin.std(),test_Qdlin.mean())\n",
    "print(secondary_test_Qdlin.std(),secondary_test_Qdlin.mean())\n",
    "\n",
    "print(train_Qdlin.shape)\n",
    "print(test_Qdlin.shape)\n",
    "print(secondary_test_Qdlin.shape)"
   ]
  },
  {
   "cell_type": "code",
   "execution_count": 40,
   "id": "bc1d42f5",
   "metadata": {},
   "outputs": [],
   "source": [
    "y_train=Training_Data[target_features].to_numpy()\n",
    "y_test=Testing_Data[target_features].to_numpy()\n",
    "y_sec=Secondary_Data[target_features].to_numpy()\n",
    "\n",
    "y_train = torch.tensor(y_train)\n",
    "y_test = torch.tensor(y_test)\n",
    "y_sec = torch.tensor(y_sec)\n",
    "\n",
    "y_train_mean = torch.mean(y_train)\n",
    "y_train = y_train - y_train_mean\n",
    "y_test = y_test - y_train_mean\n",
    "y_sec = y_sec - y_train_mean\n",
    "#Be sure to add y_train_mean and 10** All results"
   ]
  },
  {
   "cell_type": "code",
   "execution_count": 41,
   "id": "8342c07b",
   "metadata": {},
   "outputs": [],
   "source": [
    "torch.set_default_dtype(torch.float64)"
   ]
  },
  {
   "cell_type": "code",
   "execution_count": 42,
   "id": "85dad3d4",
   "metadata": {},
   "outputs": [],
   "source": [
    "train_Dataset = CustomDataset(train_Qdlin,y_train,Tabular_Train)\n",
    "test_Dataset = CustomDataset(test_Qdlin,y_test,Tabular_test)\n",
    "secondary_test_Dataset = CustomDataset(secondary_test_Qdlin,y_sec,Tabular_sec)\n",
    "\n",
    "train_Qdlin_loader = DataLoader(train_Dataset, batch_size=41, shuffle=True)\n",
    "test_Qdlin_loader = DataLoader(test_Dataset, batch_size=42, shuffle=True)\n",
    "secondary_test_Qdlin_loader = DataLoader(secondary_test_Dataset, batch_size=40, shuffle=True)"
   ]
  },
  {
   "cell_type": "markdown",
   "id": "76a5f487",
   "metadata": {},
   "source": [
    "# Hyper-parameters"
   ]
  },
  {
   "cell_type": "code",
   "execution_count": 43,
   "id": "68ef5604",
   "metadata": {},
   "outputs": [],
   "source": [
    "epochs = 5000\n",
    "learning_rate =.0001\n",
    "weight_decay = .001"
   ]
  },
  {
   "cell_type": "markdown",
   "id": "a20f1373",
   "metadata": {},
   "source": [
    "# Train & Test"
   ]
  },
  {
   "cell_type": "code",
   "execution_count": 44,
   "id": "69bf381c",
   "metadata": {},
   "outputs": [
    {
     "name": "stdout",
     "output_type": "stream",
     "text": [
      "cuda:0\n"
     ]
    }
   ],
   "source": [
    "#device = torch.device(\"cuda:0\" if torch.cuda.is_available() else \"cpu\")\n",
    "#device = torch.device(\"cpu\")\n",
    "print(device)"
   ]
  },
  {
   "cell_type": "code",
   "execution_count": 45,
   "id": "722c4423",
   "metadata": {},
   "outputs": [
    {
     "name": "stdout",
     "output_type": "stream",
     "text": [
      "torch.Size([41, 20, 99])\n",
      "torch.Size([41, 1, 20, 99])\n",
      "torch.Size([41, 16, 3, 23])\n",
      "torch.Size([41, 1104])\n",
      "torch.Size([41, 6])\n",
      "torch.Size([41, 1110])\n",
      "-- 0 -epoch--RMSE--  345.7903297511116\n",
      "-- 100 -epoch--RMSE--  299.68268093471016\n",
      "-- 200 -epoch--RMSE--  279.42966881611204\n",
      "-- 300 -epoch--RMSE--  243.8176281628485\n",
      "-- 400 -epoch--RMSE--  188.27451597441035\n",
      "-- 500 -epoch--RMSE--  135.26752072924126\n",
      "-- 600 -epoch--RMSE--  100.85923598314108\n",
      "-- 700 -epoch--RMSE--  80.11912053604219\n",
      "-- 800 -epoch--RMSE--  67.24196800295891\n",
      "-- 900 -epoch--RMSE--  62.62517610969971\n",
      "-- 1000 -epoch--RMSE--  54.365296432911435\n",
      "-- 1100 -epoch--RMSE--  51.07733888056334\n",
      "-- 1200 -epoch--RMSE--  45.18600715521742\n",
      "-- 1300 -epoch--RMSE--  45.00847225281959\n",
      "-- 1400 -epoch--RMSE--  43.80012947135444\n",
      "-- 1500 -epoch--RMSE--  39.655262238416064\n",
      "-- 1600 -epoch--RMSE--  38.251835938926554\n",
      "-- 1700 -epoch--RMSE--  38.3769793077512\n",
      "-- 1800 -epoch--RMSE--  34.60262470800681\n",
      "-- 1900 -epoch--RMSE--  35.16989250212083\n",
      "-- 2000 -epoch--RMSE--  35.287265940548835\n",
      "-- 2100 -epoch--RMSE--  34.43017149838995\n",
      "-- 2200 -epoch--RMSE--  30.75805791770472\n",
      "-- 2300 -epoch--RMSE--  33.82776311098231\n",
      "-- 2400 -epoch--RMSE--  30.81952307722399\n",
      "-- 2500 -epoch--RMSE--  30.11242294309673\n",
      "-- 2600 -epoch--RMSE--  29.328730658089874\n",
      "-- 2700 -epoch--RMSE--  29.009596118704064\n",
      "-- 2800 -epoch--RMSE--  27.99778147902464\n",
      "-- 2900 -epoch--RMSE--  29.78996797801476\n",
      "-- 3000 -epoch--RMSE--  28.411031164787165\n",
      "-- 3100 -epoch--RMSE--  28.703345475221457\n",
      "-- 3200 -epoch--RMSE--  28.056922578526187\n",
      "-- 3300 -epoch--RMSE--  28.923490186448\n",
      "-- 3400 -epoch--RMSE--  27.915825533137248\n",
      "-- 3500 -epoch--RMSE--  28.800021727009433\n",
      "-- 3600 -epoch--RMSE--  27.40336983019869\n",
      "-- 3700 -epoch--RMSE--  29.37240740800489\n",
      "-- 3800 -epoch--RMSE--  29.03263716229451\n",
      "-- 3900 -epoch--RMSE--  27.07168988321939\n",
      "-- 4000 -epoch--RMSE--  25.80175486274406\n",
      "-- 4100 -epoch--RMSE--  26.476196297010834\n",
      "-- 4200 -epoch--RMSE--  27.147285554490107\n",
      "-- 4300 -epoch--RMSE--  26.657637254676736\n",
      "-- 4400 -epoch--RMSE--  28.09159601101341\n",
      "-- 4500 -epoch--RMSE--  26.817180311621627\n",
      "-- 4600 -epoch--RMSE--  26.17997757966647\n",
      "-- 4700 -epoch--RMSE--  25.916999325765303\n",
      "-- 4800 -epoch--RMSE--  26.788234389691866\n",
      "-- 4900 -epoch--RMSE--  25.837432339951093\n"
     ]
    }
   ],
   "source": [
    "criterion=nn.MSELoss()\n",
    "model=CNN(20) #Using only the First 20 cycles\n",
    "optimizer=optim.Adam(model.parameters(),weight_decay=weight_decay, lr=learning_rate)\n",
    "model = model.to(device)\n",
    "model = train(model,train_Qdlin_loader,criterion,optimizer,epochs,device)"
   ]
  },
  {
   "cell_type": "code",
   "execution_count": 46,
   "id": "9b631b4b",
   "metadata": {},
   "outputs": [
    {
     "name": "stdout",
     "output_type": "stream",
     "text": [
      "26.138900862658982 ---RMSE---Train\n",
      "1.9748290300434432 ---MPE---Train\n",
      "217.06044339896562 ---RMSE---Test\n",
      "16.02495983211642 ---MPE---Test\n",
      "462.78990495290014 ---RMSE---Test Secondary\n",
      "32.32267024867713 ---MPE---Test Secondary\n"
     ]
    },
    {
     "data": {
      "image/png": "[encoded data removed]",
      "text/plain": [
       "<Figure size 500x500 with 1 Axes>"
      ]
     },
     "metadata": {},
     "output_type": "display_data"
    }
   ],
   "source": [
    "testALL(model)"
   ]
  },
  {
   "cell_type": "code",
   "execution_count": 47,
   "id": "c2d276b2",
   "metadata": {},
   "outputs": [
    {
     "data": {
      "text/html": [
       "<div>\n",
       "<style scoped>\n",
       "    .dataframe tbody tr th:only-of-type {\n",
       "        vertical-align: middle;\n",
       "    }\n",
       "\n",
       "    .dataframe tbody tr th {\n",
       "        vertical-align: top;\n",
       "    }\n",
       "\n",
       "    .dataframe thead th {\n",
       "        text-align: right;\n",
       "    }\n",
       "</style>\n",
       "<table border=\"1\" class=\"dataframe\">\n",
       "  <thead>\n",
       "    <tr style=\"text-align: right;\">\n",
       "      <th></th>\n",
       "      <th>Model</th>\n",
       "      <th>RMSE - Train</th>\n",
       "      <th>RMSE - Test</th>\n",
       "      <th>RMSE - Secondary test</th>\n",
       "      <th>MPE - Train</th>\n",
       "      <th>MPE - Test</th>\n",
       "      <th>MPE - Secondary test</th>\n",
       "    </tr>\n",
       "  </thead>\n",
       "  <tbody>\n",
       "    <tr>\n",
       "      <th>0</th>\n",
       "      <td>CNN 100 cycles</td>\n",
       "      <td>16</td>\n",
       "      <td>83</td>\n",
       "      <td>141</td>\n",
       "      <td>1</td>\n",
       "      <td>6</td>\n",
       "      <td>8</td>\n",
       "    </tr>\n",
       "    <tr>\n",
       "      <th>1</th>\n",
       "      <td>CNN 60 cycles</td>\n",
       "      <td>14</td>\n",
       "      <td>184</td>\n",
       "      <td>203</td>\n",
       "      <td>1</td>\n",
       "      <td>8</td>\n",
       "      <td>12</td>\n",
       "    </tr>\n",
       "    <tr>\n",
       "      <th>2</th>\n",
       "      <td>CNN 40 cycles</td>\n",
       "      <td>11</td>\n",
       "      <td>80</td>\n",
       "      <td>206</td>\n",
       "      <td>1</td>\n",
       "      <td>6</td>\n",
       "      <td>11</td>\n",
       "    </tr>\n",
       "    <tr>\n",
       "      <th>3</th>\n",
       "      <td>CNN 20 cycles</td>\n",
       "      <td>26</td>\n",
       "      <td>217</td>\n",
       "      <td>462</td>\n",
       "      <td>1</td>\n",
       "      <td>16</td>\n",
       "      <td>32</td>\n",
       "    </tr>\n",
       "  </tbody>\n",
       "</table>\n",
       "</div>"
      ],
      "text/plain": [
       "            Model  RMSE - Train  RMSE - Test  RMSE - Secondary test  \\\n",
       "0  CNN 100 cycles            16           83                    141   \n",
       "1   CNN 60 cycles            14          184                    203   \n",
       "2   CNN 40 cycles            11           80                    206   \n",
       "3   CNN 20 cycles            26          217                    462   \n",
       "\n",
       "   MPE - Train  MPE - Test  MPE - Secondary test  \n",
       "0            1           6                     8  \n",
       "1            1           8                    12  \n",
       "2            1           6                    11  \n",
       "3            1          16                    32  "
      ]
     },
     "execution_count": 47,
     "metadata": {},
     "output_type": "execute_result"
    }
   ],
   "source": [
    "pd.DataFrame({\"Model\":[ \"CNN 100 cycles\", \"CNN 60 cycles\",\"CNN 40 cycles\",\"CNN 20 cycles\"],\n",
    "      \"RMSE - Train\": [RMSE[0],RMSE[3],RMSE[6],RMSE[9]],\n",
    "      \"RMSE - Test\": [RMSE[1],RMSE[4],RMSE[7],RMSE[10]],\n",
    "      \"RMSE - Secondary test\": [RMSE[2],RMSE[5],RMSE[8],RMSE[11]],\n",
    "      \"MPE - Train\": [MPE[0],MPE[3],MPE[6],MPE[9]],\n",
    "      \"MPE - Test\": [MPE[1],MPE[4],MPE[7],MPE[10]],\n",
    "      \"MPE - Secondary test\": [MPE[2],MPE[5],MPE[8],MPE[11]]})  "
   ]
  },
  {
   "cell_type": "markdown",
   "id": "a43d5844",
   "metadata": {},
   "source": [
    "Attia, P. M., Severson, K. A., & Witmer, J. D. (2021). Statistical learning for accurate and interpretable battery lifetime prediction. Journal of The Electrochemical Society, 168(9), 090547. doi.org/10.1149/1945-7111/ac2704"
   ]
  },
  {
   "cell_type": "code",
   "execution_count": null,
   "id": "f7fbc7b0",
   "metadata": {},
   "outputs": [],
   "source": []
  },
  {
   "cell_type": "code",
   "execution_count": null,
   "id": "3ff607c9",
   "metadata": {},
   "outputs": [],
   "source": []
  },
  {
   "cell_type": "code",
   "execution_count": null,
   "id": "38f9901f",
   "metadata": {},
   "outputs": [],
   "source": []
  },
  {
   "cell_type": "code",
   "execution_count": null,
   "id": "efca7a04",
   "metadata": {},
   "outputs": [],
   "source": []
  },
  {
   "cell_type": "code",
   "execution_count": null,
   "id": "af764ac8",
   "metadata": {},
   "outputs": [],
   "source": []
  }
 ],
 "metadata": {
  "kernelspec": {
   "display_name": "Python 3 (ipykernel)",
   "language": "python",
   "name": "python3"
  },
  "language_info": {
   "codemirror_mode": {
    "name": "ipython",
    "version": 3
   },
   "file_extension": ".py",
   "mimetype": "text/x-python",
   "name": "python",
   "nbconvert_exporter": "python",
   "pygments_lexer": "ipython3",
   "version": "3.9.7"
  }
 },
 "nbformat": 4,
 "nbformat_minor": 5
}
