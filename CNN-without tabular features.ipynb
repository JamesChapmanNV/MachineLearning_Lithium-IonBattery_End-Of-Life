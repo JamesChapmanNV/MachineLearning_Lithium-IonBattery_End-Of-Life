{
 "cells": [
  {
   "cell_type": "code",
   "execution_count": 1,
   "id": "aa65c7c3",
   "metadata": {
    "scrolled": true
   },
   "outputs": [
    {
     "data": {
      "text/plain": [
       "<torch._C.Generator at 0x17c0d3889f0>"
      ]
     },
     "execution_count": 1,
     "metadata": {},
     "output_type": "execute_result"
    }
   ],
   "source": [
    "import matplotlib.pyplot as plt\n",
    "import numpy as np\n",
    "import pandas as pd\n",
    "\n",
    "from sklearn import preprocessing\n",
    "from sklearn.metrics import mean_squared_error,mean_absolute_error\n",
    "from sklearn.model_selection import GridSearchCV\n",
    "\n",
    "import torch\n",
    "import torch.nn as nn\n",
    "import torch.optim as optim\n",
    "from torch.utils.data import DataLoader,Dataset\n",
    "from torch.autograd import Variable\n",
    "\n",
    "torch.manual_seed(0)"
   ]
  },
  {
   "cell_type": "code",
   "execution_count": 2,
   "id": "2abc9176",
   "metadata": {},
   "outputs": [],
   "source": [
    "# Keep results\n",
    "RMSE=list()\n",
    "MPE=list()"
   ]
  },
  {
   "cell_type": "code",
   "execution_count": 3,
   "id": "9678d3f0",
   "metadata": {},
   "outputs": [],
   "source": [
    "#Load tabular data\n",
    "Dataset=pd.read_csv(r'data/TabularSummaryBatteryData.csv')\n",
    "\n",
    "#Scale Cell life target Values\n",
    "Dataset['cell_life']=np.log10(Dataset['cell_life'])\n",
    "\n",
    "numBat1=41\n",
    "numBat2=43\n",
    "numBat3=40\n",
    "numBat=124\n",
    "test_ind = np.hstack((np.arange(0,(numBat1+numBat2),2),83))\n",
    "test_edited_ind = np.delete(test_ind, 21) # Remove battery \n",
    "train_ind = np.arange(1,(numBat1+numBat2-1),2)\n",
    "secondary_test_ind = np.arange(numBat-numBat3,numBat)\n",
    "\n",
    "Training_Data=Dataset.iloc[train_ind]\n",
    "Testing_Data=Dataset.iloc[test_edited_ind]\n",
    "Secondary_Data=Dataset.iloc[secondary_test_ind]\n",
    "\n",
    "#choosing model features According to table 1\n",
    "target_features=['cell_life']\n",
    "\n",
    "varmod_features=['variance_dQ_100_10']\n",
    "\n",
    "dismod_features=['minimum_dQ_100_10',\n",
    "                 'variance_dQ_100_10',\n",
    "                 'skewness_dQ_100_10',\n",
    "                 'kurtosis_dQ_100_10',\n",
    "                 'Discharge_Cap_2',\n",
    "                 'Diff_MaxCap_DC2']\n",
    "    \n",
    "full_features=['minimum_dQ_100_10',\n",
    "               'variance_dQ_100_10',\n",
    "               'Slope_Cap_Fade_2_100',\n",
    "               'Intercept_Cap_Fade_2_100',\n",
    "               'Diff_MaxCap_DC2',\n",
    "               'Discharge_Cap_2',\n",
    "               'Avg_charge_time',\n",
    "               'Temp_Integ_2_100',\n",
    "               'Min_IR',\n",
    "               'Diff_IR_2_100']"
   ]
  },
  {
   "cell_type": "code",
   "execution_count": 4,
   "id": "a7debfc2",
   "metadata": {},
   "outputs": [],
   "source": [
    "#Use only the discharge model Tabular features\n",
    "features = dismod_features #full_features\n",
    "X_train=Training_Data[features].to_numpy()\n",
    "X_test=Testing_Data[features].to_numpy()\n",
    "X_sec=Secondary_Data[features].to_numpy()\n",
    "\n",
    "#Scale\n",
    "scaler = preprocessing.StandardScaler().fit(X_train)\n",
    "Tabular_Train = scaler.transform(X_train)\n",
    "Tabular_test = scaler.transform(X_test)\n",
    "Tabular_sec = scaler.transform(X_sec)"
   ]
  },
  {
   "cell_type": "code",
   "execution_count": 5,
   "id": "c725d1cb",
   "metadata": {},
   "outputs": [
    {
     "name": "stdout",
     "output_type": "stream",
     "text": [
      "tensor(1.0000, dtype=torch.float64) tensor(-0.6982, dtype=torch.float64)\n",
      "tensor(0.8786, dtype=torch.float64) tensor(-0.6188, dtype=torch.float64)\n",
      "tensor(0.4862, dtype=torch.float64) tensor(-0.3183, dtype=torch.float64)\n",
      "torch.Size([41, 100, 99])\n",
      "torch.Size([42, 100, 99])\n",
      "torch.Size([40, 100, 99])\n"
     ]
    }
   ],
   "source": [
    "#Load discharge capacity data\n",
    "train_Qdlin=torch.load(r'data/DischargeCapacity-InterpolatedData_Train.pt')\n",
    "test_Qdlin=torch.load(r'data/DischargeCapacity-InterpolatedData_Test.pt')\n",
    "secondary_test_Qdlin=torch.load(r'data/DischargeCapacity-InterpolatedData_Secondary_Test.pt')\n",
    "\n",
    "print(train_Qdlin.std(),train_Qdlin.mean())\n",
    "print(test_Qdlin.std(),test_Qdlin.mean())\n",
    "print(secondary_test_Qdlin.std(),secondary_test_Qdlin.mean())\n",
    "\n",
    "print(train_Qdlin.shape)\n",
    "print(test_Qdlin.shape)\n",
    "print(secondary_test_Qdlin.shape)"
   ]
  },
  {
   "cell_type": "code",
   "execution_count": 6,
   "id": "05dd7ec5",
   "metadata": {},
   "outputs": [],
   "source": [
    "y_train=Training_Data[target_features].to_numpy()\n",
    "y_test=Testing_Data[target_features].to_numpy()\n",
    "y_sec=Secondary_Data[target_features].to_numpy()\n",
    "\n",
    "y_train = torch.tensor(y_train)\n",
    "y_test = torch.tensor(y_test)\n",
    "y_sec = torch.tensor(y_sec)\n",
    "\n",
    "y_train_mean = torch.mean(y_train)\n",
    "y_train = y_train - y_train_mean\n",
    "y_test = y_test - y_train_mean\n",
    "y_sec = y_sec - y_train_mean\n",
    "#Be sure to add y_train_mean and 10** All results"
   ]
  },
  {
   "cell_type": "code",
   "execution_count": 7,
   "id": "df622a5f",
   "metadata": {},
   "outputs": [],
   "source": [
    "from torch.utils.data import Dataset\n",
    "class CustomDataset(Dataset):\n",
    "    def __init__(self, features, targets, tabular):\n",
    "        self.features = features\n",
    "        self.targets = targets\n",
    "        self.tabular = tabular #Merge tabular data set\n",
    "    \n",
    "    def __getitem__(self, idx):\n",
    "        return self.features[idx], self.targets[idx], self.tabular[idx]\n",
    "  \n",
    "    def __len__(self):\n",
    "        return len(self.features)"
   ]
  },
  {
   "cell_type": "code",
   "execution_count": 8,
   "id": "641f8489",
   "metadata": {},
   "outputs": [],
   "source": [
    "class CNN(nn.Module):\n",
    "\n",
    "    def __init__(self,inputSize):\n",
    "        \n",
    "        super(CNN, self).__init__()\n",
    "        self.firstEpochFlag=True\n",
    "        # Calculates size of first linear layer \n",
    "        # This allows the Module to be used with different number of cycles\n",
    "        self.linearSize=((((inputSize-2)//2)-2)//2)*23*16#+6\n",
    "        \n",
    "        self.convolutional_layer = nn.Sequential(            \n",
    "            nn.Conv2d(in_channels=1, out_channels=6, kernel_size=(3,3)),\n",
    "            nn.ReLU(), \n",
    "            nn.MaxPool2d(kernel_size=2, stride=2),\n",
    "            #nn.BatchNorm2d(3),\n",
    "            nn.Conv2d(in_channels=6, out_channels=16, kernel_size=(3,3)),\n",
    "            nn.ReLU(),\n",
    "            nn.MaxPool2d(kernel_size=2, stride=2, padding=0),\n",
    "        )\n",
    "        self.linear_layer = nn.Sequential(\n",
    "            nn.Linear(self.linearSize,120),\n",
    "            #nn.Dropout(.1)\n",
    "            nn.ReLU(),\n",
    "            nn.Linear(120,84),  \n",
    "            nn.ReLU(),\n",
    "            nn.Linear(84,1),\n",
    "        )\n",
    "\n",
    "    def forward(self, x,tabular):\n",
    "        #Print the shapes of the data on the first Epoch\n",
    "        if(self.firstEpochFlag):print(x.shape)\n",
    "        \n",
    "        x = x.view(-1, 1,x.shape[1],99)\n",
    "        if(self.firstEpochFlag):print(x.shape)\n",
    "        \n",
    "        clout = self.convolutional_layer(x)\n",
    "        if(self.firstEpochFlag):print(clout.shape)\n",
    "        \n",
    "        flat = torch.flatten(clout, 1)\n",
    "        if(self.firstEpochFlag):print(flat.shape)\n",
    "            \n",
    "        #Concatenate tabular features!\n",
    "        #flat=torch.cat((flat, tabular), -1)\n",
    "        if(self.firstEpochFlag):\n",
    "            print(tabular.shape)\n",
    "            print(flat.shape)\n",
    "            self.firstEpochFlag=False\n",
    "           \n",
    "        output = self.linear_layer(flat)\n",
    "        return output"
   ]
  },
  {
   "cell_type": "code",
   "execution_count": 9,
   "id": "2609a9f8",
   "metadata": {},
   "outputs": [],
   "source": [
    "def train(model,train_loader,criterion,optimizer,epochs,device):\n",
    "    for epoch in range(epochs):\n",
    "        model.train()\n",
    "        for inputs, targets, tabular in train_loader:\n",
    "            optimizer.zero_grad()\n",
    "            inputs = inputs.to(device)\n",
    "            targets = targets.to(device)\n",
    "            tabular = tabular.to(device)\n",
    "            \n",
    "            outputs = model(inputs,tabular)\n",
    "            outputs.to(device)\n",
    "            loss = criterion(outputs, targets)\n",
    "            loss.backward()\n",
    "            optimizer.step()\n",
    "        model.eval()\n",
    "        if(epoch%100 == 0):\n",
    "            print('--',epoch,'-epoch--RMSE-- ',\n",
    "                  np.sqrt(mean_squared_error(10**(targets.cpu().detach().numpy()+y_train_mean.numpy()), \n",
    "                                          10**(outputs.cpu().detach().numpy()+y_train_mean.numpy()))))\n",
    "    return model"
   ]
  },
  {
   "cell_type": "code",
   "execution_count": 10,
   "id": "120180ca",
   "metadata": {},
   "outputs": [],
   "source": [
    "def testALL(model):\n",
    "    dataloaders = [[train_Qdlin_loader,'---RMSE---Train','---MPE---Train',[],[]],\n",
    "                   [test_Qdlin_loader,'---RMSE---Test','---MPE---Test',[],[]],\n",
    "                   [secondary_test_Qdlin_loader,'---RMSE---Test Secondary','---MPE---Test Secondary',[],[]]]\n",
    "    \n",
    "    for dataloader in dataloaders:\n",
    "        for inputs, targets,tabular in dataloader[0]:\n",
    "            inputs = inputs.to(device)\n",
    "            targets = targets.to(device)\n",
    "            tabular = tabular.to(device)\n",
    "            \n",
    "            outputs = model(inputs,tabular)\n",
    "            outputs.to(device)\n",
    "            loss = criterion(outputs, targets)\n",
    "            \n",
    "            dataloader[3] = 10**(targets.cpu().detach().numpy()+y_train_mean.numpy()) # y Target Values\n",
    "            dataloader[4] = 10**(outputs.cpu().detach().numpy()+y_train_mean.numpy()) # y Predicted Values\n",
    "            \n",
    "            RMSE_last_epoch = np.sqrt(mean_squared_error(dataloader[3],dataloader[4]))\n",
    "            MPE_last_epoch = float(np.mean(np.abs( (dataloader[3]-dataloader[4]) / dataloader[3]* 100 )))\n",
    "            \n",
    "            print(RMSE_last_epoch,dataloader[1])\n",
    "            print(MPE_last_epoch,dataloader[2])\n",
    "            \n",
    "            RMSE.append(int(RMSE_last_epoch))\n",
    "            MPE.append(int(MPE_last_epoch))\n",
    "    \n",
    "    plt.figure(figsize=(5,5)) \n",
    "    plt.xlabel('Observed Cycle Life')\n",
    "    plt.ylabel('Predicted Cycle Life')\n",
    "    plt.scatter(x=dataloaders[0][3],y=dataloaders[0][4],marker='o',c='blue',s=100)\n",
    "    plt.scatter(x=dataloaders[1][3],y=dataloaders[1][4],marker='s',c='red',s=100)\n",
    "    plt.scatter(x=dataloaders[2][3],y=dataloaders[2][4],marker='^',c='orange',s=100)\n",
    "    plt.xlim(0,2500)\n",
    "    plt.ylim(0,2500)\n",
    "    plt.plot(range(2500),c='black')\n",
    "    plt.show()"
   ]
  },
  {
   "cell_type": "code",
   "execution_count": 11,
   "id": "937e5c15",
   "metadata": {},
   "outputs": [],
   "source": [
    "torch.set_default_dtype(torch.float64)"
   ]
  },
  {
   "cell_type": "code",
   "execution_count": 12,
   "id": "b7fc6ebf",
   "metadata": {},
   "outputs": [],
   "source": [
    "train_Dataset = CustomDataset(train_Qdlin,y_train,Tabular_Train)\n",
    "test_Dataset = CustomDataset(test_Qdlin,y_test,Tabular_test)\n",
    "secondary_test_Dataset = CustomDataset(secondary_test_Qdlin,y_sec,Tabular_sec)\n",
    "\n",
    "train_Qdlin_loader = DataLoader(train_Dataset, batch_size=41, shuffle=True)\n",
    "test_Qdlin_loader = DataLoader(test_Dataset, batch_size=42, shuffle=True)\n",
    "secondary_test_Qdlin_loader = DataLoader(secondary_test_Dataset, batch_size=40, shuffle=True)"
   ]
  },
  {
   "cell_type": "markdown",
   "id": "2cce8271",
   "metadata": {},
   "source": [
    "# Hyper-parameters"
   ]
  },
  {
   "cell_type": "code",
   "execution_count": 13,
   "id": "39cd5aaa",
   "metadata": {},
   "outputs": [],
   "source": [
    "epochs = 5000\n",
    "learning_rate =.0001\n",
    "weight_decay = .001"
   ]
  },
  {
   "cell_type": "markdown",
   "id": "d7b9ed4a",
   "metadata": {},
   "source": [
    "# Train & Test"
   ]
  },
  {
   "cell_type": "code",
   "execution_count": 14,
   "id": "cd5a69eb",
   "metadata": {},
   "outputs": [
    {
     "name": "stdout",
     "output_type": "stream",
     "text": [
      "cuda:0\n"
     ]
    }
   ],
   "source": [
    "device = torch.device(\"cuda:0\" if torch.cuda.is_available() else \"cpu\")\n",
    "#device = torch.device(\"cpu\")\n",
    "print(device)"
   ]
  },
  {
   "cell_type": "code",
   "execution_count": 15,
   "id": "47967e7c",
   "metadata": {},
   "outputs": [
    {
     "name": "stdout",
     "output_type": "stream",
     "text": [
      "torch.Size([41, 100, 99])\n",
      "torch.Size([41, 1, 100, 99])\n",
      "torch.Size([41, 16, 23, 23])\n",
      "torch.Size([41, 8464])\n",
      "torch.Size([41, 6])\n",
      "torch.Size([41, 8464])\n",
      "-- 0 -epoch--RMSE--  321.4547927417165\n",
      "-- 100 -epoch--RMSE--  39.573802380668624\n",
      "-- 200 -epoch--RMSE--  24.73552500202465\n",
      "-- 300 -epoch--RMSE--  20.736994815318564\n",
      "-- 400 -epoch--RMSE--  18.789554770304445\n",
      "-- 500 -epoch--RMSE--  20.420912509518455\n",
      "-- 600 -epoch--RMSE--  17.15395858378218\n",
      "-- 700 -epoch--RMSE--  16.237756199120195\n",
      "-- 800 -epoch--RMSE--  15.709246160697003\n",
      "-- 900 -epoch--RMSE--  16.28152050659023\n",
      "-- 1000 -epoch--RMSE--  22.60050985045368\n",
      "-- 1100 -epoch--RMSE--  19.613080895061213\n",
      "-- 1200 -epoch--RMSE--  15.539443883121544\n",
      "-- 1300 -epoch--RMSE--  15.744183856498516\n",
      "-- 1400 -epoch--RMSE--  15.663048298777904\n",
      "-- 1500 -epoch--RMSE--  14.221633609932272\n",
      "-- 1600 -epoch--RMSE--  15.529868528314326\n",
      "-- 1700 -epoch--RMSE--  15.819033230071224\n",
      "-- 1800 -epoch--RMSE--  13.638492870141308\n",
      "-- 1900 -epoch--RMSE--  16.081652364358522\n",
      "-- 2000 -epoch--RMSE--  13.388177463976929\n",
      "-- 2100 -epoch--RMSE--  17.975083763809177\n",
      "-- 2200 -epoch--RMSE--  15.797534933842286\n",
      "-- 2300 -epoch--RMSE--  13.734438481149315\n",
      "-- 2400 -epoch--RMSE--  16.26981201685301\n",
      "-- 2500 -epoch--RMSE--  14.426232657722988\n",
      "-- 2600 -epoch--RMSE--  20.628992267079614\n",
      "-- 2700 -epoch--RMSE--  14.875402062081955\n",
      "-- 2800 -epoch--RMSE--  16.33391218518101\n",
      "-- 2900 -epoch--RMSE--  13.253309074119604\n",
      "-- 3000 -epoch--RMSE--  12.516665697824218\n",
      "-- 3100 -epoch--RMSE--  12.803638784253087\n",
      "-- 3200 -epoch--RMSE--  23.16906015639728\n",
      "-- 3300 -epoch--RMSE--  14.900337468801846\n",
      "-- 3400 -epoch--RMSE--  16.79691425331224\n",
      "-- 3500 -epoch--RMSE--  12.717146457469068\n",
      "-- 3600 -epoch--RMSE--  13.850634446781479\n",
      "-- 3700 -epoch--RMSE--  18.783377380185396\n",
      "-- 3800 -epoch--RMSE--  12.882213064260371\n",
      "-- 3900 -epoch--RMSE--  19.960204387649163\n",
      "-- 4000 -epoch--RMSE--  13.059183886374118\n",
      "-- 4100 -epoch--RMSE--  15.55450493717981\n",
      "-- 4200 -epoch--RMSE--  18.19839460521467\n",
      "-- 4300 -epoch--RMSE--  14.002551427145805\n",
      "-- 4400 -epoch--RMSE--  12.91121875791831\n",
      "-- 4500 -epoch--RMSE--  12.020344634427369\n",
      "-- 4600 -epoch--RMSE--  16.078509537712975\n",
      "-- 4700 -epoch--RMSE--  16.36461176060551\n",
      "-- 4800 -epoch--RMSE--  14.448720953797103\n",
      "-- 4900 -epoch--RMSE--  12.209788875921232\n"
     ]
    }
   ],
   "source": [
    "criterion=nn.MSELoss()\n",
    "model=CNN(100) #Using only the First 100 cycles\n",
    "optimizer=optim.Adam(model.parameters(),weight_decay=weight_decay, lr=learning_rate)\n",
    "model = model.to(device)\n",
    "model = train(model,train_Qdlin_loader,criterion,optimizer,epochs,device)"
   ]
  },
  {
   "cell_type": "code",
   "execution_count": 16,
   "id": "b178bc43",
   "metadata": {},
   "outputs": [
    {
     "name": "stdout",
     "output_type": "stream",
     "text": [
      "19.758519283661233 ---RMSE---Train\n",
      "2.1159640215957256 ---MPE---Train\n",
      "79.92665208311203 ---RMSE---Test\n",
      "6.525256120424065 ---MPE---Test\n",
      "209.71130342770138 ---RMSE---Test Secondary\n",
      "9.658691196335088 ---MPE---Test Secondary\n"
     ]
    },
    {
     "data": {
      "image/png": "[encoded data removed]",
      "text/plain": [
       "<Figure size 500x500 with 1 Axes>"
      ]
     },
     "metadata": {},
     "output_type": "display_data"
    }
   ],
   "source": [
    "testALL(model)"
   ]
  },
  {
   "cell_type": "markdown",
   "id": "2dbe39ed",
   "metadata": {},
   "source": [
    "################################################################################\n",
    "\n",
    "# Repeat using only the first 60 cycles\n",
    "\n",
    "################################################################################"
   ]
  },
  {
   "cell_type": "code",
   "execution_count": 17,
   "id": "0d55d1e9",
   "metadata": {},
   "outputs": [],
   "source": [
    "#Load tabular data\n",
    "Dataset=pd.read_csv(r'data/TabularSummaryBatteryData-60Cycles.csv')\n",
    "\n",
    "# Scale target Battery life By log 10\n",
    "Dataset['cell_life']=np.log10(Dataset['cell_life'])\n",
    "\n",
    "Training_Data=Dataset.iloc[train_ind]\n",
    "Testing_Data=Dataset.iloc[test_edited_ind]\n",
    "Secondary_Data=Dataset.iloc[secondary_test_ind]\n",
    "\n",
    "#choosing model features According to table 1\n",
    "target_features=['cell_life']\n",
    "\n",
    "varmod_features=['variance_dQ_60_10']\n",
    "\n",
    "dismod_features=['minimum_dQ_60_10',\n",
    "                 'variance_dQ_60_10',\n",
    "                 'skewness_dQ_60_10',\n",
    "                 'kurtosis_dQ_60_10',\n",
    "                 'Discharge_Cap_2',\n",
    "                 'Diff_MaxCap_DC2']\n",
    "    \n",
    "full_features=['minimum_dQ_60_10',\n",
    "               'variance_dQ_60_10',\n",
    "               'Slope_Cap_Fade_2_60',\n",
    "               'Intercept_Cap_Fade_2_60',\n",
    "               'Diff_MaxCap_DC2',\n",
    "               'Discharge_Cap_2',\n",
    "               'Avg_charge_time',\n",
    "               'Temp_Integ_2_60',\n",
    "               'Min_IR',\n",
    "               'Diff_IR_2_60']"
   ]
  },
  {
   "cell_type": "code",
   "execution_count": 18,
   "id": "bb060a2d",
   "metadata": {},
   "outputs": [],
   "source": [
    "#Use only the discharge model Tabular features\n",
    "features = dismod_features #full_features\n",
    "X_train=Training_Data[features].to_numpy()\n",
    "X_test=Testing_Data[features].to_numpy()\n",
    "X_sec=Secondary_Data[features].to_numpy()\n",
    "\n",
    "#Scale\n",
    "scaler = preprocessing.StandardScaler().fit(X_train)\n",
    "Tabular_Train = scaler.transform(X_train)\n",
    "Tabular_test = scaler.transform(X_test)\n",
    "Tabular_sec = scaler.transform(X_sec)"
   ]
  },
  {
   "cell_type": "code",
   "execution_count": 19,
   "id": "d73181a8",
   "metadata": {},
   "outputs": [
    {
     "name": "stdout",
     "output_type": "stream",
     "text": [
      "tensor(1.1621) tensor(-0.8226)\n",
      "tensor(1.0245) tensor(-0.7291)\n",
      "tensor(0.5661) tensor(-0.3582)\n",
      "torch.Size([41, 60, 99])\n",
      "torch.Size([42, 60, 99])\n",
      "torch.Size([40, 60, 99])\n"
     ]
    }
   ],
   "source": [
    "#Load discharge capacity data\n",
    "train_Qdlin=torch.load(r'data/DischargeCapacity-InterpolatedData_Train.pt')\n",
    "test_Qdlin=torch.load(r'data/DischargeCapacity-InterpolatedData_Test.pt')\n",
    "secondary_test_Qdlin=torch.load(r'data/DischargeCapacity-InterpolatedData_Secondary_Test.pt')\n",
    "\n",
    "train_Qdlin = train_Qdlin[:,:60,:]\n",
    "test_Qdlin = test_Qdlin[:,:60,:]\n",
    "secondary_test_Qdlin = secondary_test_Qdlin[:,:60,:]\n",
    "\n",
    "print(train_Qdlin.std(),train_Qdlin.mean())\n",
    "print(test_Qdlin.std(),test_Qdlin.mean())\n",
    "print(secondary_test_Qdlin.std(),secondary_test_Qdlin.mean())\n",
    "\n",
    "print(train_Qdlin.shape)\n",
    "print(test_Qdlin.shape)\n",
    "print(secondary_test_Qdlin.shape)"
   ]
  },
  {
   "cell_type": "code",
   "execution_count": 20,
   "id": "bef83663",
   "metadata": {},
   "outputs": [],
   "source": [
    "y_train=Training_Data[target_features].to_numpy()\n",
    "y_test=Testing_Data[target_features].to_numpy()\n",
    "y_sec=Secondary_Data[target_features].to_numpy()\n",
    "\n",
    "y_train = torch.tensor(y_train)\n",
    "y_test = torch.tensor(y_test)\n",
    "y_sec = torch.tensor(y_sec)\n",
    "\n",
    "y_train_mean = torch.mean(y_train)\n",
    "y_train = y_train - y_train_mean\n",
    "y_test = y_test - y_train_mean\n",
    "y_sec = y_sec - y_train_mean\n",
    "#Be sure to add y_train_mean and 10** All results"
   ]
  },
  {
   "cell_type": "code",
   "execution_count": 21,
   "id": "0fc003bf",
   "metadata": {},
   "outputs": [],
   "source": [
    "torch.set_default_dtype(torch.float64)"
   ]
  },
  {
   "cell_type": "code",
   "execution_count": 22,
   "id": "783c9b5d",
   "metadata": {},
   "outputs": [],
   "source": [
    "train_Dataset = CustomDataset(train_Qdlin,y_train,Tabular_Train)\n",
    "test_Dataset = CustomDataset(test_Qdlin,y_test,Tabular_test)\n",
    "secondary_test_Dataset = CustomDataset(secondary_test_Qdlin,y_sec,Tabular_sec)\n",
    "\n",
    "train_Qdlin_loader = DataLoader(train_Dataset, batch_size=41, shuffle=True)\n",
    "test_Qdlin_loader = DataLoader(test_Dataset, batch_size=42, shuffle=True)\n",
    "secondary_test_Qdlin_loader = DataLoader(secondary_test_Dataset, batch_size=40, shuffle=True)"
   ]
  },
  {
   "cell_type": "markdown",
   "id": "d6f3def0",
   "metadata": {},
   "source": [
    "# Hyper-parameters"
   ]
  },
  {
   "cell_type": "code",
   "execution_count": 23,
   "id": "a3b94adb",
   "metadata": {},
   "outputs": [],
   "source": [
    "epochs = 5000\n",
    "learning_rate =.0001\n",
    "weight_decay = .001"
   ]
  },
  {
   "cell_type": "markdown",
   "id": "9d122b41",
   "metadata": {},
   "source": [
    "# Train & Test"
   ]
  },
  {
   "cell_type": "code",
   "execution_count": 24,
   "id": "40e06a5f",
   "metadata": {},
   "outputs": [
    {
     "name": "stdout",
     "output_type": "stream",
     "text": [
      "cuda:0\n"
     ]
    }
   ],
   "source": [
    "#device = torch.device(\"cuda:0\" if torch.cuda.is_available() else \"cpu\")\n",
    "#device = torch.device(\"cpu\")\n",
    "print(device)"
   ]
  },
  {
   "cell_type": "code",
   "execution_count": 25,
   "id": "d4726a44",
   "metadata": {},
   "outputs": [
    {
     "name": "stdout",
     "output_type": "stream",
     "text": [
      "torch.Size([41, 60, 99])\n",
      "torch.Size([41, 1, 60, 99])\n",
      "torch.Size([41, 16, 13, 23])\n",
      "torch.Size([41, 4784])\n",
      "torch.Size([41, 6])\n",
      "torch.Size([41, 4784])\n",
      "-- 0 -epoch--RMSE--  314.2645899977486\n",
      "-- 100 -epoch--RMSE--  46.84189929420705\n",
      "-- 200 -epoch--RMSE--  24.590102012598212\n",
      "-- 300 -epoch--RMSE--  23.982275127815157\n",
      "-- 400 -epoch--RMSE--  18.98076187784375\n",
      "-- 500 -epoch--RMSE--  16.186289900776092\n",
      "-- 600 -epoch--RMSE--  14.824801001987032\n",
      "-- 700 -epoch--RMSE--  14.28807446596675\n",
      "-- 800 -epoch--RMSE--  13.715085078778067\n",
      "-- 900 -epoch--RMSE--  13.224035835697098\n",
      "-- 1000 -epoch--RMSE--  13.55997839233883\n",
      "-- 1100 -epoch--RMSE--  21.45182088469165\n",
      "-- 1200 -epoch--RMSE--  14.363022895459373\n",
      "-- 1300 -epoch--RMSE--  14.860432218777902\n",
      "-- 1400 -epoch--RMSE--  12.408806897199334\n",
      "-- 1500 -epoch--RMSE--  14.035838390282859\n",
      "-- 1600 -epoch--RMSE--  13.32587629266395\n",
      "-- 1700 -epoch--RMSE--  12.826999698663478\n",
      "-- 1800 -epoch--RMSE--  14.468812027102832\n",
      "-- 1900 -epoch--RMSE--  11.79386296483232\n",
      "-- 2000 -epoch--RMSE--  11.688365245407054\n",
      "-- 2100 -epoch--RMSE--  12.542756535144852\n",
      "-- 2200 -epoch--RMSE--  13.454267460280981\n",
      "-- 2300 -epoch--RMSE--  13.78832355814118\n",
      "-- 2400 -epoch--RMSE--  12.47485845434268\n",
      "-- 2500 -epoch--RMSE--  17.035596906546026\n",
      "-- 2600 -epoch--RMSE--  12.768369493497646\n",
      "-- 2700 -epoch--RMSE--  12.748140575314325\n",
      "-- 2800 -epoch--RMSE--  11.039873304400523\n",
      "-- 2900 -epoch--RMSE--  13.996795890271603\n",
      "-- 3000 -epoch--RMSE--  16.374759032030603\n",
      "-- 3100 -epoch--RMSE--  11.890964872840412\n",
      "-- 3200 -epoch--RMSE--  10.903351954835125\n",
      "-- 3300 -epoch--RMSE--  16.428646316121732\n",
      "-- 3400 -epoch--RMSE--  10.921673778541487\n",
      "-- 3500 -epoch--RMSE--  11.624223686251685\n",
      "-- 3600 -epoch--RMSE--  10.833598774791442\n",
      "-- 3700 -epoch--RMSE--  14.324692309424362\n",
      "-- 3800 -epoch--RMSE--  12.970459605590634\n",
      "-- 3900 -epoch--RMSE--  12.141008259020621\n",
      "-- 4000 -epoch--RMSE--  11.07065043066023\n",
      "-- 4100 -epoch--RMSE--  10.381358093674171\n",
      "-- 4200 -epoch--RMSE--  13.511544822266302\n",
      "-- 4300 -epoch--RMSE--  17.09761839596886\n",
      "-- 4400 -epoch--RMSE--  10.355187020606119\n",
      "-- 4500 -epoch--RMSE--  11.099884270802432\n",
      "-- 4600 -epoch--RMSE--  10.342374499258426\n",
      "-- 4700 -epoch--RMSE--  10.113878692418536\n",
      "-- 4800 -epoch--RMSE--  10.379187267337928\n",
      "-- 4900 -epoch--RMSE--  16.271815060930976\n"
     ]
    }
   ],
   "source": [
    "criterion=nn.MSELoss()\n",
    "model=CNN(60) #Using only the First 60 cycles\n",
    "optimizer=optim.Adam(model.parameters(),weight_decay=weight_decay, lr=learning_rate)\n",
    "model = model.to(device)\n",
    "model = train(model,train_Qdlin_loader,criterion,optimizer,epochs,device)"
   ]
  },
  {
   "cell_type": "code",
   "execution_count": 26,
   "id": "9c6cd6b7",
   "metadata": {},
   "outputs": [
    {
     "name": "stdout",
     "output_type": "stream",
     "text": [
      "9.638708241730328 ---RMSE---Train\n",
      "1.096407145288957 ---MPE---Train\n",
      "88.74224140239873 ---RMSE---Test\n",
      "7.573988849868748 ---MPE---Test\n",
      "293.38271619498045 ---RMSE---Test Secondary\n",
      "18.11036556206634 ---MPE---Test Secondary\n"
     ]
    },
    {
     "data": {
      "image/png": "[encoded data removed]",
      "text/plain": [
       "<Figure size 500x500 with 1 Axes>"
      ]
     },
     "metadata": {},
     "output_type": "display_data"
    }
   ],
   "source": [
    "testALL(model)"
   ]
  },
  {
   "cell_type": "markdown",
   "id": "61fc8086",
   "metadata": {},
   "source": [
    "################################################################################\n",
    "\n",
    "# Repeat using only the first 40 cycles\n",
    "\n",
    "################################################################################"
   ]
  },
  {
   "cell_type": "code",
   "execution_count": 27,
   "id": "b1fd0694",
   "metadata": {},
   "outputs": [],
   "source": [
    "#Load tabular data\n",
    "Dataset=pd.read_csv(r'data/TabularSummaryBatteryData-40Cycles.csv')\n",
    "\n",
    "# Scale target Battery life By log 10\n",
    "Dataset['cell_life']=np.log10(Dataset['cell_life'])\n",
    "\n",
    "Training_Data=Dataset.iloc[train_ind]\n",
    "Testing_Data=Dataset.iloc[test_edited_ind]\n",
    "Secondary_Data=Dataset.iloc[secondary_test_ind]\n",
    "\n",
    "#choosing model features According to table 1\n",
    "target_features=['cell_life']\n",
    "\n",
    "varmod_features=['variance_dQ_40_10']\n",
    "\n",
    "dismod_features=['minimum_dQ_40_10',\n",
    "                 'variance_dQ_40_10',\n",
    "                 'skewness_dQ_40_10',\n",
    "                 'kurtosis_dQ_40_10',\n",
    "                 'Discharge_Cap_2',\n",
    "                 'Diff_MaxCap_DC2']\n",
    "    \n",
    "full_features=['minimum_dQ_40_10',\n",
    "               'variance_dQ_40_10',\n",
    "               'Slope_Cap_Fade_2_40',\n",
    "               'Intercept_Cap_Fade_2_40',\n",
    "               'Diff_MaxCap_DC2',\n",
    "               'Discharge_Cap_2',\n",
    "               'Avg_charge_time',\n",
    "               'Temp_Integ_2_40',\n",
    "               'Min_IR',\n",
    "               'Diff_IR_2_40']"
   ]
  },
  {
   "cell_type": "code",
   "execution_count": 28,
   "id": "90404b64",
   "metadata": {},
   "outputs": [],
   "source": [
    "#Use only the discharge model Tabular features\n",
    "features = dismod_features #full_features\n",
    "X_train=Training_Data[features].to_numpy()\n",
    "X_test=Testing_Data[features].to_numpy()\n",
    "X_sec=Secondary_Data[features].to_numpy()\n",
    "\n",
    "#Scale\n",
    "scaler = preprocessing.StandardScaler().fit(X_train)\n",
    "Tabular_Train = scaler.transform(X_train)\n",
    "Tabular_test = scaler.transform(X_test)\n",
    "Tabular_sec = scaler.transform(X_sec)"
   ]
  },
  {
   "cell_type": "code",
   "execution_count": 29,
   "id": "5f3f2981",
   "metadata": {},
   "outputs": [
    {
     "name": "stdout",
     "output_type": "stream",
     "text": [
      "tensor(1.1242) tensor(-0.6322)\n",
      "tensor(0.9673) tensor(-0.5410)\n",
      "tensor(0.5148) tensor(-0.2270)\n",
      "torch.Size([41, 40, 99])\n",
      "torch.Size([42, 40, 99])\n",
      "torch.Size([40, 40, 99])\n"
     ]
    }
   ],
   "source": [
    "#Load discharge capacity data\n",
    "train_Qdlin=torch.load(r'data/DischargeCapacity-InterpolatedData_Train.pt')\n",
    "test_Qdlin=torch.load(r'data/DischargeCapacity-InterpolatedData_Test.pt')\n",
    "secondary_test_Qdlin=torch.load(r'data/DischargeCapacity-InterpolatedData_Secondary_Test.pt')\n",
    "\n",
    "train_Qdlin = train_Qdlin[:,:40,:]\n",
    "test_Qdlin = test_Qdlin[:,:40,:]\n",
    "secondary_test_Qdlin = secondary_test_Qdlin[:,:40,:]\n",
    "\n",
    "print(train_Qdlin.std(),train_Qdlin.mean())\n",
    "print(test_Qdlin.std(),test_Qdlin.mean())\n",
    "print(secondary_test_Qdlin.std(),secondary_test_Qdlin.mean())\n",
    "\n",
    "print(train_Qdlin.shape)\n",
    "print(test_Qdlin.shape)\n",
    "print(secondary_test_Qdlin.shape)"
   ]
  },
  {
   "cell_type": "code",
   "execution_count": 30,
   "id": "40a5b935",
   "metadata": {},
   "outputs": [],
   "source": [
    "y_train=Training_Data[target_features].to_numpy()\n",
    "y_test=Testing_Data[target_features].to_numpy()\n",
    "y_sec=Secondary_Data[target_features].to_numpy()\n",
    "\n",
    "y_train = torch.tensor(y_train)\n",
    "y_test = torch.tensor(y_test)\n",
    "y_sec = torch.tensor(y_sec)\n",
    "\n",
    "y_train_mean = torch.mean(y_train)\n",
    "y_train = y_train - y_train_mean\n",
    "y_test = y_test - y_train_mean\n",
    "y_sec = y_sec - y_train_mean\n",
    "#Be sure to add y_train_mean and 10** All results"
   ]
  },
  {
   "cell_type": "code",
   "execution_count": 31,
   "id": "1cf467c4",
   "metadata": {},
   "outputs": [],
   "source": [
    "torch.set_default_dtype(torch.float64)"
   ]
  },
  {
   "cell_type": "code",
   "execution_count": 32,
   "id": "4b5b0e6b",
   "metadata": {},
   "outputs": [],
   "source": [
    "train_Dataset = CustomDataset(train_Qdlin,y_train,Tabular_Train)\n",
    "test_Dataset = CustomDataset(test_Qdlin,y_test,Tabular_test)\n",
    "secondary_test_Dataset = CustomDataset(secondary_test_Qdlin,y_sec,Tabular_sec)\n",
    "\n",
    "train_Qdlin_loader = DataLoader(train_Dataset, batch_size=41, shuffle=True)\n",
    "test_Qdlin_loader = DataLoader(test_Dataset, batch_size=42, shuffle=True)\n",
    "secondary_test_Qdlin_loader = DataLoader(secondary_test_Dataset, batch_size=40, shuffle=True)"
   ]
  },
  {
   "cell_type": "markdown",
   "id": "78279d25",
   "metadata": {},
   "source": [
    "# Hyper-parameters"
   ]
  },
  {
   "cell_type": "code",
   "execution_count": 33,
   "id": "c40293e9",
   "metadata": {},
   "outputs": [],
   "source": [
    "epochs = 5000\n",
    "learning_rate =.0001\n",
    "weight_decay = .001"
   ]
  },
  {
   "cell_type": "markdown",
   "id": "1d7b5ce9",
   "metadata": {},
   "source": [
    "# Train & Test"
   ]
  },
  {
   "cell_type": "code",
   "execution_count": 34,
   "id": "526e55ae",
   "metadata": {},
   "outputs": [
    {
     "name": "stdout",
     "output_type": "stream",
     "text": [
      "cuda:0\n"
     ]
    }
   ],
   "source": [
    "#device = torch.device(\"cuda:0\" if torch.cuda.is_available() else \"cpu\")\n",
    "#device = torch.device(\"cpu\")\n",
    "print(device)"
   ]
  },
  {
   "cell_type": "code",
   "execution_count": 35,
   "id": "a9fbd917",
   "metadata": {},
   "outputs": [
    {
     "name": "stdout",
     "output_type": "stream",
     "text": [
      "torch.Size([41, 40, 99])\n",
      "torch.Size([41, 1, 40, 99])\n",
      "torch.Size([41, 16, 8, 23])\n",
      "torch.Size([41, 2944])\n",
      "torch.Size([41, 6])\n",
      "torch.Size([41, 2944])\n",
      "-- 0 -epoch--RMSE--  359.87355441048896\n",
      "-- 100 -epoch--RMSE--  66.45426617454159\n",
      "-- 200 -epoch--RMSE--  35.11283518362192\n",
      "-- 300 -epoch--RMSE--  26.491453714266438\n",
      "-- 400 -epoch--RMSE--  22.305292276113033\n",
      "-- 500 -epoch--RMSE--  19.882368090822354\n",
      "-- 600 -epoch--RMSE--  18.342753020808036\n",
      "-- 700 -epoch--RMSE--  17.45440061971142\n",
      "-- 800 -epoch--RMSE--  16.499649555995255\n",
      "-- 900 -epoch--RMSE--  15.74439342158163\n",
      "-- 1000 -epoch--RMSE--  19.032418104304625\n",
      "-- 1100 -epoch--RMSE--  14.706774938008298\n",
      "-- 1200 -epoch--RMSE--  14.519036321190203\n",
      "-- 1300 -epoch--RMSE--  14.077299209502087\n",
      "-- 1400 -epoch--RMSE--  13.63482099598864\n",
      "-- 1500 -epoch--RMSE--  13.327732395145993\n",
      "-- 1600 -epoch--RMSE--  13.618121746367038\n",
      "-- 1700 -epoch--RMSE--  14.175774678166722\n",
      "-- 1800 -epoch--RMSE--  12.80975420796717\n",
      "-- 1900 -epoch--RMSE--  12.87712620162993\n",
      "-- 2000 -epoch--RMSE--  17.10733738731993\n",
      "-- 2100 -epoch--RMSE--  12.755838060066695\n",
      "-- 2200 -epoch--RMSE--  12.812035863384187\n",
      "-- 2300 -epoch--RMSE--  14.147202430279497\n",
      "-- 2400 -epoch--RMSE--  11.938369561770353\n",
      "-- 2500 -epoch--RMSE--  14.084485175830338\n",
      "-- 2600 -epoch--RMSE--  11.766337941016012\n",
      "-- 2700 -epoch--RMSE--  12.077694156378389\n",
      "-- 2800 -epoch--RMSE--  16.07550419659909\n",
      "-- 2900 -epoch--RMSE--  11.646026848999137\n",
      "-- 3000 -epoch--RMSE--  11.458466311943514\n",
      "-- 3100 -epoch--RMSE--  11.522715640268833\n",
      "-- 3200 -epoch--RMSE--  11.880120977027364\n",
      "-- 3300 -epoch--RMSE--  11.260923947287694\n",
      "-- 3400 -epoch--RMSE--  12.04030433990868\n",
      "-- 3500 -epoch--RMSE--  11.20875729974606\n",
      "-- 3600 -epoch--RMSE--  14.587887467157053\n",
      "-- 3700 -epoch--RMSE--  15.430643908221562\n",
      "-- 3800 -epoch--RMSE--  11.789617116519286\n",
      "-- 3900 -epoch--RMSE--  12.70939302819765\n",
      "-- 4000 -epoch--RMSE--  10.93779191755189\n",
      "-- 4100 -epoch--RMSE--  11.243345495018538\n",
      "-- 4200 -epoch--RMSE--  13.261696896750175\n",
      "-- 4300 -epoch--RMSE--  10.871618503451034\n",
      "-- 4400 -epoch--RMSE--  14.568784660534137\n",
      "-- 4500 -epoch--RMSE--  10.820312362944396\n",
      "-- 4600 -epoch--RMSE--  14.990734532001612\n",
      "-- 4700 -epoch--RMSE--  12.345259785970338\n",
      "-- 4800 -epoch--RMSE--  11.499956538802763\n",
      "-- 4900 -epoch--RMSE--  11.550018429871013\n"
     ]
    }
   ],
   "source": [
    "criterion=nn.MSELoss()\n",
    "model=CNN(40) #Using only the First 40 cycles\n",
    "optimizer=optim.Adam(model.parameters(),weight_decay=weight_decay, lr=learning_rate)\n",
    "model = model.to(device)\n",
    "model = train(model,train_Qdlin_loader,criterion,optimizer,epochs,device)"
   ]
  },
  {
   "cell_type": "code",
   "execution_count": 36,
   "id": "9ccf1725",
   "metadata": {},
   "outputs": [
    {
     "name": "stdout",
     "output_type": "stream",
     "text": [
      "10.55807288423873 ---RMSE---Train\n",
      "1.2467955273875533 ---MPE---Train\n",
      "107.85314710317839 ---RMSE---Test\n",
      "9.500970791737318 ---MPE---Test\n",
      "227.46349242803126 ---RMSE---Test Secondary\n",
      "17.561250798008196 ---MPE---Test Secondary\n"
     ]
    },
    {
     "data": {
      "image/png": "[encoded data removed]",
      "text/plain": [
       "<Figure size 500x500 with 1 Axes>"
      ]
     },
     "metadata": {},
     "output_type": "display_data"
    }
   ],
   "source": [
    "testALL(model)"
   ]
  },
  {
   "cell_type": "markdown",
   "id": "238135b1",
   "metadata": {},
   "source": [
    "################################################################################\n",
    "\n",
    "# Repeat using only the first 20 cycles\n",
    "\n",
    "################################################################################"
   ]
  },
  {
   "cell_type": "code",
   "execution_count": 37,
   "id": "90303992",
   "metadata": {},
   "outputs": [],
   "source": [
    "#Load tabular data\n",
    "Dataset=pd.read_csv(r'data/TabularSummaryBatteryData-20Cycles.csv')\n",
    "\n",
    "# Scale target Battery life By log 10\n",
    "Dataset['cell_life']=np.log10(Dataset['cell_life'])\n",
    "\n",
    "Training_Data=Dataset.iloc[train_ind]\n",
    "Testing_Data=Dataset.iloc[test_edited_ind]\n",
    "Secondary_Data=Dataset.iloc[secondary_test_ind]\n",
    "\n",
    "#choosing model features According to table 1\n",
    "target_features=['cell_life']\n",
    "\n",
    "varmod_features=['variance_dQ_20_10']\n",
    "\n",
    "dismod_features=['minimum_dQ_20_10',\n",
    "                 'variance_dQ_20_10',\n",
    "                 'skewness_dQ_20_10',\n",
    "                 'kurtosis_dQ_20_10',\n",
    "                 'Discharge_Cap_2',\n",
    "                 'Diff_MaxCap_DC2']\n",
    "    \n",
    "full_features=['minimum_dQ_20_10',\n",
    "               'variance_dQ_20_10',\n",
    "               'Slope_Cap_Fade_2_20',\n",
    "               'Intercept_Cap_Fade_2_20',\n",
    "               'Diff_MaxCap_DC2',\n",
    "               'Discharge_Cap_2',\n",
    "               'Avg_charge_time',\n",
    "               'Temp_Integ_2_20',\n",
    "               'Min_IR',\n",
    "               'Diff_IR_2_20']"
   ]
  },
  {
   "cell_type": "code",
   "execution_count": 38,
   "id": "71813cf3",
   "metadata": {},
   "outputs": [],
   "source": [
    "#Use only the discharge model Tabular features\n",
    "features = dismod_features #full_features\n",
    "X_train=Training_Data[features].to_numpy()\n",
    "X_test=Testing_Data[features].to_numpy()\n",
    "X_sec=Secondary_Data[features].to_numpy()\n",
    "\n",
    "#Scale\n",
    "scaler = preprocessing.StandardScaler().fit(X_train)\n",
    "Tabular_Train = scaler.transform(X_train)\n",
    "Tabular_test = scaler.transform(X_test)\n",
    "Tabular_sec = scaler.transform(X_sec)"
   ]
  },
  {
   "cell_type": "code",
   "execution_count": 39,
   "id": "90002a55",
   "metadata": {},
   "outputs": [
    {
     "name": "stdout",
     "output_type": "stream",
     "text": [
      "tensor(0.0264) tensor(-0.0102)\n",
      "tensor(0.0276) tensor(-0.0079)\n",
      "tensor(0.0151) tensor(0.0023)\n",
      "torch.Size([41, 20, 99])\n",
      "torch.Size([42, 20, 99])\n",
      "torch.Size([40, 20, 99])\n"
     ]
    }
   ],
   "source": [
    "#Load discharge capacity data\n",
    "train_Qdlin=torch.load(r'data/DischargeCapacity-InterpolatedData_Train.pt')\n",
    "test_Qdlin=torch.load(r'data/DischargeCapacity-InterpolatedData_Test.pt')\n",
    "secondary_test_Qdlin=torch.load(r'data/DischargeCapacity-InterpolatedData_Secondary_Test.pt')\n",
    "\n",
    "train_Qdlin = train_Qdlin[:,:20,:]\n",
    "test_Qdlin = test_Qdlin[:,:20,:]\n",
    "secondary_test_Qdlin = secondary_test_Qdlin[:,:20,:]\n",
    "\n",
    "print(train_Qdlin.std(),train_Qdlin.mean())\n",
    "print(test_Qdlin.std(),test_Qdlin.mean())\n",
    "print(secondary_test_Qdlin.std(),secondary_test_Qdlin.mean())\n",
    "\n",
    "print(train_Qdlin.shape)\n",
    "print(test_Qdlin.shape)\n",
    "print(secondary_test_Qdlin.shape)"
   ]
  },
  {
   "cell_type": "code",
   "execution_count": 40,
   "id": "bc1d42f5",
   "metadata": {},
   "outputs": [],
   "source": [
    "y_train=Training_Data[target_features].to_numpy()\n",
    "y_test=Testing_Data[target_features].to_numpy()\n",
    "y_sec=Secondary_Data[target_features].to_numpy()\n",
    "\n",
    "y_train = torch.tensor(y_train)\n",
    "y_test = torch.tensor(y_test)\n",
    "y_sec = torch.tensor(y_sec)\n",
    "\n",
    "y_train_mean = torch.mean(y_train)\n",
    "y_train = y_train - y_train_mean\n",
    "y_test = y_test - y_train_mean\n",
    "y_sec = y_sec - y_train_mean\n",
    "#Be sure to add y_train_mean and 10** All results"
   ]
  },
  {
   "cell_type": "code",
   "execution_count": 41,
   "id": "8342c07b",
   "metadata": {},
   "outputs": [],
   "source": [
    "torch.set_default_dtype(torch.float64)"
   ]
  },
  {
   "cell_type": "code",
   "execution_count": 42,
   "id": "85dad3d4",
   "metadata": {},
   "outputs": [],
   "source": [
    "train_Dataset = CustomDataset(train_Qdlin,y_train,Tabular_Train)\n",
    "test_Dataset = CustomDataset(test_Qdlin,y_test,Tabular_test)\n",
    "secondary_test_Dataset = CustomDataset(secondary_test_Qdlin,y_sec,Tabular_sec)\n",
    "\n",
    "train_Qdlin_loader = DataLoader(train_Dataset, batch_size=41, shuffle=True)\n",
    "test_Qdlin_loader = DataLoader(test_Dataset, batch_size=42, shuffle=True)\n",
    "secondary_test_Qdlin_loader = DataLoader(secondary_test_Dataset, batch_size=40, shuffle=True)"
   ]
  },
  {
   "cell_type": "markdown",
   "id": "76a5f487",
   "metadata": {},
   "source": [
    "# Hyper-parameters"
   ]
  },
  {
   "cell_type": "code",
   "execution_count": 43,
   "id": "68ef5604",
   "metadata": {},
   "outputs": [],
   "source": [
    "epochs = 5000\n",
    "learning_rate =.0001\n",
    "weight_decay = .001"
   ]
  },
  {
   "cell_type": "markdown",
   "id": "a20f1373",
   "metadata": {},
   "source": [
    "# Train & Test"
   ]
  },
  {
   "cell_type": "code",
   "execution_count": 44,
   "id": "69bf381c",
   "metadata": {},
   "outputs": [
    {
     "name": "stdout",
     "output_type": "stream",
     "text": [
      "cuda:0\n"
     ]
    }
   ],
   "source": [
    "#device = torch.device(\"cuda:0\" if torch.cuda.is_available() else \"cpu\")\n",
    "#device = torch.device(\"cpu\")\n",
    "print(device)"
   ]
  },
  {
   "cell_type": "code",
   "execution_count": 45,
   "id": "722c4423",
   "metadata": {},
   "outputs": [
    {
     "name": "stdout",
     "output_type": "stream",
     "text": [
      "torch.Size([41, 20, 99])\n",
      "torch.Size([41, 1, 20, 99])\n",
      "torch.Size([41, 16, 3, 23])\n",
      "torch.Size([41, 1104])\n",
      "torch.Size([41, 6])\n",
      "torch.Size([41, 1104])\n",
      "-- 0 -epoch--RMSE--  331.7604247885115\n",
      "-- 100 -epoch--RMSE--  325.55224461650545\n",
      "-- 200 -epoch--RMSE--  290.70347902699024\n",
      "-- 300 -epoch--RMSE--  199.53254495665476\n",
      "-- 400 -epoch--RMSE--  156.78395440817036\n",
      "-- 500 -epoch--RMSE--  125.42783742323374\n",
      "-- 600 -epoch--RMSE--  105.11440037229767\n",
      "-- 700 -epoch--RMSE--  94.57542554306725\n",
      "-- 800 -epoch--RMSE--  85.1099962377484\n",
      "-- 900 -epoch--RMSE--  73.8920002668539\n",
      "-- 1000 -epoch--RMSE--  70.7816512946286\n",
      "-- 1100 -epoch--RMSE--  69.65849115807258\n",
      "-- 1200 -epoch--RMSE--  60.696925329505646\n",
      "-- 1300 -epoch--RMSE--  59.01097718836816\n",
      "-- 1400 -epoch--RMSE--  56.6581521731238\n",
      "-- 1500 -epoch--RMSE--  53.912333159467025\n",
      "-- 1600 -epoch--RMSE--  52.35168363483528\n",
      "-- 1700 -epoch--RMSE--  51.90624064977333\n",
      "-- 1800 -epoch--RMSE--  52.02798102741157\n",
      "-- 1900 -epoch--RMSE--  49.14091657901533\n",
      "-- 2000 -epoch--RMSE--  47.18977510386331\n",
      "-- 2100 -epoch--RMSE--  48.412384880645945\n",
      "-- 2200 -epoch--RMSE--  47.45349864045062\n",
      "-- 2300 -epoch--RMSE--  43.641584610580544\n",
      "-- 2400 -epoch--RMSE--  42.787747296888575\n",
      "-- 2500 -epoch--RMSE--  47.22366023537057\n",
      "-- 2600 -epoch--RMSE--  41.92895396705388\n",
      "-- 2700 -epoch--RMSE--  41.11440735029775\n",
      "-- 2800 -epoch--RMSE--  40.34422217366825\n",
      "-- 2900 -epoch--RMSE--  40.02380149805447\n",
      "-- 3000 -epoch--RMSE--  40.17805383637704\n",
      "-- 3100 -epoch--RMSE--  40.88796683838015\n",
      "-- 3200 -epoch--RMSE--  40.25619343889129\n",
      "-- 3300 -epoch--RMSE--  41.176544028302274\n",
      "-- 3400 -epoch--RMSE--  41.01869271974858\n",
      "-- 3500 -epoch--RMSE--  37.8182683685047\n",
      "-- 3600 -epoch--RMSE--  38.44897742201978\n",
      "-- 3700 -epoch--RMSE--  39.34323701770429\n",
      "-- 3800 -epoch--RMSE--  36.878943012897146\n",
      "-- 3900 -epoch--RMSE--  39.22274486166285\n",
      "-- 4000 -epoch--RMSE--  38.19814238829254\n",
      "-- 4100 -epoch--RMSE--  36.70634243156665\n",
      "-- 4200 -epoch--RMSE--  38.28176987366207\n",
      "-- 4300 -epoch--RMSE--  36.25987682815949\n",
      "-- 4400 -epoch--RMSE--  35.361734561105486\n",
      "-- 4500 -epoch--RMSE--  37.23915313223074\n",
      "-- 4600 -epoch--RMSE--  35.93864858954192\n",
      "-- 4700 -epoch--RMSE--  36.00076977330662\n",
      "-- 4800 -epoch--RMSE--  36.34614203979166\n",
      "-- 4900 -epoch--RMSE--  34.0617563799694\n"
     ]
    }
   ],
   "source": [
    "criterion=nn.MSELoss()\n",
    "model=CNN(20) #Using only the First 20 cycles\n",
    "optimizer=optim.Adam(model.parameters(),weight_decay=weight_decay, lr=learning_rate)\n",
    "model = model.to(device)\n",
    "model = train(model,train_Qdlin_loader,criterion,optimizer,epochs,device)"
   ]
  },
  {
   "cell_type": "code",
   "execution_count": 46,
   "id": "9b631b4b",
   "metadata": {},
   "outputs": [
    {
     "name": "stdout",
     "output_type": "stream",
     "text": [
      "34.09385442586265 ---RMSE---Train\n",
      "3.2550147159510407 ---MPE---Train\n",
      "149.00439222534 ---RMSE---Test\n",
      "11.579759706131393 ---MPE---Test\n",
      "398.8311511282311 ---RMSE---Test Secondary\n",
      "30.053274760011924 ---MPE---Test Secondary\n"
     ]
    },
    {
     "data": {
      "image/png": "[encoded data removed]",
      "text/plain": [
       "<Figure size 500x500 with 1 Axes>"
      ]
     },
     "metadata": {},
     "output_type": "display_data"
    }
   ],
   "source": [
    "testALL(model)"
   ]
  },
  {
   "cell_type": "code",
   "execution_count": 47,
   "id": "c2d276b2",
   "metadata": {},
   "outputs": [
    {
     "data": {
      "text/html": [
       "<div>\n",
       "<style scoped>\n",
       "    .dataframe tbody tr th:only-of-type {\n",
       "        vertical-align: middle;\n",
       "    }\n",
       "\n",
       "    .dataframe tbody tr th {\n",
       "        vertical-align: top;\n",
       "    }\n",
       "\n",
       "    .dataframe thead th {\n",
       "        text-align: right;\n",
       "    }\n",
       "</style>\n",
       "<table border=\"1\" class=\"dataframe\">\n",
       "  <thead>\n",
       "    <tr style=\"text-align: right;\">\n",
       "      <th></th>\n",
       "      <th>Model</th>\n",
       "      <th>RMSE - Train</th>\n",
       "      <th>RMSE - Test</th>\n",
       "      <th>RMSE - Secondary test</th>\n",
       "      <th>MPE - Train</th>\n",
       "      <th>MPE - Test</th>\n",
       "      <th>MPE - Secondary test</th>\n",
       "    </tr>\n",
       "  </thead>\n",
       "  <tbody>\n",
       "    <tr>\n",
       "      <th>0</th>\n",
       "      <td>CNN 100 cycles</td>\n",
       "      <td>19</td>\n",
       "      <td>79</td>\n",
       "      <td>209</td>\n",
       "      <td>2</td>\n",
       "      <td>6</td>\n",
       "      <td>9</td>\n",
       "    </tr>\n",
       "    <tr>\n",
       "      <th>1</th>\n",
       "      <td>CNN 60 cycles</td>\n",
       "      <td>9</td>\n",
       "      <td>88</td>\n",
       "      <td>293</td>\n",
       "      <td>1</td>\n",
       "      <td>7</td>\n",
       "      <td>18</td>\n",
       "    </tr>\n",
       "    <tr>\n",
       "      <th>2</th>\n",
       "      <td>CNN 40 cycles</td>\n",
       "      <td>10</td>\n",
       "      <td>107</td>\n",
       "      <td>227</td>\n",
       "      <td>1</td>\n",
       "      <td>9</td>\n",
       "      <td>17</td>\n",
       "    </tr>\n",
       "    <tr>\n",
       "      <th>3</th>\n",
       "      <td>CNN 20 cycles</td>\n",
       "      <td>34</td>\n",
       "      <td>149</td>\n",
       "      <td>398</td>\n",
       "      <td>3</td>\n",
       "      <td>11</td>\n",
       "      <td>30</td>\n",
       "    </tr>\n",
       "  </tbody>\n",
       "</table>\n",
       "</div>"
      ],
      "text/plain": [
       "            Model  RMSE - Train  RMSE - Test  RMSE - Secondary test  \\\n",
       "0  CNN 100 cycles            19           79                    209   \n",
       "1   CNN 60 cycles             9           88                    293   \n",
       "2   CNN 40 cycles            10          107                    227   \n",
       "3   CNN 20 cycles            34          149                    398   \n",
       "\n",
       "   MPE - Train  MPE - Test  MPE - Secondary test  \n",
       "0            2           6                     9  \n",
       "1            1           7                    18  \n",
       "2            1           9                    17  \n",
       "3            3          11                    30  "
      ]
     },
     "execution_count": 47,
     "metadata": {},
     "output_type": "execute_result"
    }
   ],
   "source": [
    "pd.DataFrame({\"Model\":[ \"CNN 100 cycles\", \"CNN 60 cycles\",\"CNN 40 cycles\",\"CNN 20 cycles\"],\n",
    "      \"RMSE - Train\": [RMSE[0],RMSE[3],RMSE[6],RMSE[9]],\n",
    "      \"RMSE - Test\": [RMSE[1],RMSE[4],RMSE[7],RMSE[10]],\n",
    "      \"RMSE - Secondary test\": [RMSE[2],RMSE[5],RMSE[8],RMSE[11]],\n",
    "      \"MPE - Train\": [MPE[0],MPE[3],MPE[6],MPE[9]],\n",
    "      \"MPE - Test\": [MPE[1],MPE[4],MPE[7],MPE[10]],\n",
    "      \"MPE - Secondary test\": [MPE[2],MPE[5],MPE[8],MPE[11]]})  "
   ]
  },
  {
   "cell_type": "code",
   "execution_count": null,
   "id": "15f6cc07",
   "metadata": {},
   "outputs": [],
   "source": []
  },
  {
   "cell_type": "code",
   "execution_count": null,
   "id": "f7fbc7b0",
   "metadata": {},
   "outputs": [],
   "source": []
  },
  {
   "cell_type": "code",
   "execution_count": null,
   "id": "3ff607c9",
   "metadata": {},
   "outputs": [],
   "source": []
  },
  {
   "cell_type": "code",
   "execution_count": null,
   "id": "38f9901f",
   "metadata": {},
   "outputs": [],
   "source": []
  },
  {
   "cell_type": "code",
   "execution_count": null,
   "id": "efca7a04",
   "metadata": {},
   "outputs": [],
   "source": []
  },
  {
   "cell_type": "code",
   "execution_count": null,
   "id": "af764ac8",
   "metadata": {},
   "outputs": [],
   "source": []
  }
 ],
 "metadata": {
  "kernelspec": {
   "display_name": "Python 3 (ipykernel)",
   "language": "python",
   "name": "python3"
  },
  "language_info": {
   "codemirror_mode": {
    "name": "ipython",
    "version": 3
   },
   "file_extension": ".py",
   "mimetype": "text/x-python",
   "name": "python",
   "nbconvert_exporter": "python",
   "pygments_lexer": "ipython3",
   "version": "3.9.7"
  }
 },
 "nbformat": 4,
 "nbformat_minor": 5
}
