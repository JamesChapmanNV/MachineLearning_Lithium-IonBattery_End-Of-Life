{
 "cells": [
  {
   "cell_type": "code",
   "execution_count": 1,
   "id": "aa65c7c3",
   "metadata": {},
   "outputs": [
    {
     "data": {
      "text/plain": [
       "<torch._C.Generator at 0x2a2ae5419b0>"
      ]
     },
     "execution_count": 1,
     "metadata": {},
     "output_type": "execute_result"
    }
   ],
   "source": [
    "import matplotlib.pyplot as plt\n",
    "import numpy as np\n",
    "import pandas as pd\n",
    "\n",
    "from sklearn import preprocessing\n",
    "from sklearn.metrics import mean_squared_error,mean_absolute_error\n",
    "from sklearn.model_selection import GridSearchCV\n",
    "\n",
    "import torch\n",
    "import torch.nn as nn\n",
    "import torch.optim as optim\n",
    "from torch.utils.data import DataLoader,Dataset\n",
    "from torch.autograd import Variable\n",
    "\n",
    "torch.manual_seed(0)"
   ]
  },
  {
   "cell_type": "code",
   "execution_count": 2,
   "id": "8bddb2c0",
   "metadata": {},
   "outputs": [],
   "source": [
    "#Load tabular data\n",
    "Dataset=pd.read_csv(r'data/TabularSummaryBatteryData.csv')\n",
    "\n",
    "#Scale Cell life target Values\n",
    "Dataset['cell_life']=np.log10(Dataset['cell_life'])\n",
    "\n",
    "numBat1=41\n",
    "numBat2=43\n",
    "numBat3=40\n",
    "numBat=124\n",
    "test_ind = np.hstack((np.arange(0,(numBat1+numBat2),2),83))\n",
    "test_edited_ind = np.delete(test_ind, 21) # Remove battery \n",
    "train_ind = np.arange(1,(numBat1+numBat2-1),2)\n",
    "secondary_test_ind = np.arange(numBat-numBat3,numBat)\n",
    "\n",
    "Training_Data=Dataset.iloc[train_ind]\n",
    "Testing_Data=Dataset.iloc[test_edited_ind]\n",
    "Secondary_Data=Dataset.iloc[secondary_test_ind]\n",
    "\n",
    "#choosing model features According to table 1\n",
    "target_features=['cell_life']\n",
    "\n",
    "varmod_features=['variance_dQ_100_10']\n",
    "\n",
    "dismod_features=['minimum_dQ_100_10',\n",
    "                 'variance_dQ_100_10',\n",
    "                 'skewness_dQ_100_10',\n",
    "                 'kurtosis_dQ_100_10',\n",
    "                 'Discharge_Cap_2',\n",
    "                 'Diff_MaxCap_DC2']\n",
    "    \n",
    "full_features=['minimum_dQ_100_10',\n",
    "               'variance_dQ_100_10',\n",
    "               'Slope_Cap_Fade_2_100',\n",
    "               'Intercept_Cap_Fade_2_100',\n",
    "               'Diff_MaxCap_DC2',\n",
    "               'Discharge_Cap_2',\n",
    "               'Avg_charge_time',\n",
    "               'Temp_Integ_2_100',\n",
    "               'Min_IR',\n",
    "               'Diff_IR_2_100']"
   ]
  },
  {
   "cell_type": "code",
   "execution_count": 3,
   "id": "2ded8fe2",
   "metadata": {},
   "outputs": [],
   "source": [
    "#Use only the discharge model Tabular features\n",
    "features = dismod_features #full_features\n",
    "X_train=Training_Data[features].to_numpy()\n",
    "X_test=Testing_Data[features].to_numpy()\n",
    "X_sec=Secondary_Data[features].to_numpy()\n",
    "\n",
    "#Scale\n",
    "scaler = preprocessing.StandardScaler().fit(X_train)\n",
    "Tabular_Train = scaler.transform(X_train)\n",
    "Tabular_test = scaler.transform(X_test)\n",
    "Tabular_sec = scaler.transform(X_sec)"
   ]
  },
  {
   "cell_type": "code",
   "execution_count": 4,
   "id": "1b8b0f14",
   "metadata": {},
   "outputs": [
    {
     "name": "stdout",
     "output_type": "stream",
     "text": [
      "tensor(1.0000, dtype=torch.float64) tensor(-0.6982, dtype=torch.float64)\n",
      "tensor(0.8786, dtype=torch.float64) tensor(-0.6188, dtype=torch.float64)\n",
      "tensor(0.4862, dtype=torch.float64) tensor(-0.3183, dtype=torch.float64)\n",
      "torch.Size([41, 99, 100])\n",
      "torch.Size([42, 99, 100])\n",
      "torch.Size([40, 99, 100])\n"
     ]
    }
   ],
   "source": [
    "#Load discharge capacity data\n",
    "train_Qdlin=torch.load(r'data/DischargeCapacity-InterpolatedData_Train.pt')\n",
    "test_Qdlin=torch.load(r'data/DischargeCapacity-InterpolatedData_Test.pt')\n",
    "secondary_test_Qdlin=torch.load(r'data/DischargeCapacity-InterpolatedData_Secondary_Test.pt')\n",
    "\n",
    "train_Qdlin = torch.permute(train_Qdlin, (0, 2, 1))\n",
    "test_Qdlin = torch.permute(test_Qdlin, (0, 2, 1))\n",
    "secondary_test_Qdlin = torch.permute(secondary_test_Qdlin, (0, 2, 1))\n",
    "\n",
    "print(train_Qdlin.std(),train_Qdlin.mean())\n",
    "print(test_Qdlin.std(),test_Qdlin.mean())\n",
    "print(secondary_test_Qdlin.std(),secondary_test_Qdlin.mean())\n",
    "\n",
    "print(train_Qdlin.shape)\n",
    "print(test_Qdlin.shape)\n",
    "print(secondary_test_Qdlin.shape)"
   ]
  },
  {
   "cell_type": "code",
   "execution_count": 5,
   "id": "aff8de8c",
   "metadata": {},
   "outputs": [],
   "source": [
    "y_train=Training_Data[target_features].to_numpy()\n",
    "y_test=Testing_Data[target_features].to_numpy()\n",
    "y_sec=Secondary_Data[target_features].to_numpy()\n",
    "\n",
    "y_train = torch.tensor(y_train)\n",
    "y_test = torch.tensor(y_test)\n",
    "y_sec = torch.tensor(y_sec)\n",
    "\n",
    "y_train_mean = torch.mean(y_train)\n",
    "y_train = y_train - y_train_mean\n",
    "y_test = y_test - y_train_mean\n",
    "y_sec = y_sec - y_train_mean\n",
    "#Be sure to add y_train_mean and 10** All results"
   ]
  },
  {
   "cell_type": "code",
   "execution_count": 6,
   "id": "df622a5f",
   "metadata": {},
   "outputs": [],
   "source": [
    "from torch.utils.data import Dataset\n",
    "class CustomDataset(Dataset):\n",
    "    def __init__(self, features, targets):\n",
    "        self.features = features\n",
    "        self.targets = targets\n",
    "    \n",
    "    def __getitem__(self, idx):\n",
    "        return self.features[idx], self.targets[idx]\n",
    "  \n",
    "    def __len__(self):\n",
    "        return len(self.features)"
   ]
  },
  {
   "cell_type": "code",
   "execution_count": 7,
   "id": "641f8489",
   "metadata": {},
   "outputs": [],
   "source": [
    "class LSTMRNN(nn.Module):\n",
    "\n",
    "    def __init__(self, input_size, hidden_size, hidden_size2, num_layers,\n",
    "                 dropout, num_dense_neurons):\n",
    "        \n",
    "        super(LSTMRNN, self).__init__()\n",
    "        self.input_size = input_size\n",
    "        self.hidden_size = hidden_size\n",
    "        self.hidden_size2 = hidden_size2\n",
    "        self.num_layers = num_layers\n",
    "        self.dropout = dropout\n",
    "        self.num_dense_neurons = num_dense_neurons\n",
    "        self.firstEpochFlag = True\n",
    "        \n",
    "        self.dropout_layer = nn.Dropout(self.dropout)\n",
    "        \n",
    "        self.lstm = nn.LSTM(input_size = self.input_size,\n",
    "                            hidden_size = self.hidden_size,\n",
    "                            num_layers = self.num_layers,\n",
    "#                             dropout = self.dropout,\n",
    "                            batch_first = True)\n",
    "        \n",
    "        self.lstm2 = nn.LSTM(input_size = self.hidden_size,\n",
    "                            hidden_size = self.hidden_size2,\n",
    "                            num_layers = self.num_layers,\n",
    "#                             dropout = self.dropout,\n",
    "                            batch_first = True)\n",
    "        \n",
    "        self.linear_layer = nn.Sequential(\n",
    "            #nn.Dropout(self.dropout)\n",
    "            nn.Linear(self.hidden_size2, self.num_dense_neurons),\n",
    "            nn.ReLU(),\n",
    "            nn.Linear(num_dense_neurons,1),\n",
    "        )\n",
    "  \n",
    "    def forward(self, x):\n",
    "        if(self.firstEpochFlag):print(x.shape)\n",
    "        h0 = Variable(torch.zeros(self.num_layers, x.shape[0], self.hidden_size,device=x.device))\n",
    "        c0 = Variable(torch.zeros(self.num_layers, x.shape[0], self.hidden_size,device=x.device))\n",
    "        lstm_output,(h1, c1) = self.lstm(x,(h0, c0))\n",
    "        if(self.firstEpochFlag):print(lstm_output.shape)\n",
    "            \n",
    "        h00 = Variable(torch.zeros(self.num_layers, x.shape[0], self.hidden_size2,device=x.device))\n",
    "        c00 = Variable(torch.zeros(self.num_layers, x.shape[0], self.hidden_size2,device=x.device))\n",
    "        lstm_output2,(h2, c2) = self.lstm2(lstm_output,(h00, c00))\n",
    "        if(self.firstEpochFlag):print(lstm_output2.shape)\n",
    "            \n",
    "        flat = lstm_output2[:, -1, :]#last projected timestep (cycle)\n",
    "        if(self.firstEpochFlag):print(flat.shape)\n",
    "        \n",
    "        output = self.linear_layer(flat)\n",
    "        if(self.firstEpochFlag):\n",
    "            (output.shape)\n",
    "            self.firstEpochFlag=False\n",
    "        return output"
   ]
  },
  {
   "cell_type": "code",
   "execution_count": 8,
   "id": "2609a9f8",
   "metadata": {},
   "outputs": [],
   "source": [
    "def train(model,train_loader,criterion,optimizer,epochs,device):\n",
    "    for epoch in range(epochs):\n",
    "        model.train()\n",
    "        for inputs, targets in train_loader:\n",
    "            optimizer.zero_grad()\n",
    "            inputs = inputs.to(device)\n",
    "            targets = targets.to(device)\n",
    "            \n",
    "            outputs = model(inputs)\n",
    "            outputs.to(device)\n",
    "            loss = criterion(outputs, targets)\n",
    "            loss.backward()\n",
    "            optimizer.step()\n",
    "        model.eval()\n",
    "        if(epoch%100 == 0):\n",
    "            print('--',epoch,'-epoch--RMSE-- ',\n",
    "                  np.sqrt(mean_squared_error(10**(targets.cpu().detach().numpy()+y_train_mean.numpy()), \n",
    "                                          10**(outputs.cpu().detach().numpy()+y_train_mean.numpy()))))\n",
    "    return model"
   ]
  },
  {
   "cell_type": "code",
   "execution_count": 9,
   "id": "120180ca",
   "metadata": {},
   "outputs": [],
   "source": [
    "def testALL(model):\n",
    "    dataloaders = [['---RMSE---Train',train_Qdlin_loader],\n",
    "                   ['---RMSE---Test',test_Qdlin_loader],\n",
    "                   ['---RMSE---Test Secondary',secondary_test_Qdlin_loader]]\n",
    "    for dataloader in dataloaders:\n",
    "        for inputs, targets in dataloader[1]:\n",
    "            inputs = inputs.to(device)\n",
    "            targets = targets.to(device)\n",
    "            \n",
    "            outputs = model(inputs)\n",
    "            outputs.to(device)\n",
    "            loss = criterion(outputs, targets)\n",
    "            print(np.sqrt(mean_squared_error(10**(targets.cpu().detach().numpy()+y_train_mean.numpy()), \n",
    "                                             10**(outputs.cpu().detach().numpy()+y_train_mean.numpy()))),dataloader[0])"
   ]
  },
  {
   "cell_type": "code",
   "execution_count": 10,
   "id": "937e5c15",
   "metadata": {},
   "outputs": [],
   "source": [
    "torch.set_default_dtype(torch.float64)"
   ]
  },
  {
   "cell_type": "code",
   "execution_count": 11,
   "id": "b7fc6ebf",
   "metadata": {},
   "outputs": [],
   "source": [
    "train_Dataset = CustomDataset(train_Qdlin,y_train)\n",
    "test_Dataset = CustomDataset(test_Qdlin,y_test)\n",
    "secondary_test_Dataset = CustomDataset(secondary_test_Qdlin,y_sec)\n",
    "\n",
    "train_Qdlin_loader = DataLoader(train_Dataset, batch_size=41, shuffle=True)\n",
    "test_Qdlin_loader = DataLoader(test_Dataset, batch_size=42, shuffle=True)\n",
    "secondary_test_Qdlin_loader = DataLoader(secondary_test_Dataset, batch_size=40, shuffle=True)"
   ]
  },
  {
   "cell_type": "markdown",
   "id": "2cce8271",
   "metadata": {},
   "source": [
    "# Hyper-parameters"
   ]
  },
  {
   "cell_type": "code",
   "execution_count": 12,
   "id": "39cd5aaa",
   "metadata": {},
   "outputs": [],
   "source": [
    "hidden_size = 128 \n",
    "hidden_size2 = 256\n",
    "num_layers = 1\n",
    "dropout = .2\n",
    "num_dense_neurons= 32\n",
    "\n",
    "epochs = 1500\n",
    "lr = 0.0001\n",
    "weight_decay = 0.001"
   ]
  },
  {
   "cell_type": "code",
   "execution_count": 13,
   "id": "fe3ffdf0",
   "metadata": {},
   "outputs": [
    {
     "name": "stdout",
     "output_type": "stream",
     "text": [
      "cuda:0\n"
     ]
    }
   ],
   "source": [
    "input_size=train_Qdlin.shape[2] #FEATURES\n",
    "num_cycles=train_Qdlin.shape[1] #TIMESTEPS(Cycles)\n",
    "\n",
    "device = torch.device(\"cuda:0\" if torch.cuda.is_available() else \"cpu\")\n",
    "#device = torch.device(\"cpu\")\n",
    "print(device)"
   ]
  },
  {
   "cell_type": "markdown",
   "id": "d7b9ed4a",
   "metadata": {},
   "source": [
    "# Train & Test"
   ]
  },
  {
   "cell_type": "code",
   "execution_count": 14,
   "id": "47967e7c",
   "metadata": {},
   "outputs": [
    {
     "name": "stdout",
     "output_type": "stream",
     "text": [
      "torch.Size([41, 99, 100])\n",
      "torch.Size([41, 99, 128])\n",
      "torch.Size([41, 99, 256])\n",
      "torch.Size([41, 256])\n",
      "-- 0 -epoch--RMSE--  325.713504214364\n",
      "-- 100 -epoch--RMSE--  191.60093282624348\n",
      "-- 200 -epoch--RMSE--  118.58940215229036\n",
      "-- 300 -epoch--RMSE--  84.2295624764314\n",
      "-- 400 -epoch--RMSE--  65.92709414591444\n",
      "-- 500 -epoch--RMSE--  52.18300708080519\n",
      "-- 600 -epoch--RMSE--  46.43477470967451\n",
      "-- 700 -epoch--RMSE--  43.97749221237031\n",
      "-- 800 -epoch--RMSE--  42.366674639828105\n",
      "-- 900 -epoch--RMSE--  38.88688856498636\n",
      "-- 1000 -epoch--RMSE--  37.52256793585603\n",
      "-- 1100 -epoch--RMSE--  36.52446165852783\n",
      "-- 1200 -epoch--RMSE--  35.78776480837691\n",
      "-- 1300 -epoch--RMSE--  35.32158666670042\n",
      "-- 1400 -epoch--RMSE--  34.85211871891183\n"
     ]
    }
   ],
   "source": [
    "criterion=nn.MSELoss()\n",
    "model=LSTMRNN(input_size, hidden_size, hidden_size2, num_layers,dropout, num_dense_neurons)\n",
    "optimizer=optim.Adam(model.parameters(),weight_decay=weight_decay, lr=lr)\n",
    "model = model.to(device)\n",
    "model = train(model,train_Qdlin_loader,criterion,optimizer,epochs,device)"
   ]
  },
  {
   "cell_type": "code",
   "execution_count": 15,
   "id": "7a32a6ad",
   "metadata": {},
   "outputs": [
    {
     "name": "stdout",
     "output_type": "stream",
     "text": [
      "35.13341232095763 ---RMSE---Train\n",
      "101.92579699870431 ---RMSE---Test\n",
      "193.827633377642 ---RMSE---Test Secondary\n"
     ]
    }
   ],
   "source": [
    "testALL(model)"
   ]
  },
  {
   "cell_type": "markdown",
   "id": "98056e7d",
   "metadata": {},
   "source": [
    "################################################################################\n",
    "\n",
    "# Repeat using only the first 60 cycles\n",
    "\n",
    "################################################################################"
   ]
  },
  {
   "cell_type": "code",
   "execution_count": 16,
   "id": "6e3ced16",
   "metadata": {},
   "outputs": [],
   "source": [
    "#Load tabular data\n",
    "Dataset=pd.read_csv(r'data/TabularSummaryBatteryData-60Cycles.csv')\n",
    "\n",
    "# Scale target Battery life By log 10\n",
    "Dataset['cell_life']=np.log10(Dataset['cell_life'])\n",
    "\n",
    "Training_Data=Dataset.iloc[train_ind]\n",
    "Testing_Data=Dataset.iloc[test_edited_ind]\n",
    "Secondary_Data=Dataset.iloc[secondary_test_ind]\n",
    "\n",
    "#choosing model features According to table 1\n",
    "target_features=['cell_life']\n",
    "\n",
    "varmod_features=['variance_dQ_60_10']\n",
    "\n",
    "dismod_features=['minimum_dQ_60_10',\n",
    "                 'variance_dQ_60_10',\n",
    "                 'skewness_dQ_60_10',\n",
    "                 'kurtosis_dQ_60_10',\n",
    "                 'Discharge_Cap_2',\n",
    "                 'Diff_MaxCap_DC2']\n",
    "    \n",
    "full_features=['minimum_dQ_60_10',\n",
    "               'variance_dQ_60_10',\n",
    "               'Slope_Cap_Fade_2_60',\n",
    "               'Intercept_Cap_Fade_2_60',\n",
    "               'Diff_MaxCap_DC2',\n",
    "               'Discharge_Cap_2',\n",
    "               'Avg_charge_time',\n",
    "               'Temp_Integ_2_60',\n",
    "               'Min_IR',\n",
    "               'Diff_IR_2_60']"
   ]
  },
  {
   "cell_type": "code",
   "execution_count": 17,
   "id": "e9c54320",
   "metadata": {},
   "outputs": [],
   "source": [
    "#Use only the discharge model Tabular features\n",
    "features = dismod_features #full_features\n",
    "X_train=Training_Data[features].to_numpy()\n",
    "X_test=Testing_Data[features].to_numpy()\n",
    "X_sec=Secondary_Data[features].to_numpy()\n",
    "\n",
    "#Scale\n",
    "scaler = preprocessing.StandardScaler().fit(X_train)\n",
    "Tabular_Train = scaler.transform(X_train)\n",
    "Tabular_test = scaler.transform(X_test)\n",
    "Tabular_sec = scaler.transform(X_sec)"
   ]
  },
  {
   "cell_type": "code",
   "execution_count": 18,
   "id": "ba5ef50e",
   "metadata": {},
   "outputs": [
    {
     "name": "stdout",
     "output_type": "stream",
     "text": [
      "tensor(1.1621) tensor(-0.8226)\n",
      "tensor(1.0245) tensor(-0.7291)\n",
      "tensor(0.5661) tensor(-0.3582)\n",
      "torch.Size([41, 99, 60])\n",
      "torch.Size([42, 99, 60])\n",
      "torch.Size([40, 99, 60])\n"
     ]
    }
   ],
   "source": [
    "#Load discharge capacity data\n",
    "train_Qdlin=torch.load(r'data/DischargeCapacity-InterpolatedData_Train.pt')\n",
    "test_Qdlin=torch.load(r'data/DischargeCapacity-InterpolatedData_Test.pt')\n",
    "secondary_test_Qdlin=torch.load(r'data/DischargeCapacity-InterpolatedData_Secondary_Test.pt')\n",
    "\n",
    "train_Qdlin = train_Qdlin[:,:60,:]\n",
    "test_Qdlin = test_Qdlin[:,:60,:]\n",
    "secondary_test_Qdlin = secondary_test_Qdlin[:,:60,:]\n",
    "\n",
    "train_Qdlin = torch.permute(train_Qdlin, (0, 2, 1))\n",
    "test_Qdlin = torch.permute(test_Qdlin, (0, 2, 1))\n",
    "secondary_test_Qdlin = torch.permute(secondary_test_Qdlin, (0, 2, 1))\n",
    "\n",
    "print(train_Qdlin.std(),train_Qdlin.mean())\n",
    "print(test_Qdlin.std(),test_Qdlin.mean())\n",
    "print(secondary_test_Qdlin.std(),secondary_test_Qdlin.mean())\n",
    "\n",
    "print(train_Qdlin.shape)\n",
    "print(test_Qdlin.shape)\n",
    "print(secondary_test_Qdlin.shape)"
   ]
  },
  {
   "cell_type": "code",
   "execution_count": 19,
   "id": "61d524db",
   "metadata": {},
   "outputs": [],
   "source": [
    "y_train=Training_Data[target_features].to_numpy()\n",
    "y_test=Testing_Data[target_features].to_numpy()\n",
    "y_sec=Secondary_Data[target_features].to_numpy()\n",
    "\n",
    "y_train = torch.tensor(y_train)\n",
    "y_test = torch.tensor(y_test)\n",
    "y_sec = torch.tensor(y_sec)\n",
    "\n",
    "y_train_mean = torch.mean(y_train)\n",
    "y_train = y_train - y_train_mean\n",
    "y_test = y_test - y_train_mean\n",
    "y_sec = y_sec - y_train_mean\n",
    "#Be sure to add y_train_mean and 10** All results"
   ]
  },
  {
   "cell_type": "code",
   "execution_count": 20,
   "id": "3c7538c7",
   "metadata": {},
   "outputs": [],
   "source": [
    "torch.set_default_dtype(torch.float64)"
   ]
  },
  {
   "cell_type": "code",
   "execution_count": 21,
   "id": "d52ce2dc",
   "metadata": {},
   "outputs": [],
   "source": [
    "train_Dataset = CustomDataset(train_Qdlin,y_train)\n",
    "test_Dataset = CustomDataset(test_Qdlin,y_test)\n",
    "secondary_test_Dataset = CustomDataset(secondary_test_Qdlin,y_sec)\n",
    "\n",
    "train_Qdlin_loader = DataLoader(train_Dataset, batch_size=41, shuffle=True)\n",
    "test_Qdlin_loader = DataLoader(test_Dataset, batch_size=42, shuffle=True)\n",
    "secondary_test_Qdlin_loader = DataLoader(secondary_test_Dataset, batch_size=40, shuffle=True)"
   ]
  },
  {
   "cell_type": "markdown",
   "id": "7dc938a4",
   "metadata": {},
   "source": [
    "# Hyper-parameters"
   ]
  },
  {
   "cell_type": "code",
   "execution_count": 22,
   "id": "00153586",
   "metadata": {},
   "outputs": [],
   "source": [
    "hidden_size = 128 \n",
    "hidden_size2 = 256\n",
    "num_layers = 1\n",
    "dropout = .2\n",
    "num_dense_neurons= 32\n",
    "\n",
    "epochs = 1500\n",
    "lr = 0.0001\n",
    "weight_decay = 0.001"
   ]
  },
  {
   "cell_type": "code",
   "execution_count": 23,
   "id": "ff38c98f",
   "metadata": {},
   "outputs": [
    {
     "name": "stdout",
     "output_type": "stream",
     "text": [
      "cuda:0\n"
     ]
    }
   ],
   "source": [
    "input_size=train_Qdlin.shape[2] #FEATURES\n",
    "num_cycles=train_Qdlin.shape[1] #TIMESTEPS(Cycles)\n",
    "\n",
    "#device = torch.device(\"cuda:0\" if torch.cuda.is_available() else \"cpu\")\n",
    "#device = torch.device(\"cpu\")\n",
    "print(device)"
   ]
  },
  {
   "cell_type": "markdown",
   "id": "e89538da",
   "metadata": {},
   "source": [
    "# Train & Test"
   ]
  },
  {
   "cell_type": "code",
   "execution_count": 24,
   "id": "4d306f3c",
   "metadata": {},
   "outputs": [
    {
     "name": "stdout",
     "output_type": "stream",
     "text": [
      "torch.Size([41, 99, 60])\n",
      "torch.Size([41, 99, 128])\n",
      "torch.Size([41, 99, 256])\n",
      "torch.Size([41, 256])\n",
      "-- 0 -epoch--RMSE--  336.980383494875\n",
      "-- 100 -epoch--RMSE--  196.49968004765717\n",
      "-- 200 -epoch--RMSE--  131.85181522835035\n",
      "-- 300 -epoch--RMSE--  94.58795444219324\n",
      "-- 400 -epoch--RMSE--  76.86408492435504\n",
      "-- 500 -epoch--RMSE--  67.48869808237947\n",
      "-- 600 -epoch--RMSE--  59.78603669183872\n",
      "-- 700 -epoch--RMSE--  55.16332345419964\n",
      "-- 800 -epoch--RMSE--  51.36938232273512\n",
      "-- 900 -epoch--RMSE--  73.4541346743964\n",
      "-- 1000 -epoch--RMSE--  45.78932029781354\n",
      "-- 1100 -epoch--RMSE--  42.95469577445578\n",
      "-- 1200 -epoch--RMSE--  42.12922462716005\n",
      "-- 1300 -epoch--RMSE--  40.427754874988594\n",
      "-- 1400 -epoch--RMSE--  39.86140423345441\n"
     ]
    }
   ],
   "source": [
    "criterion=nn.MSELoss()\n",
    "model=LSTMRNN(input_size, hidden_size, hidden_size2, num_layers,dropout, num_dense_neurons)\n",
    "optimizer=optim.Adam(model.parameters(),weight_decay=weight_decay, lr=lr)\n",
    "model = model.to(device)\n",
    "model = train(model,train_Qdlin_loader,criterion,optimizer,epochs,device)"
   ]
  },
  {
   "cell_type": "code",
   "execution_count": 25,
   "id": "af35de45",
   "metadata": {},
   "outputs": [
    {
     "name": "stdout",
     "output_type": "stream",
     "text": [
      "38.01373387863486 ---RMSE---Train\n",
      "316.0990761642964 ---RMSE---Test\n",
      "220.24435392175144 ---RMSE---Test Secondary\n"
     ]
    }
   ],
   "source": [
    "testALL(model)"
   ]
  },
  {
   "cell_type": "markdown",
   "id": "50157b5d",
   "metadata": {},
   "source": [
    "################################################################################\n",
    "\n",
    "# Repeat using only the first 40 cycles\n",
    "\n",
    "################################################################################"
   ]
  },
  {
   "cell_type": "code",
   "execution_count": 26,
   "id": "6f366c36",
   "metadata": {},
   "outputs": [],
   "source": [
    "#Load tabular data\n",
    "Dataset=pd.read_csv(r'data/TabularSummaryBatteryData-40Cycles.csv')\n",
    "\n",
    "# Scale target Battery life By log 10\n",
    "Dataset['cell_life']=np.log10(Dataset['cell_life'])\n",
    "\n",
    "numBat1=41\n",
    "numBat2=43\n",
    "numBat3=40\n",
    "numBat=124\n",
    "test_ind = np.hstack((np.arange(0,(numBat1+numBat2),2),83))\n",
    "test_edited_ind = np.delete(test_ind, 21) # Remove battery \n",
    "train_ind = np.arange(1,(numBat1+numBat2-1),2)\n",
    "secondary_test_ind = np.arange(numBat-numBat3,numBat)\n",
    "\n",
    "Training_Data=Dataset.iloc[train_ind]\n",
    "Testing_Data=Dataset.iloc[test_edited_ind]\n",
    "Secondary_Data=Dataset.iloc[secondary_test_ind]\n",
    "\n",
    "#choosing model features According to table 1\n",
    "target_features=['cell_life']\n",
    "\n",
    "varmod_features=['variance_dQ_40_10']\n",
    "\n",
    "dismod_features=['minimum_dQ_40_10',\n",
    "                 'variance_dQ_40_10',\n",
    "                 'skewness_dQ_40_10',\n",
    "                 'kurtosis_dQ_40_10',\n",
    "                 'Discharge_Cap_2',\n",
    "                 'Diff_MaxCap_DC2']\n",
    "    \n",
    "full_features=['minimum_dQ_40_10',\n",
    "               'variance_dQ_40_10',\n",
    "               'Slope_Cap_Fade_2_40',\n",
    "               'Intercept_Cap_Fade_2_40',\n",
    "               'Diff_MaxCap_DC2',\n",
    "               'Discharge_Cap_2',\n",
    "               'Avg_charge_time',\n",
    "               'Temp_Integ_2_40',\n",
    "               'Min_IR',\n",
    "               'Diff_IR_2_40']"
   ]
  },
  {
   "cell_type": "code",
   "execution_count": 27,
   "id": "87e1cfdd",
   "metadata": {},
   "outputs": [],
   "source": [
    "#Use only the discharge model Tabular features\n",
    "features = dismod_features #full_features\n",
    "X_train=Training_Data[features].to_numpy()\n",
    "X_test=Testing_Data[features].to_numpy()\n",
    "X_sec=Secondary_Data[features].to_numpy()\n",
    "\n",
    "#Scale\n",
    "scaler = preprocessing.StandardScaler().fit(X_train)\n",
    "Tabular_Train = scaler.transform(X_train)\n",
    "Tabular_test = scaler.transform(X_test)\n",
    "Tabular_sec = scaler.transform(X_sec)"
   ]
  },
  {
   "cell_type": "code",
   "execution_count": 28,
   "id": "5673b728",
   "metadata": {},
   "outputs": [
    {
     "name": "stdout",
     "output_type": "stream",
     "text": [
      "tensor(1.1242) tensor(-0.6322)\n",
      "tensor(0.9673) tensor(-0.5410)\n",
      "tensor(0.5148) tensor(-0.2270)\n",
      "torch.Size([41, 99, 40])\n",
      "torch.Size([42, 99, 40])\n",
      "torch.Size([40, 99, 40])\n"
     ]
    }
   ],
   "source": [
    "#Load discharge capacity data\n",
    "train_Qdlin=torch.load(r'data/DischargeCapacity-InterpolatedData_Train.pt')\n",
    "test_Qdlin=torch.load(r'data/DischargeCapacity-InterpolatedData_Test.pt')\n",
    "secondary_test_Qdlin=torch.load(r'data/DischargeCapacity-InterpolatedData_Secondary_Test.pt')\n",
    "\n",
    "train_Qdlin = train_Qdlin[:,:40,:]\n",
    "test_Qdlin = test_Qdlin[:,:40,:]\n",
    "secondary_test_Qdlin = secondary_test_Qdlin[:,:40,:]\n",
    "\n",
    "train_Qdlin = torch.permute(train_Qdlin, (0, 2, 1))\n",
    "test_Qdlin = torch.permute(test_Qdlin, (0, 2, 1))\n",
    "secondary_test_Qdlin = torch.permute(secondary_test_Qdlin, (0, 2, 1))\n",
    "\n",
    "print(train_Qdlin.std(),train_Qdlin.mean())\n",
    "print(test_Qdlin.std(),test_Qdlin.mean())\n",
    "print(secondary_test_Qdlin.std(),secondary_test_Qdlin.mean())\n",
    "\n",
    "print(train_Qdlin.shape)\n",
    "print(test_Qdlin.shape)\n",
    "print(secondary_test_Qdlin.shape)"
   ]
  },
  {
   "cell_type": "code",
   "execution_count": 29,
   "id": "c6c8255b",
   "metadata": {},
   "outputs": [],
   "source": [
    "y_train=Training_Data[target_features].to_numpy()\n",
    "y_test=Testing_Data[target_features].to_numpy()\n",
    "y_sec=Secondary_Data[target_features].to_numpy()\n",
    "\n",
    "y_train = torch.tensor(y_train)\n",
    "y_test = torch.tensor(y_test)\n",
    "y_sec = torch.tensor(y_sec)\n",
    "\n",
    "y_train_mean = torch.mean(y_train)\n",
    "y_train = y_train - y_train_mean\n",
    "y_test = y_test - y_train_mean\n",
    "y_sec = y_sec - y_train_mean\n",
    "#Be sure to add y_train_mean and 10** All results"
   ]
  },
  {
   "cell_type": "code",
   "execution_count": 30,
   "id": "98819d2f",
   "metadata": {},
   "outputs": [],
   "source": [
    "torch.set_default_dtype(torch.float64)"
   ]
  },
  {
   "cell_type": "code",
   "execution_count": 31,
   "id": "867984a3",
   "metadata": {},
   "outputs": [],
   "source": [
    "train_Dataset = CustomDataset(train_Qdlin,y_train)\n",
    "test_Dataset = CustomDataset(test_Qdlin,y_test)\n",
    "secondary_test_Dataset = CustomDataset(secondary_test_Qdlin,y_sec)\n",
    "\n",
    "train_Qdlin_loader = DataLoader(train_Dataset, batch_size=41, shuffle=True)\n",
    "test_Qdlin_loader = DataLoader(test_Dataset, batch_size=42, shuffle=True)\n",
    "secondary_test_Qdlin_loader = DataLoader(secondary_test_Dataset, batch_size=40, shuffle=True)"
   ]
  },
  {
   "cell_type": "markdown",
   "id": "b1c9ccba",
   "metadata": {},
   "source": [
    "# Hyper-parameters"
   ]
  },
  {
   "cell_type": "code",
   "execution_count": 32,
   "id": "262d8a6e",
   "metadata": {},
   "outputs": [],
   "source": [
    "hidden_size = 128 \n",
    "hidden_size2 = 256\n",
    "num_layers = 1\n",
    "dropout = .2\n",
    "num_dense_neurons= 32\n",
    "\n",
    "epochs = 1500\n",
    "lr = 0.0001\n",
    "weight_decay = 0.001"
   ]
  },
  {
   "cell_type": "code",
   "execution_count": 33,
   "id": "769ace5c",
   "metadata": {},
   "outputs": [
    {
     "name": "stdout",
     "output_type": "stream",
     "text": [
      "cuda:0\n"
     ]
    }
   ],
   "source": [
    "input_size=train_Qdlin.shape[2] #FEATURES\n",
    "num_cycles=train_Qdlin.shape[1] #TIMESTEPS(Cycles)\n",
    "\n",
    "#device = torch.device(\"cuda:0\" if torch.cuda.is_available() else \"cpu\")\n",
    "#device = torch.device(\"cpu\")\n",
    "print(device)"
   ]
  },
  {
   "cell_type": "markdown",
   "id": "6525359a",
   "metadata": {},
   "source": [
    "# Train & Test"
   ]
  },
  {
   "cell_type": "code",
   "execution_count": 34,
   "id": "ed611480",
   "metadata": {},
   "outputs": [
    {
     "name": "stdout",
     "output_type": "stream",
     "text": [
      "torch.Size([41, 99, 40])\n",
      "torch.Size([41, 99, 128])\n",
      "torch.Size([41, 99, 256])\n",
      "torch.Size([41, 256])\n",
      "-- 0 -epoch--RMSE--  387.82345400475833\n",
      "-- 100 -epoch--RMSE--  231.02371741920018\n",
      "-- 200 -epoch--RMSE--  161.34816570365788\n",
      "-- 300 -epoch--RMSE--  117.59941719377098\n",
      "-- 400 -epoch--RMSE--  97.1692954897887\n",
      "-- 500 -epoch--RMSE--  83.92618162525962\n",
      "-- 600 -epoch--RMSE--  75.16752533875761\n",
      "-- 700 -epoch--RMSE--  70.29143260286499\n",
      "-- 800 -epoch--RMSE--  65.6664380335742\n",
      "-- 900 -epoch--RMSE--  60.81222405996365\n",
      "-- 1000 -epoch--RMSE--  57.321212439421764\n",
      "-- 1100 -epoch--RMSE--  55.91336577830687\n",
      "-- 1200 -epoch--RMSE--  52.41775168707287\n",
      "-- 1300 -epoch--RMSE--  50.814699551522054\n",
      "-- 1400 -epoch--RMSE--  50.270284811912354\n"
     ]
    }
   ],
   "source": [
    "criterion=nn.MSELoss()\n",
    "model=LSTMRNN(input_size, hidden_size, hidden_size2, num_layers,dropout, num_dense_neurons)\n",
    "optimizer=optim.Adam(model.parameters(),weight_decay=weight_decay, lr=lr)\n",
    "model = model.to(device)\n",
    "model = train(model,train_Qdlin_loader,criterion,optimizer,epochs,device)"
   ]
  },
  {
   "cell_type": "code",
   "execution_count": 35,
   "id": "9d5a5d98",
   "metadata": {},
   "outputs": [
    {
     "name": "stdout",
     "output_type": "stream",
     "text": [
      "49.102041404710235 ---RMSE---Train\n",
      "127.33127071883881 ---RMSE---Test\n",
      "218.38383932885077 ---RMSE---Test Secondary\n"
     ]
    }
   ],
   "source": [
    "testALL(model)"
   ]
  },
  {
   "cell_type": "markdown",
   "id": "eb7be4e5",
   "metadata": {},
   "source": [
    "################################################################################\n",
    "\n",
    "# Repeat using only the first 20 cycles\n",
    "\n",
    "################################################################################"
   ]
  },
  {
   "cell_type": "code",
   "execution_count": 36,
   "id": "6da239b7",
   "metadata": {},
   "outputs": [],
   "source": [
    "#Load tabular data\n",
    "Dataset=pd.read_csv(r'data/TabularSummaryBatteryData-20Cycles.csv')\n",
    "\n",
    "# Scale target Battery life By log 10\n",
    "Dataset['cell_life']=np.log10(Dataset['cell_life'])\n",
    "\n",
    "Training_Data=Dataset.iloc[train_ind]\n",
    "Testing_Data=Dataset.iloc[test_edited_ind]\n",
    "Secondary_Data=Dataset.iloc[secondary_test_ind]\n",
    "\n",
    "#choosing model features According to table 1\n",
    "target_features=['cell_life']\n",
    "\n",
    "varmod_features=['variance_dQ_20_10']\n",
    "\n",
    "dismod_features=['minimum_dQ_20_10',\n",
    "                 'variance_dQ_20_10',\n",
    "                 'skewness_dQ_20_10',\n",
    "                 'kurtosis_dQ_20_10',\n",
    "                 'Discharge_Cap_2',\n",
    "                 'Diff_MaxCap_DC2']\n",
    "    \n",
    "full_features=['minimum_dQ_20_10',\n",
    "               'variance_dQ_20_10',\n",
    "               'Slope_Cap_Fade_2_20',\n",
    "               'Intercept_Cap_Fade_2_20',\n",
    "               'Diff_MaxCap_DC2',\n",
    "               'Discharge_Cap_2',\n",
    "               'Avg_charge_time',\n",
    "               'Temp_Integ_2_20',\n",
    "               'Min_IR',\n",
    "               'Diff_IR_2_20']"
   ]
  },
  {
   "cell_type": "code",
   "execution_count": 37,
   "id": "5a88904e",
   "metadata": {},
   "outputs": [],
   "source": [
    "#Use only the discharge model Tabular features\n",
    "features = dismod_features #full_features\n",
    "X_train=Training_Data[features].to_numpy()\n",
    "X_test=Testing_Data[features].to_numpy()\n",
    "X_sec=Secondary_Data[features].to_numpy()\n",
    "\n",
    "#Scale\n",
    "scaler = preprocessing.StandardScaler().fit(X_train)\n",
    "Tabular_Train = scaler.transform(X_train)\n",
    "Tabular_test = scaler.transform(X_test)\n",
    "Tabular_sec = scaler.transform(X_sec)"
   ]
  },
  {
   "cell_type": "code",
   "execution_count": 38,
   "id": "c3f48e61",
   "metadata": {},
   "outputs": [
    {
     "name": "stdout",
     "output_type": "stream",
     "text": [
      "tensor(0.0264) tensor(-0.0102)\n",
      "tensor(0.0276) tensor(-0.0079)\n",
      "tensor(0.0151) tensor(0.0023)\n",
      "torch.Size([41, 99, 20])\n",
      "torch.Size([42, 99, 20])\n",
      "torch.Size([40, 99, 20])\n"
     ]
    }
   ],
   "source": [
    "#Load discharge capacity data\n",
    "train_Qdlin=torch.load(r'data/DischargeCapacity-InterpolatedData_Train.pt')\n",
    "test_Qdlin=torch.load(r'data/DischargeCapacity-InterpolatedData_Test.pt')\n",
    "secondary_test_Qdlin=torch.load(r'data/DischargeCapacity-InterpolatedData_Secondary_Test.pt')\n",
    "\n",
    "train_Qdlin = train_Qdlin[:,:20,:]\n",
    "test_Qdlin = test_Qdlin[:,:20,:]\n",
    "secondary_test_Qdlin = secondary_test_Qdlin[:,:20,:]\n",
    "\n",
    "train_Qdlin = torch.permute(train_Qdlin, (0, 2, 1))\n",
    "test_Qdlin = torch.permute(test_Qdlin, (0, 2, 1))\n",
    "secondary_test_Qdlin = torch.permute(secondary_test_Qdlin, (0, 2, 1))\n",
    "\n",
    "print(train_Qdlin.std(),train_Qdlin.mean())\n",
    "print(test_Qdlin.std(),test_Qdlin.mean())\n",
    "print(secondary_test_Qdlin.std(),secondary_test_Qdlin.mean())\n",
    "\n",
    "print(train_Qdlin.shape)\n",
    "print(test_Qdlin.shape)\n",
    "print(secondary_test_Qdlin.shape)"
   ]
  },
  {
   "cell_type": "code",
   "execution_count": 39,
   "id": "0b240e43",
   "metadata": {},
   "outputs": [],
   "source": [
    "y_train=Training_Data[target_features].to_numpy()\n",
    "y_test=Testing_Data[target_features].to_numpy()\n",
    "y_sec=Secondary_Data[target_features].to_numpy()\n",
    "\n",
    "y_train = torch.tensor(y_train)\n",
    "y_test = torch.tensor(y_test)\n",
    "y_sec = torch.tensor(y_sec)\n",
    "\n",
    "y_train_mean = torch.mean(y_train)\n",
    "y_train = y_train - y_train_mean\n",
    "y_test = y_test - y_train_mean\n",
    "y_sec = y_sec - y_train_mean\n",
    "#Be sure to add y_train_mean and 10** All results"
   ]
  },
  {
   "cell_type": "code",
   "execution_count": 40,
   "id": "16b33413",
   "metadata": {},
   "outputs": [],
   "source": [
    "torch.set_default_dtype(torch.float64)"
   ]
  },
  {
   "cell_type": "code",
   "execution_count": 41,
   "id": "e440fb94",
   "metadata": {},
   "outputs": [],
   "source": [
    "train_Dataset = CustomDataset(train_Qdlin,y_train)\n",
    "test_Dataset = CustomDataset(test_Qdlin,y_test)\n",
    "secondary_test_Dataset = CustomDataset(secondary_test_Qdlin,y_sec)\n",
    "\n",
    "train_Qdlin_loader = DataLoader(train_Dataset, batch_size=41, shuffle=True)\n",
    "test_Qdlin_loader = DataLoader(test_Dataset, batch_size=42, shuffle=True)\n",
    "secondary_test_Qdlin_loader = DataLoader(secondary_test_Dataset, batch_size=40, shuffle=True)"
   ]
  },
  {
   "cell_type": "markdown",
   "id": "d7c0de1a",
   "metadata": {},
   "source": [
    "# Hyper-parameters"
   ]
  },
  {
   "cell_type": "code",
   "execution_count": 42,
   "id": "5f7d8a41",
   "metadata": {},
   "outputs": [],
   "source": [
    "hidden_size = 128 \n",
    "hidden_size2 = 256\n",
    "num_layers = 1\n",
    "dropout = .2\n",
    "num_dense_neurons= 32\n",
    "\n",
    "epochs = 1500\n",
    "lr = 0.0001\n",
    "weight_decay = 0.001"
   ]
  },
  {
   "cell_type": "code",
   "execution_count": 43,
   "id": "3c1ac420",
   "metadata": {},
   "outputs": [
    {
     "name": "stdout",
     "output_type": "stream",
     "text": [
      "cuda:0\n"
     ]
    }
   ],
   "source": [
    "input_size=train_Qdlin.shape[2] #FEATURES\n",
    "num_cycles=train_Qdlin.shape[1] #TIMESTEPS(Cycles)\n",
    "\n",
    "#device = torch.device(\"cuda:0\" if torch.cuda.is_available() else \"cpu\")\n",
    "#device = torch.device(\"cpu\")\n",
    "print(device)"
   ]
  },
  {
   "cell_type": "markdown",
   "id": "8f9470c1",
   "metadata": {},
   "source": [
    "# Train & Test"
   ]
  },
  {
   "cell_type": "code",
   "execution_count": 44,
   "id": "e71a0a1c",
   "metadata": {},
   "outputs": [
    {
     "name": "stdout",
     "output_type": "stream",
     "text": [
      "torch.Size([41, 99, 20])\n",
      "torch.Size([41, 99, 128])\n",
      "torch.Size([41, 99, 256])\n",
      "torch.Size([41, 256])\n",
      "-- 0 -epoch--RMSE--  406.70545410406277\n",
      "-- 100 -epoch--RMSE--  336.972133521836\n",
      "-- 200 -epoch--RMSE--  328.768479356721\n",
      "-- 300 -epoch--RMSE--  327.93505631874046\n",
      "-- 400 -epoch--RMSE--  327.40083276683\n",
      "-- 500 -epoch--RMSE--  327.05558389324045\n",
      "-- 600 -epoch--RMSE--  326.74161711126993\n",
      "-- 700 -epoch--RMSE--  326.34575942098985\n",
      "-- 800 -epoch--RMSE--  325.98953696199857\n",
      "-- 900 -epoch--RMSE--  325.54888849489254\n",
      "-- 1000 -epoch--RMSE--  324.843735394601\n",
      "-- 1100 -epoch--RMSE--  322.77074457560974\n",
      "-- 1200 -epoch--RMSE--  303.35357576383547\n",
      "-- 1300 -epoch--RMSE--  292.0158526953501\n",
      "-- 1400 -epoch--RMSE--  282.4533127902077\n"
     ]
    }
   ],
   "source": [
    "criterion=nn.MSELoss()\n",
    "model=LSTMRNN(input_size, hidden_size, hidden_size2, num_layers,dropout, num_dense_neurons)\n",
    "optimizer=optim.Adam(model.parameters(),weight_decay=weight_decay, lr=lr)\n",
    "model = model.to(device)\n",
    "model = train(model,train_Qdlin_loader,criterion,optimizer,epochs,device)"
   ]
  },
  {
   "cell_type": "code",
   "execution_count": 45,
   "id": "28253348",
   "metadata": {},
   "outputs": [
    {
     "name": "stdout",
     "output_type": "stream",
     "text": [
      "271.0041192484168 ---RMSE---Train\n",
      "352.45137838225827 ---RMSE---Test\n",
      "281.1825573607863 ---RMSE---Test Secondary\n"
     ]
    }
   ],
   "source": [
    "testALL(model)"
   ]
  },
  {
   "cell_type": "code",
   "execution_count": null,
   "id": "7df4b4e2",
   "metadata": {},
   "outputs": [],
   "source": []
  },
  {
   "cell_type": "code",
   "execution_count": null,
   "id": "ba25af60",
   "metadata": {},
   "outputs": [],
   "source": []
  },
  {
   "cell_type": "code",
   "execution_count": null,
   "id": "1b68ff80",
   "metadata": {},
   "outputs": [],
   "source": []
  },
  {
   "cell_type": "code",
   "execution_count": null,
   "id": "d444ce2c",
   "metadata": {},
   "outputs": [],
   "source": []
  },
  {
   "cell_type": "code",
   "execution_count": null,
   "id": "25d9bae4",
   "metadata": {},
   "outputs": [],
   "source": []
  },
  {
   "cell_type": "code",
   "execution_count": null,
   "id": "1780fad3",
   "metadata": {},
   "outputs": [],
   "source": []
  },
  {
   "cell_type": "code",
   "execution_count": null,
   "id": "262a3e47",
   "metadata": {},
   "outputs": [],
   "source": []
  },
  {
   "cell_type": "code",
   "execution_count": null,
   "id": "f6d620ab",
   "metadata": {},
   "outputs": [],
   "source": []
  },
  {
   "cell_type": "code",
   "execution_count": null,
   "id": "13323c59",
   "metadata": {},
   "outputs": [],
   "source": []
  }
 ],
 "metadata": {
  "kernelspec": {
   "display_name": "Python 3 (ipykernel)",
   "language": "python",
   "name": "python3"
  },
  "language_info": {
   "codemirror_mode": {
    "name": "ipython",
    "version": 3
   },
   "file_extension": ".py",
   "mimetype": "text/x-python",
   "name": "python",
   "nbconvert_exporter": "python",
   "pygments_lexer": "ipython3",
   "version": "3.9.7"
  }
 },
 "nbformat": 4,
 "nbformat_minor": 5
}
